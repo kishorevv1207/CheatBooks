{
 "cells": [
  {
   "cell_type": "markdown",
   "id": "e585a319",
   "metadata": {},
   "source": [
    "#PythonFunQuiz #CodeChallenge  #PythonPuzzle  #LearnWithPython  #PythonDailyDose  #TechTrivia   #DevQuiz  #CodeAndLearn  #PythonMindBender  #LinkedInQuizSeries  #PythonInterviewPrep  #PythonBytes  #CodeSmarter  #PythonCheatbook  #QuizWithKishore  #PythonCommunityChallenge  #PythonLogicUnlocked"
   ]
  },
  {
   "cell_type": "code",
   "execution_count": null,
   "id": "dbd71e3f",
   "metadata": {},
   "outputs": [
    {
     "name": "stdout",
     "output_type": "stream",
     "text": [
      "e\n"
     ]
    },
    {
     "data": {
      "text/plain": [
       "\"\\nA. re\\nB. e\\nC. '' (empty string)\\nD. IndexError: string index out of range\\n\""
      ]
     },
     "execution_count": 5,
     "metadata": {},
     "output_type": "execute_result"
    }
   ],
   "source": [
    "Python_quiz_no = 1\n",
    "\n",
    "name = 'Kishore'\n",
    "print(name[6:12])\n",
    "\n",
    "\"\"\"\n",
    "A. re\n",
    "B. e\n",
    "C. '' (empty string)\n",
    "D. IndexError: string index out of range\n",
    "\"\"\""
   ]
  },
  {
   "cell_type": "code",
   "execution_count": null,
   "id": "be4d05c3",
   "metadata": {},
   "outputs": [
    {
     "name": "stdout",
     "output_type": "stream",
     "text": [
      "0\n"
     ]
    },
    {
     "data": {
      "text/plain": [
       "'A 0\\nB 1\\nC 1024\\nD TypeError: unsupported operand type(s)'"
      ]
     },
     "execution_count": 1,
     "metadata": {},
     "output_type": "execute_result"
    }
   ],
   "source": [
    "Python_quiz_no = 2\n",
    "\n",
    "x = 1\n",
    "print(x >> 1)\n",
    "\n",
    "\"\"\"\n",
    "A 0\n",
    "B 1\n",
    "C 1024\n",
    "D TypeError: unsupported operand type(s)\n",
    "\"\"\"\n",
    "\n"
   ]
  },
  {
   "cell_type": "code",
   "execution_count": 7,
   "id": "0f47d360",
   "metadata": {},
   "outputs": [
    {
     "name": "stdout",
     "output_type": "stream",
     "text": [
      "[1, 2]\n"
     ]
    }
   ],
   "source": [
    "nums = [3,2,4]\n",
    "target = 6\n",
    "index = []\n",
    "\n",
    "for i in range(0,len(nums)-1):\n",
    "    op1=int(nums[i])\n",
    "    for j in range(i+1, len(nums)):\n",
    "        op2=int(nums[j])\n",
    "        if op1+op2==target:\n",
    "            index.append(i)\n",
    "            index.append(j)\n",
    "            break\n",
    "\n",
    "print(index)\n"
   ]
  },
  {
   "cell_type": "code",
   "execution_count": null,
   "id": "ef2fbc1d",
   "metadata": {},
   "outputs": [],
   "source": []
  }
 ],
 "metadata": {
  "kernelspec": {
   "display_name": "Python 3",
   "language": "python",
   "name": "python3"
  },
  "language_info": {
   "codemirror_mode": {
    "name": "ipython",
    "version": 3
   },
   "file_extension": ".py",
   "mimetype": "text/x-python",
   "name": "python",
   "nbconvert_exporter": "python",
   "pygments_lexer": "ipython3",
   "version": "3.13.7"
  }
 },
 "nbformat": 4,
 "nbformat_minor": 5
}
