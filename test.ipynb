{
 "cells": [
  {
   "cell_type": "markdown",
   "id": "660fbc3d",
   "metadata": {},
   "source": []
  },
  {
   "cell_type": "code",
   "execution_count": 2,
   "id": "a51f4c92",
   "metadata": {},
   "outputs": [
    {
     "data": {
      "text/html": [
       "<div>\n",
       "<style scoped>\n",
       "    .dataframe tbody tr th:only-of-type {\n",
       "        vertical-align: middle;\n",
       "    }\n",
       "\n",
       "    .dataframe tbody tr th {\n",
       "        vertical-align: top;\n",
       "    }\n",
       "\n",
       "    .dataframe thead th {\n",
       "        text-align: right;\n",
       "    }\n",
       "</style>\n",
       "<table border=\"1\" class=\"dataframe\">\n",
       "  <thead>\n",
       "    <tr style=\"text-align: right;\">\n",
       "      <th></th>\n",
       "      <th>Brand</th>\n",
       "      <th>Model</th>\n",
       "      <th>year</th>\n",
       "      <th>engine</th>\n",
       "      <th>cc</th>\n",
       "      <th>color</th>\n",
       "      <th>wheels</th>\n",
       "    </tr>\n",
       "  </thead>\n",
       "  <tbody>\n",
       "    <tr>\n",
       "      <th>0</th>\n",
       "      <td>Hyundai</td>\n",
       "      <td>verna</td>\n",
       "      <td>2020</td>\n",
       "      <td>petrol</td>\n",
       "      <td>1.6</td>\n",
       "      <td>white</td>\n",
       "      <td>4</td>\n",
       "    </tr>\n",
       "    <tr>\n",
       "      <th>1</th>\n",
       "      <td>Skoda</td>\n",
       "      <td>Slavia</td>\n",
       "      <td>2025</td>\n",
       "      <td>petrol</td>\n",
       "      <td>1.5</td>\n",
       "      <td>black</td>\n",
       "      <td>4</td>\n",
       "    </tr>\n",
       "    <tr>\n",
       "      <th>2</th>\n",
       "      <td>Skoda</td>\n",
       "      <td>Superb</td>\n",
       "      <td>2020</td>\n",
       "      <td>petrol</td>\n",
       "      <td>2.0</td>\n",
       "      <td>white</td>\n",
       "      <td>4</td>\n",
       "    </tr>\n",
       "    <tr>\n",
       "      <th>3</th>\n",
       "      <td>audi</td>\n",
       "      <td>A6</td>\n",
       "      <td>2025</td>\n",
       "      <td>petrol</td>\n",
       "      <td>2.0</td>\n",
       "      <td>white</td>\n",
       "      <td>4</td>\n",
       "    </tr>\n",
       "    <tr>\n",
       "      <th>4</th>\n",
       "      <td>RR</td>\n",
       "      <td>Ghost</td>\n",
       "      <td>2020</td>\n",
       "      <td>petrol</td>\n",
       "      <td>6.5</td>\n",
       "      <td>white</td>\n",
       "      <td>4</td>\n",
       "    </tr>\n",
       "    <tr>\n",
       "      <th>5</th>\n",
       "      <td>Lambogini</td>\n",
       "      <td>Revuelto</td>\n",
       "      <td>2025</td>\n",
       "      <td>petrol</td>\n",
       "      <td>6.4</td>\n",
       "      <td>Teal</td>\n",
       "      <td>4</td>\n",
       "    </tr>\n",
       "    <tr>\n",
       "      <th>6</th>\n",
       "      <td>Hyundai</td>\n",
       "      <td>Elantra</td>\n",
       "      <td>2020</td>\n",
       "      <td>Diesel</td>\n",
       "      <td>2.0</td>\n",
       "      <td>black</td>\n",
       "      <td>4</td>\n",
       "    </tr>\n",
       "    <tr>\n",
       "      <th>7</th>\n",
       "      <td>KTM</td>\n",
       "      <td>rc200</td>\n",
       "      <td>2015</td>\n",
       "      <td>petrol</td>\n",
       "      <td>200.0</td>\n",
       "      <td>white orange</td>\n",
       "      <td>2</td>\n",
       "    </tr>\n",
       "    <tr>\n",
       "      <th>8</th>\n",
       "      <td>yamaha</td>\n",
       "      <td>r15 v2 se</td>\n",
       "      <td>2019</td>\n",
       "      <td>petrol</td>\n",
       "      <td>150.0</td>\n",
       "      <td>balck blue</td>\n",
       "      <td>2</td>\n",
       "    </tr>\n",
       "    <tr>\n",
       "      <th>9</th>\n",
       "      <td>java</td>\n",
       "      <td>perak</td>\n",
       "      <td>2025</td>\n",
       "      <td>petrol</td>\n",
       "      <td>NaN</td>\n",
       "      <td>green</td>\n",
       "      <td>2</td>\n",
       "    </tr>\n",
       "  </tbody>\n",
       "</table>\n",
       "</div>"
      ],
      "text/plain": [
       "       Brand       Model  year   engine     cc         color  wheels\n",
       "0    Hyundai       verna  2020   petrol    1.6         white       4\n",
       "1      Skoda      Slavia  2025   petrol    1.5         black       4\n",
       "2      Skoda      Superb  2020   petrol    2.0         white       4\n",
       "3       audi          A6  2025   petrol    2.0         white       4\n",
       "4         RR       Ghost  2020   petrol    6.5         white       4\n",
       "5  Lambogini    Revuelto  2025   petrol    6.4          Teal       4\n",
       "6    Hyundai     Elantra  2020   Diesel    2.0         black       4\n",
       "7        KTM       rc200  2015   petrol  200.0  white orange       2\n",
       "8     yamaha   r15 v2 se  2019   petrol  150.0    balck blue       2\n",
       "9       java       perak  2025   petrol    NaN         green       2"
      ]
     },
     "execution_count": 2,
     "metadata": {},
     "output_type": "execute_result"
    }
   ],
   "source": [
    "import pandas as pd\n",
    "\n",
    "df = pd.read_csv('details.csv')\n",
    "df"
   ]
  },
  {
   "cell_type": "code",
   "execution_count": 19,
   "id": "16e3ccee",
   "metadata": {},
   "outputs": [
    {
     "data": {
      "text/html": [
       "<div>\n",
       "<style scoped>\n",
       "    .dataframe tbody tr th:only-of-type {\n",
       "        vertical-align: middle;\n",
       "    }\n",
       "\n",
       "    .dataframe tbody tr th {\n",
       "        vertical-align: top;\n",
       "    }\n",
       "\n",
       "    .dataframe thead th {\n",
       "        text-align: right;\n",
       "    }\n",
       "</style>\n",
       "<table border=\"1\" class=\"dataframe\">\n",
       "  <thead>\n",
       "    <tr style=\"text-align: right;\">\n",
       "      <th></th>\n",
       "      <th>Brand</th>\n",
       "      <th>Model</th>\n",
       "      <th>year</th>\n",
       "      <th>engine</th>\n",
       "      <th>cc</th>\n",
       "      <th>color</th>\n",
       "      <th>wheels</th>\n",
       "    </tr>\n",
       "  </thead>\n",
       "  <tbody>\n",
       "    <tr>\n",
       "      <th>0</th>\n",
       "      <td>Hyundai</td>\n",
       "      <td>verna</td>\n",
       "      <td>2020</td>\n",
       "      <td>petrol</td>\n",
       "      <td>1.6</td>\n",
       "      <td>white</td>\n",
       "      <td>4</td>\n",
       "    </tr>\n",
       "    <tr>\n",
       "      <th>1</th>\n",
       "      <td>Skoda</td>\n",
       "      <td>Slavia</td>\n",
       "      <td>2025</td>\n",
       "      <td>petrol</td>\n",
       "      <td>1.5</td>\n",
       "      <td>black</td>\n",
       "      <td>4</td>\n",
       "    </tr>\n",
       "    <tr>\n",
       "      <th>2</th>\n",
       "      <td>Skoda</td>\n",
       "      <td>Superb</td>\n",
       "      <td>2020</td>\n",
       "      <td>petrol</td>\n",
       "      <td>2.0</td>\n",
       "      <td>white</td>\n",
       "      <td>4</td>\n",
       "    </tr>\n",
       "    <tr>\n",
       "      <th>3</th>\n",
       "      <td>audi</td>\n",
       "      <td>A6</td>\n",
       "      <td>2025</td>\n",
       "      <td>petrol</td>\n",
       "      <td>2.0</td>\n",
       "      <td>white</td>\n",
       "      <td>4</td>\n",
       "    </tr>\n",
       "    <tr>\n",
       "      <th>4</th>\n",
       "      <td>RR</td>\n",
       "      <td>Ghost</td>\n",
       "      <td>2020</td>\n",
       "      <td>petrol</td>\n",
       "      <td>6.5</td>\n",
       "      <td>white</td>\n",
       "      <td>4</td>\n",
       "    </tr>\n",
       "    <tr>\n",
       "      <th>5</th>\n",
       "      <td>Lambogini</td>\n",
       "      <td>Revuelto</td>\n",
       "      <td>2025</td>\n",
       "      <td>petrol</td>\n",
       "      <td>6.4</td>\n",
       "      <td>Teal</td>\n",
       "      <td>4</td>\n",
       "    </tr>\n",
       "  </tbody>\n",
       "</table>\n",
       "</div>"
      ],
      "text/plain": [
       "       Brand      Model  year   engine   cc   color  wheels\n",
       "0    Hyundai      verna  2020   petrol  1.6   white       4\n",
       "1      Skoda     Slavia  2025   petrol  1.5   black       4\n",
       "2      Skoda     Superb  2020   petrol  2.0   white       4\n",
       "3       audi         A6  2025   petrol  2.0   white       4\n",
       "4         RR      Ghost  2020   petrol  6.5   white       4\n",
       "5  Lambogini   Revuelto  2025   petrol  6.4    Teal       4"
      ]
     },
     "execution_count": 19,
     "metadata": {},
     "output_type": "execute_result"
    }
   ],
   "source": [
    "df.head(6)"
   ]
  },
  {
   "cell_type": "code",
   "execution_count": 17,
   "id": "bb29e028",
   "metadata": {},
   "outputs": [
    {
     "data": {
      "text/html": [
       "<div>\n",
       "<style scoped>\n",
       "    .dataframe tbody tr th:only-of-type {\n",
       "        vertical-align: middle;\n",
       "    }\n",
       "\n",
       "    .dataframe tbody tr th {\n",
       "        vertical-align: top;\n",
       "    }\n",
       "\n",
       "    .dataframe thead th {\n",
       "        text-align: right;\n",
       "    }\n",
       "</style>\n",
       "<table border=\"1\" class=\"dataframe\">\n",
       "  <thead>\n",
       "    <tr style=\"text-align: right;\">\n",
       "      <th></th>\n",
       "      <th>Brand</th>\n",
       "      <th>Model</th>\n",
       "      <th>year</th>\n",
       "      <th>engine</th>\n",
       "      <th>cc</th>\n",
       "      <th>color</th>\n",
       "      <th>wheels</th>\n",
       "    </tr>\n",
       "  </thead>\n",
       "  <tbody>\n",
       "    <tr>\n",
       "      <th>0</th>\n",
       "      <td>Hyundai</td>\n",
       "      <td>verna</td>\n",
       "      <td>2020</td>\n",
       "      <td>petrol</td>\n",
       "      <td>1.6</td>\n",
       "      <td>white</td>\n",
       "      <td>4</td>\n",
       "    </tr>\n",
       "    <tr>\n",
       "      <th>1</th>\n",
       "      <td>Skoda</td>\n",
       "      <td>Slavia</td>\n",
       "      <td>2025</td>\n",
       "      <td>petrol</td>\n",
       "      <td>1.5</td>\n",
       "      <td>black</td>\n",
       "      <td>4</td>\n",
       "    </tr>\n",
       "    <tr>\n",
       "      <th>2</th>\n",
       "      <td>Skoda</td>\n",
       "      <td>Superb</td>\n",
       "      <td>2020</td>\n",
       "      <td>petrol</td>\n",
       "      <td>2.0</td>\n",
       "      <td>white</td>\n",
       "      <td>4</td>\n",
       "    </tr>\n",
       "    <tr>\n",
       "      <th>3</th>\n",
       "      <td>audi</td>\n",
       "      <td>A6</td>\n",
       "      <td>2025</td>\n",
       "      <td>petrol</td>\n",
       "      <td>2.0</td>\n",
       "      <td>white</td>\n",
       "      <td>4</td>\n",
       "    </tr>\n",
       "    <tr>\n",
       "      <th>4</th>\n",
       "      <td>RR</td>\n",
       "      <td>Ghost</td>\n",
       "      <td>2020</td>\n",
       "      <td>petrol</td>\n",
       "      <td>6.5</td>\n",
       "      <td>white</td>\n",
       "      <td>4</td>\n",
       "    </tr>\n",
       "    <tr>\n",
       "      <th>5</th>\n",
       "      <td>Lambogini</td>\n",
       "      <td>Revuelto</td>\n",
       "      <td>2025</td>\n",
       "      <td>petrol</td>\n",
       "      <td>6.4</td>\n",
       "      <td>Teal</td>\n",
       "      <td>4</td>\n",
       "    </tr>\n",
       "    <tr>\n",
       "      <th>6</th>\n",
       "      <td>Hyundai</td>\n",
       "      <td>Elantra</td>\n",
       "      <td>2020</td>\n",
       "      <td>Diesel</td>\n",
       "      <td>2.0</td>\n",
       "      <td>black</td>\n",
       "      <td>4</td>\n",
       "    </tr>\n",
       "    <tr>\n",
       "      <th>7</th>\n",
       "      <td>KTM</td>\n",
       "      <td>rc200</td>\n",
       "      <td>2015</td>\n",
       "      <td>petrol</td>\n",
       "      <td>200.0</td>\n",
       "      <td>white orange</td>\n",
       "      <td>2</td>\n",
       "    </tr>\n",
       "    <tr>\n",
       "      <th>8</th>\n",
       "      <td>yamaha</td>\n",
       "      <td>r15 v2 se</td>\n",
       "      <td>2019</td>\n",
       "      <td>petrol</td>\n",
       "      <td>150.0</td>\n",
       "      <td>balck blue</td>\n",
       "      <td>2</td>\n",
       "    </tr>\n",
       "  </tbody>\n",
       "</table>\n",
       "</div>"
      ],
      "text/plain": [
       "       Brand       Model  year   engine     cc         color  wheels\n",
       "0    Hyundai       verna  2020   petrol    1.6         white       4\n",
       "1      Skoda      Slavia  2025   petrol    1.5         black       4\n",
       "2      Skoda      Superb  2020   petrol    2.0         white       4\n",
       "3       audi          A6  2025   petrol    2.0         white       4\n",
       "4         RR       Ghost  2020   petrol    6.5         white       4\n",
       "5  Lambogini    Revuelto  2025   petrol    6.4          Teal       4\n",
       "6    Hyundai     Elantra  2020   Diesel    2.0         black       4\n",
       "7        KTM       rc200  2015   petrol  200.0  white orange       2\n",
       "8     yamaha   r15 v2 se  2019   petrol  150.0    balck blue       2"
      ]
     },
     "execution_count": 17,
     "metadata": {},
     "output_type": "execute_result"
    }
   ],
   "source": [
    "df.tail(9)"
   ]
  },
  {
   "cell_type": "code",
   "execution_count": 5,
   "id": "961c0690",
   "metadata": {},
   "outputs": [
    {
     "data": {
      "text/html": [
       "<div>\n",
       "<style scoped>\n",
       "    .dataframe tbody tr th:only-of-type {\n",
       "        vertical-align: middle;\n",
       "    }\n",
       "\n",
       "    .dataframe tbody tr th {\n",
       "        vertical-align: top;\n",
       "    }\n",
       "\n",
       "    .dataframe thead th {\n",
       "        text-align: right;\n",
       "    }\n",
       "</style>\n",
       "<table border=\"1\" class=\"dataframe\">\n",
       "  <thead>\n",
       "    <tr style=\"text-align: right;\">\n",
       "      <th></th>\n",
       "      <th>year</th>\n",
       "      <th>cc</th>\n",
       "      <th>wheels</th>\n",
       "    </tr>\n",
       "  </thead>\n",
       "  <tbody>\n",
       "    <tr>\n",
       "      <th>count</th>\n",
       "      <td>10.000000</td>\n",
       "      <td>9.000000</td>\n",
       "      <td>10.000000</td>\n",
       "    </tr>\n",
       "    <tr>\n",
       "      <th>mean</th>\n",
       "      <td>2021.400000</td>\n",
       "      <td>41.333333</td>\n",
       "      <td>3.400000</td>\n",
       "    </tr>\n",
       "    <tr>\n",
       "      <th>std</th>\n",
       "      <td>3.438346</td>\n",
       "      <td>76.831000</td>\n",
       "      <td>0.966092</td>\n",
       "    </tr>\n",
       "    <tr>\n",
       "      <th>min</th>\n",
       "      <td>2015.000000</td>\n",
       "      <td>1.500000</td>\n",
       "      <td>2.000000</td>\n",
       "    </tr>\n",
       "    <tr>\n",
       "      <th>25%</th>\n",
       "      <td>2020.000000</td>\n",
       "      <td>2.000000</td>\n",
       "      <td>2.500000</td>\n",
       "    </tr>\n",
       "    <tr>\n",
       "      <th>50%</th>\n",
       "      <td>2020.000000</td>\n",
       "      <td>2.000000</td>\n",
       "      <td>4.000000</td>\n",
       "    </tr>\n",
       "    <tr>\n",
       "      <th>75%</th>\n",
       "      <td>2025.000000</td>\n",
       "      <td>6.500000</td>\n",
       "      <td>4.000000</td>\n",
       "    </tr>\n",
       "    <tr>\n",
       "      <th>max</th>\n",
       "      <td>2025.000000</td>\n",
       "      <td>200.000000</td>\n",
       "      <td>4.000000</td>\n",
       "    </tr>\n",
       "  </tbody>\n",
       "</table>\n",
       "</div>"
      ],
      "text/plain": [
       "              year          cc     wheels\n",
       "count    10.000000    9.000000  10.000000\n",
       "mean   2021.400000   41.333333   3.400000\n",
       "std       3.438346   76.831000   0.966092\n",
       "min    2015.000000    1.500000   2.000000\n",
       "25%    2020.000000    2.000000   2.500000\n",
       "50%    2020.000000    2.000000   4.000000\n",
       "75%    2025.000000    6.500000   4.000000\n",
       "max    2025.000000  200.000000   4.000000"
      ]
     },
     "execution_count": 5,
     "metadata": {},
     "output_type": "execute_result"
    }
   ],
   "source": [
    "df.describe()"
   ]
  },
  {
   "cell_type": "code",
   "execution_count": 6,
   "id": "543b9e9c",
   "metadata": {},
   "outputs": [
    {
     "name": "stdout",
     "output_type": "stream",
     "text": [
      "<class 'pandas.core.frame.DataFrame'>\n",
      "RangeIndex: 10 entries, 0 to 9\n",
      "Data columns (total 7 columns):\n",
      " #   Column  Non-Null Count  Dtype  \n",
      "---  ------  --------------  -----  \n",
      " 0   Brand   10 non-null     object \n",
      " 1   Model   10 non-null     object \n",
      " 2   year    10 non-null     int64  \n",
      " 3   engine  10 non-null     object \n",
      " 4   cc      9 non-null      float64\n",
      " 5   color   10 non-null     object \n",
      " 6   wheels  10 non-null     int64  \n",
      "dtypes: float64(1), int64(2), object(4)\n",
      "memory usage: 692.0+ bytes\n"
     ]
    }
   ],
   "source": [
    "#Describes the datatypes and number of rows containing null values\n",
    "df.info()\n"
   ]
  },
  {
   "cell_type": "code",
   "execution_count": 7,
   "id": "bb9071a8",
   "metadata": {},
   "outputs": [
    {
     "name": "stdout",
     "output_type": "stream",
     "text": [
      "<class 'pandas.core.frame.DataFrame'>\n",
      "Index: 9 entries, 0 to 8\n",
      "Data columns (total 7 columns):\n",
      " #   Column  Non-Null Count  Dtype  \n",
      "---  ------  --------------  -----  \n",
      " 0   Brand   9 non-null      object \n",
      " 1   Model   9 non-null      object \n",
      " 2   year    9 non-null      int64  \n",
      " 3   engine  9 non-null      object \n",
      " 4   cc      9 non-null      float64\n",
      " 5   color   9 non-null      object \n",
      " 6   wheels  9 non-null      int64  \n",
      "dtypes: float64(1), int64(2), object(4)\n",
      "memory usage: 576.0+ bytes\n"
     ]
    }
   ],
   "source": [
    "#Using dropna to drop values\n",
    "df.dropna(inplace = True)\n",
    "df.info()"
   ]
  },
  {
   "cell_type": "code",
   "execution_count": 8,
   "id": "2ea27ad7",
   "metadata": {},
   "outputs": [
    {
     "data": {
      "text/html": [
       "<div>\n",
       "<style scoped>\n",
       "    .dataframe tbody tr th:only-of-type {\n",
       "        vertical-align: middle;\n",
       "    }\n",
       "\n",
       "    .dataframe tbody tr th {\n",
       "        vertical-align: top;\n",
       "    }\n",
       "\n",
       "    .dataframe thead th {\n",
       "        text-align: right;\n",
       "    }\n",
       "</style>\n",
       "<table border=\"1\" class=\"dataframe\">\n",
       "  <thead>\n",
       "    <tr style=\"text-align: right;\">\n",
       "      <th></th>\n",
       "      <th>Brand</th>\n",
       "      <th>Model</th>\n",
       "    </tr>\n",
       "  </thead>\n",
       "  <tbody>\n",
       "    <tr>\n",
       "      <th>0</th>\n",
       "      <td>Hyundai</td>\n",
       "      <td>verna</td>\n",
       "    </tr>\n",
       "    <tr>\n",
       "      <th>1</th>\n",
       "      <td>Skoda</td>\n",
       "      <td>Slavia</td>\n",
       "    </tr>\n",
       "    <tr>\n",
       "      <th>2</th>\n",
       "      <td>Skoda</td>\n",
       "      <td>Superb</td>\n",
       "    </tr>\n",
       "    <tr>\n",
       "      <th>3</th>\n",
       "      <td>audi</td>\n",
       "      <td>A6</td>\n",
       "    </tr>\n",
       "    <tr>\n",
       "      <th>4</th>\n",
       "      <td>RR</td>\n",
       "      <td>Ghost</td>\n",
       "    </tr>\n",
       "    <tr>\n",
       "      <th>5</th>\n",
       "      <td>Lambogini</td>\n",
       "      <td>Revuelto</td>\n",
       "    </tr>\n",
       "    <tr>\n",
       "      <th>6</th>\n",
       "      <td>Hyundai</td>\n",
       "      <td>Elantra</td>\n",
       "    </tr>\n",
       "    <tr>\n",
       "      <th>7</th>\n",
       "      <td>KTM</td>\n",
       "      <td>rc200</td>\n",
       "    </tr>\n",
       "    <tr>\n",
       "      <th>8</th>\n",
       "      <td>yamaha</td>\n",
       "      <td>r15 v2 se</td>\n",
       "    </tr>\n",
       "  </tbody>\n",
       "</table>\n",
       "</div>"
      ],
      "text/plain": [
       "       Brand       Model\n",
       "0    Hyundai       verna\n",
       "1      Skoda      Slavia\n",
       "2      Skoda      Superb\n",
       "3       audi          A6\n",
       "4         RR       Ghost\n",
       "5  Lambogini    Revuelto\n",
       "6    Hyundai     Elantra\n",
       "7        KTM       rc200\n",
       "8     yamaha   r15 v2 se"
      ]
     },
     "execution_count": 8,
     "metadata": {},
     "output_type": "execute_result"
    }
   ],
   "source": [
    "df[['Brand','Model']]"
   ]
  },
  {
   "cell_type": "code",
   "execution_count": 9,
   "id": "6d72a7ac",
   "metadata": {},
   "outputs": [
    {
     "data": {
      "text/html": [
       "<div>\n",
       "<style scoped>\n",
       "    .dataframe tbody tr th:only-of-type {\n",
       "        vertical-align: middle;\n",
       "    }\n",
       "\n",
       "    .dataframe tbody tr th {\n",
       "        vertical-align: top;\n",
       "    }\n",
       "\n",
       "    .dataframe thead th {\n",
       "        text-align: right;\n",
       "    }\n",
       "</style>\n",
       "<table border=\"1\" class=\"dataframe\">\n",
       "  <thead>\n",
       "    <tr style=\"text-align: right;\">\n",
       "      <th></th>\n",
       "      <th>Brand</th>\n",
       "      <th>Model</th>\n",
       "      <th>year</th>\n",
       "      <th>engine</th>\n",
       "      <th>cc</th>\n",
       "      <th>color</th>\n",
       "      <th>wheels</th>\n",
       "    </tr>\n",
       "  </thead>\n",
       "  <tbody>\n",
       "    <tr>\n",
       "      <th>0</th>\n",
       "      <td>Hyundai</td>\n",
       "      <td>verna</td>\n",
       "      <td>2020</td>\n",
       "      <td>petrol</td>\n",
       "      <td>1.6</td>\n",
       "      <td>white</td>\n",
       "      <td>4</td>\n",
       "    </tr>\n",
       "    <tr>\n",
       "      <th>1</th>\n",
       "      <td>Skoda</td>\n",
       "      <td>Slavia</td>\n",
       "      <td>2025</td>\n",
       "      <td>petrol</td>\n",
       "      <td>1.5</td>\n",
       "      <td>black</td>\n",
       "      <td>4</td>\n",
       "    </tr>\n",
       "    <tr>\n",
       "      <th>2</th>\n",
       "      <td>Skoda</td>\n",
       "      <td>Superb</td>\n",
       "      <td>2020</td>\n",
       "      <td>petrol</td>\n",
       "      <td>2.0</td>\n",
       "      <td>white</td>\n",
       "      <td>4</td>\n",
       "    </tr>\n",
       "    <tr>\n",
       "      <th>3</th>\n",
       "      <td>audi</td>\n",
       "      <td>A6</td>\n",
       "      <td>2025</td>\n",
       "      <td>petrol</td>\n",
       "      <td>2.0</td>\n",
       "      <td>white</td>\n",
       "      <td>4</td>\n",
       "    </tr>\n",
       "    <tr>\n",
       "      <th>4</th>\n",
       "      <td>RR</td>\n",
       "      <td>Ghost</td>\n",
       "      <td>2020</td>\n",
       "      <td>petrol</td>\n",
       "      <td>6.5</td>\n",
       "      <td>white</td>\n",
       "      <td>4</td>\n",
       "    </tr>\n",
       "    <tr>\n",
       "      <th>5</th>\n",
       "      <td>Lambogini</td>\n",
       "      <td>Revuelto</td>\n",
       "      <td>2025</td>\n",
       "      <td>petrol</td>\n",
       "      <td>6.4</td>\n",
       "      <td>Teal</td>\n",
       "      <td>4</td>\n",
       "    </tr>\n",
       "    <tr>\n",
       "      <th>6</th>\n",
       "      <td>Hyundai</td>\n",
       "      <td>Elantra</td>\n",
       "      <td>2020</td>\n",
       "      <td>Diesel</td>\n",
       "      <td>2.0</td>\n",
       "      <td>black</td>\n",
       "      <td>4</td>\n",
       "    </tr>\n",
       "    <tr>\n",
       "      <th>7</th>\n",
       "      <td>KTM</td>\n",
       "      <td>rc200</td>\n",
       "      <td>2015</td>\n",
       "      <td>petrol</td>\n",
       "      <td>200.0</td>\n",
       "      <td>white orange</td>\n",
       "      <td>2</td>\n",
       "    </tr>\n",
       "    <tr>\n",
       "      <th>8</th>\n",
       "      <td>yamaha</td>\n",
       "      <td>r15 v2 se</td>\n",
       "      <td>2019</td>\n",
       "      <td>petrol</td>\n",
       "      <td>150.0</td>\n",
       "      <td>balck blue</td>\n",
       "      <td>2</td>\n",
       "    </tr>\n",
       "  </tbody>\n",
       "</table>\n",
       "</div>"
      ],
      "text/plain": [
       "       Brand       Model  year   engine     cc         color  wheels\n",
       "0    Hyundai       verna  2020   petrol    1.6         white       4\n",
       "1      Skoda      Slavia  2025   petrol    1.5         black       4\n",
       "2      Skoda      Superb  2020   petrol    2.0         white       4\n",
       "3       audi          A6  2025   petrol    2.0         white       4\n",
       "4         RR       Ghost  2020   petrol    6.5         white       4\n",
       "5  Lambogini    Revuelto  2025   petrol    6.4          Teal       4\n",
       "6    Hyundai     Elantra  2020   Diesel    2.0         black       4\n",
       "7        KTM       rc200  2015   petrol  200.0  white orange       2\n",
       "8     yamaha   r15 v2 se  2019   petrol  150.0    balck blue       2"
      ]
     },
     "execution_count": 9,
     "metadata": {},
     "output_type": "execute_result"
    }
   ],
   "source": [
    "#creating a subset using head\n",
    "df_head = df.head(11)\n",
    "df_head\n",
    "#Setting name as custom index\n"
   ]
  },
  {
   "cell_type": "code",
   "execution_count": 10,
   "id": "ce31cef4",
   "metadata": {},
   "outputs": [
    {
     "data": {
      "text/html": [
       "<div>\n",
       "<style scoped>\n",
       "    .dataframe tbody tr th:only-of-type {\n",
       "        vertical-align: middle;\n",
       "    }\n",
       "\n",
       "    .dataframe tbody tr th {\n",
       "        vertical-align: top;\n",
       "    }\n",
       "\n",
       "    .dataframe thead th {\n",
       "        text-align: right;\n",
       "    }\n",
       "</style>\n",
       "<table border=\"1\" class=\"dataframe\">\n",
       "  <thead>\n",
       "    <tr style=\"text-align: right;\">\n",
       "      <th></th>\n",
       "      <th>year</th>\n",
       "    </tr>\n",
       "  </thead>\n",
       "  <tbody>\n",
       "    <tr>\n",
       "      <th>1</th>\n",
       "      <td>2025</td>\n",
       "    </tr>\n",
       "    <tr>\n",
       "      <th>2</th>\n",
       "      <td>2020</td>\n",
       "    </tr>\n",
       "    <tr>\n",
       "      <th>3</th>\n",
       "      <td>2025</td>\n",
       "    </tr>\n",
       "    <tr>\n",
       "      <th>4</th>\n",
       "      <td>2020</td>\n",
       "    </tr>\n",
       "    <tr>\n",
       "      <th>5</th>\n",
       "      <td>2025</td>\n",
       "    </tr>\n",
       "  </tbody>\n",
       "</table>\n",
       "</div>"
      ],
      "text/plain": [
       "   year\n",
       "1  2025\n",
       "2  2020\n",
       "3  2025\n",
       "4  2020\n",
       "5  2025"
      ]
     },
     "execution_count": 10,
     "metadata": {},
     "output_type": "execute_result"
    }
   ],
   "source": [
    "df.iloc[1:6, 2:3]"
   ]
  },
  {
   "cell_type": "code",
   "execution_count": 11,
   "id": "c41a7afc",
   "metadata": {},
   "outputs": [
    {
     "data": {
      "text/plain": [
       "' Ghost'"
      ]
     },
     "execution_count": 11,
     "metadata": {},
     "output_type": "execute_result"
    }
   ],
   "source": [
    "df.iloc[4,1]"
   ]
  },
  {
   "cell_type": "code",
   "execution_count": null,
   "id": "0a2a62cd",
   "metadata": {},
   "outputs": [],
   "source": [
    "\n"
   ]
  },
  {
   "cell_type": "code",
   "execution_count": 12,
   "id": "1e33dc6c",
   "metadata": {},
   "outputs": [
    {
     "name": "stdout",
     "output_type": "stream",
     "text": [
      "1\n"
     ]
    }
   ],
   "source": [
    "s= 'abcabcab'\n",
    "s2= 'bbbbb'\n",
    "new=''\n",
    "for i in s2:\n",
    "    if i not in new:\n",
    "        new+=i\n",
    "\n",
    "print(len(new))"
   ]
  },
  {
   "cell_type": "code",
   "execution_count": 13,
   "id": "92ca9558",
   "metadata": {},
   "outputs": [],
   "source": [
    "input_list = [\"eat\",\"tea\",\"tan\",\"ate\",\"nat\",\"bat\"]\n",
    "#Output: [[\"bat\"],[\"nat\",\"tan\"],[\"ate\",\"eat\",\"tea\"]]\n",
    "\n",
    "def anagram(strings):\n",
    "    lists=[]\n",
    "    for i in strings:\n",
    "        lists.append(i)\n",
    "    lists.sort()\n",
    "    return lists\n",
    "\n",
    "new_list = []\n",
    "for i in input_list:\n",
    "    if i not in new_list:\n",
    "        new_list.append(i)\n",
    "    elif new_list[0]:\n",
    "        pass\n",
    "\n",
    "\n",
    "\n",
    "\n",
    "\n"
   ]
  },
  {
   "cell_type": "code",
   "execution_count": 14,
   "id": "e8fada6c",
   "metadata": {},
   "outputs": [
    {
     "name": "stdout",
     "output_type": "stream",
     "text": [
      "[['ate', 'eat', 'tea'], ['bat', 'tab'], ['mat']]\n"
     ]
    }
   ],
   "source": [
    "# Function to sort characters in a string without using built-in sorted()\n",
    "def sort_string(s):\n",
    "    chars = list(s)\n",
    "    # Simple bubble sort\n",
    "    for i in range(len(chars)):\n",
    "        for j in range(i + 1, len(chars)):\n",
    "            if chars[i] > chars[j]:\n",
    "                chars[i], chars[j] = chars[j], chars[i]\n",
    "    return ''.join(chars)\n",
    "\n",
    "# Grouping anagrams\n",
    "words = ['ate', 'bat', 'eat', 'mat', 'tab', 'tea']\n",
    "groups = []\n",
    "\n",
    "# Keep track of which words are already grouped\n",
    "used = [False] * len(words)\n",
    "\n",
    "for i in range(len(words)):\n",
    "    if not used[i]:\n",
    "        group = [words[i]]\n",
    "        used[i] = True\n",
    "        for j in range(i + 1, len(words)):\n",
    "            if not used[j] and sort_string(words[i]) == sort_string(words[j]):\n",
    "                group.append(words[j])\n",
    "                used[j] = True\n",
    "        groups.append(group)\n",
    "\n",
    "print(groups)\n"
   ]
  },
  {
   "cell_type": "code",
   "execution_count": 9,
   "id": "52e6de6c",
   "metadata": {},
   "outputs": [
    {
     "data": {
      "text/plain": [
       "15"
      ]
     },
     "execution_count": 9,
     "metadata": {},
     "output_type": "execute_result"
    }
   ],
   "source": [
    "a=10\n",
    "a=a+5\n",
    "a"
   ]
  },
  {
   "cell_type": "code",
   "execution_count": 30,
   "id": "e9b05261",
   "metadata": {},
   "outputs": [
    {
     "name": "stdout",
     "output_type": "stream",
     "text": [
      "10\n",
      "[15, 20, 25, 30, 35, 40, 45, 50, 55, 60]\n"
     ]
    }
   ],
   "source": [
    "a = 10\n",
    "b=[]\n",
    "print(a)\n",
    "\n",
    "def add(a):\n",
    "    for i in range(0,10):\n",
    "        a=a+5\n",
    "        yield a\n",
    "\n",
    "a=list(add(a))\n",
    "print(a)\n"
   ]
  },
  {
   "cell_type": "code",
   "execution_count": 2,
   "id": "68e71abd",
   "metadata": {},
   "outputs": [
    {
     "name": "stdout",
     "output_type": "stream",
     "text": [
      "False\n"
     ]
    }
   ],
   "source": [
    "x = \"12\"\n",
    "print(isinstance(x, (int, float)))"
   ]
  },
  {
   "cell_type": "code",
   "execution_count": null,
   "id": "2192a838",
   "metadata": {},
   "outputs": [
    {
     "name": "stdout",
     "output_type": "stream",
     "text": [
      "[1, 2, 3, 4, 5, 6, 7, 8, 9, 10, 11, 12]\n"
     ]
    }
   ],
   "source": [
    "#Flatten array using recursive function and array extrend method\n",
    "\n",
    "x = [1,2,3,[4,5,6,[7,8],9],10,11,12]\n",
    "\n",
    "def flat(inp):\n",
    "    new=[]\n",
    "    for i in inp:\n",
    "        if isinstance(i, list):\n",
    "            new.extend(flat(i))\n",
    "        else:\n",
    "            new.append(i)\n",
    "    return new\n",
    "\n",
    "print(flat(x))\n",
    "\n",
    "# op = [1, 2, 3, 4, 5, 6, 7, 8, 9, 10, 11, 12]\n"
   ]
  },
  {
   "cell_type": "markdown",
   "id": "4a5ae4ba",
   "metadata": {},
   "source": []
  },
  {
   "cell_type": "code",
   "execution_count": 4,
   "id": "d017ad5e",
   "metadata": {},
   "outputs": [
    {
     "name": "stdout",
     "output_type": "stream",
     "text": [
      "8\n"
     ]
    }
   ],
   "source": [
    "class MathUtils:\n",
    "    @staticmethod\n",
    "    def add(a, b):\n",
    "        return a + b\n",
    "\n",
    "# Usage\n",
    "m = MathUtils()\n",
    "print(m.add(5, 3))"
   ]
  },
  {
   "cell_type": "code",
   "execution_count": 8,
   "id": "cdf40169",
   "metadata": {},
   "outputs": [
    {
     "name": "stdout",
     "output_type": "stream",
     "text": [
      "3158881957760 3158882369152 3158881957760\n",
      "True False True\n",
      "3158877681056 3158877681056 3158877681056\n",
      "True True True\n"
     ]
    }
   ],
   "source": [
    "#is vs  ==\n",
    "\n",
    "x = [1000]\n",
    "y = [1000]\n",
    "z = x\n",
    "print(id(x), id(y), id(z))\n",
    "\n",
    "print(x == y, x is y , x is z)\n",
    "x = 'kishore'\n",
    "y = 'kishore'\n",
    "z=x\n",
    "\n",
    "\n",
    "print(id(x), id(y), id(z))\n",
    "\n",
    "print(x == y, x is y , x is z)\n"
   ]
  },
  {
   "cell_type": "code",
   "execution_count": null,
   "id": "38896356",
   "metadata": {},
   "outputs": [
    {
     "name": "stdout",
     "output_type": "stream",
     "text": [
      "Division successful. Result: 5.0\n",
      "Execution completed.\n",
      "None\n",
      "\n",
      "Error: Cannot divide by zero.\n",
      "Execution completed.\n",
      "None\n"
     ]
    }
   ],
   "source": [
    "\n",
    "\n",
    "def divide(a, b):\n",
    "    try:\n",
    "        result = a / b\n",
    "    except ZeroDivisionError:\n",
    "        print(\"Error: Cannot divide by zero.\")\n",
    "    else:\n",
    "        print(\"Division successful. Result:\", result)\n",
    "    \n",
    "    finally:\n",
    "        print(\"Execution completed.\")\n",
    "\n",
    "print(divide(10, 2))\n",
    "print()\n",
    "print(divide(10, 0))\n",
    "\n",
    "\n"
   ]
  },
  {
   "cell_type": "code",
   "execution_count": null,
   "id": "fc91c7f5",
   "metadata": {},
   "outputs": [
    {
     "name": "stdout",
     "output_type": "stream",
     "text": [
      "[1, 2, [3, 4], 5, 6]\n"
     ]
    }
   ],
   "source": [
    "\n",
    "def flatten_array(nested_list):\n",
    "    flat_list = []\n",
    "    for item in nested_list:\n",
    "        if type(item)==list:\n",
    "            flat_list.extend(flatten_array(item))  # Recursively flatten\n",
    "        else:\n",
    "            flat_list.append(item)\n",
    "    return flat_list\n",
    "\n",
    "# Example usage\n",
    "nested = [1, [2, [3, 4], 5], 6]\n",
    "x=flatten_array(nested)\n",
    "print(x)"
   ]
  },
  {
   "cell_type": "code",
   "execution_count": null,
   "id": "488dc17a",
   "metadata": {},
   "outputs": [
    {
     "data": {
      "text/plain": [
       "[1, 2, 3, 4, 5, 3]"
      ]
     },
     "execution_count": 6,
     "metadata": {},
     "output_type": "execute_result"
    }
   ],
   "source": [
    "x = [1,2,3]\n",
    "y = [4,5,3]\n",
    "x.extend(y)\n",
    "x"
   ]
  },
  {
   "cell_type": "code",
   "execution_count": 20,
   "id": "8091e6c0",
   "metadata": {},
   "outputs": [
    {
     "data": {
      "text/plain": [
       "[48, 48, 92, 68, 49, 46, 90, 9, 13, 68]"
      ]
     },
     "execution_count": 20,
     "metadata": {},
     "output_type": "execute_result"
    }
   ],
   "source": [
    "from random import randint\n",
    "x = [randint(0,100) for _ in range(10)]\n",
    "x\n"
   ]
  },
  {
   "cell_type": "code",
   "execution_count": null,
   "id": "523ed43a",
   "metadata": {},
   "outputs": [],
   "source": []
  }
 ],
 "metadata": {
  "kernelspec": {
   "display_name": "Python 3",
   "language": "python",
   "name": "python3"
  },
  "language_info": {
   "codemirror_mode": {
    "name": "ipython",
    "version": 3
   },
   "file_extension": ".py",
   "mimetype": "text/x-python",
   "name": "python",
   "nbconvert_exporter": "python",
   "pygments_lexer": "ipython3",
   "version": "3.12.6"
  }
 },
 "nbformat": 4,
 "nbformat_minor": 5
}
