{
 "cells": [
  {
   "cell_type": "markdown",
   "id": "89c92727",
   "metadata": {},
   "source": [
    "## Kishore py notes\n"
   ]
  },
  {
   "cell_type": "markdown",
   "id": "685a3743",
   "metadata": {},
   "source": [
    "### Important Topics"
   ]
  },
  {
   "cell_type": "markdown",
   "id": "00ef2561",
   "metadata": {},
   "source": [
    "**Interpreter vs Compiler**\n",
    "\n",
    "**Compiler:** Translates the entire source code into machine code before execution. Examples: C, C++.\n",
    "\n",
    "**Interpreter:** Translates and executes code line-by-line at runtime. Examples: Python, JavaScript.\n",
    "\n",
    "**Python is interpreted language**\n",
    "\n",
    "* When you run a .py file, Python:\n",
    "* Compiles it to bytecode (.pyc files).\n",
    "* Interprets the bytecode using the Python Virtual Machine (PVM).\n",
    "\n",
    "*So technically, Python does a bit of both:*\n",
    "\n",
    "* Compilation to bytecode (not machine code).\n",
    "* Interpretation of bytecode at runtime."
   ]
  },
  {
   "cell_type": "markdown",
   "id": "88128a4b",
   "metadata": {},
   "source": [
    "\n",
    "**In Python, the terms module and library are closely related but have distinct meanings:**\n",
    "\n",
    "Module:\n",
    "* A module is a single Python file (.py) that contains functions, classes, and variables you can reuse in other programs.\n",
    "\n",
    "Example:\n",
    "You can import it like this:\n",
    "\n",
    "\n",
    "Library\n",
    "* A library is a collection of modules that provide tools for specific tasks or domains (e.g., data analysis, web development, machine learning).\n",
    "\n",
    "Examples:\n",
    "* NumPy – for numerical computing\n",
    "* Pandas – for data manipulation\n",
    "* Requests – for HTTP requests\n",
    "* Matplotlib – for plotting\n",
    "* Each library may contain many modules internally."
   ]
  },
  {
   "cell_type": "markdown",
   "id": "afa98387",
   "metadata": {},
   "source": [
    "**PEP 8**\n",
    "\n",
    "PEP 8 is the **Python Enhancement Proposal** that provides guidelines and best practices on how to write Python code in a readable and consistent style. It’s widely adopted by the Python community and helps ensure that code is clean and maintainable.\n",
    "\n",
    "Here are some key highlights from PEP 8:\n",
    "\n",
    "1. Code Layout\n",
    "\n",
    "    * Indentation: Use 4 spaces per indentation level.\n",
    "    * Maximum Line Length: Limit lines to 79 characters.\n",
    "    * Blank Lines: Use blank lines to separate functions, classes, and blocks of code inside functions.\n",
    "\n",
    "2. Imports\n",
    "    \n",
    "    * Imports should be on separate lines:\n",
    "    * Group imports in the following order:\n",
    "    * Standard library imports\n",
    "    * Related third-party imports\n",
    "    * Local application/library-specific imports\n",
    "\n",
    "3. Naming Conventions\n",
    "    \n",
    "    * Variables, functions: lower_case_with_underscores\n",
    "    * Classes: CapitalizedWords\n",
    "    * Constants: ALL_CAPS_WITH_UNDERSCORES\n",
    "    * Private members: _single_leading_underscore\n",
    "    \n",
    "4. Whitespace in Expressions and Statements\n",
    "    \n",
    "    * Avoid extra spaces:\n",
    "\n",
    "5. Comments\n",
    "    \n",
    "    * Use comments to explain why something is done, not what is done.\n",
    "    * Use complete sentences and proper grammar.\n",
    "    * Inline comments should be separated by at least two spaces from the statement.\n",
    "\n",
    "6. Docstrings\n",
    "   \n",
    "    * Use triple double quotes \"\"\" for docstrings.\n",
    "    * Describe the method’s purpose, arguments, and return values.\n",
    "\n",
    "7. Programming Recommendations\n",
    "   \n",
    "    * Use *is or is not* when comparing to *None*"
   ]
  },
  {
   "cell_type": "markdown",
   "id": "1c7ea690",
   "metadata": {},
   "source": [
    "### Python Basics\n",
    "\n",
    "* Input\n",
    "* Output\n",
    "* Variables\n",
    "* Key words\n",
    "* Data Types\n",
    "* Operators\n",
    "\n"
   ]
  },
  {
   "cell_type": "markdown",
   "id": "ed5f42dc",
   "metadata": {},
   "source": [
    "**Inputs**"
   ]
  },
  {
   "cell_type": "code",
   "execution_count": 1,
   "id": "def4a149",
   "metadata": {},
   "outputs": [
    {
     "name": "stdout",
     "output_type": "stream",
     "text": [
      "kishore\n"
     ]
    }
   ],
   "source": [
    "# Basic Input\n",
    "\n",
    "variable_name = input(\"Enter input Value:  \")\n",
    "print(variable_name)\n",
    "\n"
   ]
  },
  {
   "cell_type": "code",
   "execution_count": 2,
   "id": "2067b616",
   "metadata": {},
   "outputs": [
    {
     "name": "stdout",
     "output_type": "stream",
     "text": [
      "Name  kishore\n",
      "Age  27\n"
     ]
    }
   ],
   "source": [
    "# Taking Multiple Variable\n",
    "\n",
    "name, age = input(\"Enter values : \").split(\" \")\n",
    "print(\"Name \", name)\n",
    "print(\"Age \", age)"
   ]
  },
  {
   "cell_type": "markdown",
   "id": "8c229e4d",
   "metadata": {},
   "source": [
    "**Type Casting**\n",
    "\n",
    "Type casting is general term of converting data from one data type to another data type \n",
    "\n",
    "*Methods of Types Casting*\n",
    "\n",
    "* *Explicit Conversion\tManual typecasting using functions like int(), str(), float()*\n",
    "* *Implicit Conversion\tAutomatic typecasting done by Python when safe*"
   ]
  },
  {
   "cell_type": "code",
   "execution_count": null,
   "id": "dbc6d93b",
   "metadata": {},
   "outputs": [],
   "source": [
    "name = input(\"Enter Name: \")\n",
    "age = input(\"Enter Age: \")\n",
    "print(type(name), type(age))   # Python default input data type is Class <\"str\"> \n",
    "\n",
    "# Type Casting is used to get required data type\n",
    "\n",
    "name = input(\"Enter Name: \")\n",
    "age = int(input(\"Enter Age: \"))\n",
    "print(type(name), type(age))"
   ]
  },
  {
   "cell_type": "markdown",
   "id": "0aed65a9",
   "metadata": {},
   "source": [
    "*Getting list input using list map*"
   ]
  },
  {
   "cell_type": "code",
   "execution_count": null,
   "id": "b9bbb139",
   "metadata": {},
   "outputs": [],
   "source": [
    "list1=list(map(int,input(\"enter the values sep by ','\").split(\",\")))\n",
    "print(list1)"
   ]
  },
  {
   "cell_type": "markdown",
   "id": "01483882",
   "metadata": {},
   "source": [
    "*Getting list input using for*"
   ]
  },
  {
   "cell_type": "code",
   "execution_count": null,
   "id": "e25d8582",
   "metadata": {},
   "outputs": [],
   "source": [
    "arr = [int(x) for x in input().split(\",\")]\n",
    "print(arr)"
   ]
  },
  {
   "cell_type": "markdown",
   "id": "84f63df1",
   "metadata": {},
   "source": [
    "**Output**"
   ]
  },
  {
   "cell_type": "code",
   "execution_count": null,
   "id": "c761fbb4",
   "metadata": {},
   "outputs": [],
   "source": [
    "value = 12.0798\n",
    "print(\"value, {:.2f}\".format(value))"
   ]
  },
  {
   "cell_type": "code",
   "execution_count": null,
   "id": "480fc8b6",
   "metadata": {},
   "outputs": [],
   "source": [
    "domain_name=\"infosys.com\"\n",
    "name= input()\n",
    "print(name, domain_name, sep=\"@\")\n",
    "\n",
    "print(\"12\",\"07\",\"1998\", sep=\"-\")\n",
    "\n",
    "print(name, \"Py dev\",sep=\"\\n\", end=\":) \" )\n",
    "print(\"senior Systems Engineer\")\n"
   ]
  },
  {
   "cell_type": "markdown",
   "id": "78ef263d",
   "metadata": {},
   "source": [
    "Using % Operator\n",
    "\n",
    "We can use '%' operator. % values are replaced with zero or more value of elements. The formatting using % is similar to that of ‘printf’ in the C programming language.\n",
    "\n",
    "* %d –integer\n",
    "* %f – float\n",
    "* %s – string\n",
    "* %x –hexadecimal\n",
    "* %o – octal"
   ]
  },
  {
   "cell_type": "code",
   "execution_count": null,
   "id": "7ca4fd06",
   "metadata": {},
   "outputs": [],
   "source": [
    "# Taking input from the user\n",
    "num = int(input(\"Enter a value: \"))\n",
    "\n",
    "add = num + 5\n",
    "\n",
    "# Output\n",
    "print(\"The sum is %o\" %add)"
   ]
  },
  {
   "cell_type": "code",
   "execution_count": null,
   "id": "6edfe640",
   "metadata": {},
   "outputs": [],
   "source": [
    "list1 = [int(x) for x in input(\"Enter values separated by ',' : \").split(\",\") if int(x) > 18]\n",
    "print(list1)"
   ]
  },
  {
   "cell_type": "markdown",
   "id": "db8188eb",
   "metadata": {},
   "source": [
    "**Data Types**\n",
    "\n",
    "* Numeric\n",
    "    * int - 10, 0, -5\n",
    "    * float - 3.14, -0.5, 1e-3\n",
    "    * complex -  1 + 2j\n",
    "\n",
    "* Sequence Type \n",
    "    * string - 'Kishore'\n",
    "    * list - [12,07,1998], [], list()\n",
    "    * tuple - (12,07,1998), (), tuple(), | 'kishore', 'py dev', 'infy'\n",
    "\n",
    "* Mapping Type \n",
    "    * dict - {'name':'kishore', age:27} , {}\n",
    "\n",
    "* Boolean \n",
    "    * bool - True or False\n",
    "\n",
    "* Set Type \n",
    "    * set - {12,07,1998}, set()\n",
    "    * frozenset -\n",
    "    \n",
    "* Binary Types \n",
    "    * bytes\n",
    "    * bytearray\n",
    "    * memoryview"
   ]
  },
  {
   "cell_type": "code",
   "execution_count": null,
   "id": "7b09f725",
   "metadata": {},
   "outputs": [],
   "source": [
    "# Numeric Types\n",
    "int_num = 42                # Integer\n",
    "float_num = 3.14            # Float\n",
    "complex_num = (2 + 3j)+(3+4j)        # Complex\n",
    "\n",
    "# Sequence Types\n",
    "string_val = \"Kishore\"       # String\n",
    "list_val = [1, 2, 3, \"Python\"]      # List\n",
    "tuple_val = (10, 20, 30, \"Python\")            # Tuple\n",
    "\n",
    "#Mapping Type\n",
    "dict_val = {\"name\": \"Kishore\", \"age\": 27}  # Dictionary\n",
    "\n",
    "# Boolean Type\n",
    "bool_val = True               # Boolean\n",
    "\n",
    "# Set Types\n",
    "set_val = {1, 2, 3, 3}        # Set (duplicates removed)\n",
    "frozenset_val = frozenset([1, 2, 3])  # Immutable set\n",
    "\n",
    "# Binary Types\n",
    "bytes_val = b\"Hello\"                  # Bytes\n",
    "bytearray_val = bytearray(b\"Hello\")     # Mutable bytes\n",
    "memoryview_val = memoryview(bytes_val)  # Memory view of bytes\n",
    "\n",
    "# Print all\n",
    "print(\"Integer:\", int_num)\n",
    "print(\"Float:\", float_num)\n",
    "print(\"Complex:\", complex_num)\n",
    "print(\"String:\", string_val)\n",
    "print(\"List:\", list_val)\n",
    "print(\"Tuple:\", tuple_val)\n",
    "print(\"Dictionary:\", dict_val)\n",
    "print(\"Boolean:\", bool_val)\n",
    "print(\"Set:\", set_val)\n",
    "print(\"Frozenset:\", frozenset_val)\n",
    "print(\"Bytes:\", bytes_val)\n",
    "print(\"Bytearray:\", bytearray_val)\n",
    "print(\"Memoryview (first byte):\", memoryview_val[0])\n"
   ]
  },
  {
   "cell_type": "markdown",
   "id": "f762f9ff",
   "metadata": {},
   "source": [
    "Dynamic Typing\n",
    "\n",
    "In dynamically typed languages like Python:\n",
    "\n",
    "You don’t need to declare the data type of a variable.\n",
    "The type is decided at runtime, based on the value assigned.\n",
    "You can reassign different types to the same variable."
   ]
  },
  {
   "cell_type": "markdown",
   "id": "2368ed40",
   "metadata": {},
   "source": [
    "bytes_val = b\"Hello\"\n",
    "\n",
    "Type: bytes\n",
    "\n",
    "Description: Immutable sequence of bytes.\n",
    "\n",
    "Use Case: Efficient storage and transmission of binary data (e.g., files, network communication)."
   ]
  },
  {
   "cell_type": "code",
   "execution_count": null,
   "id": "e0c4124f",
   "metadata": {},
   "outputs": [],
   "source": [
    "bytes_val=b'Hello'\n",
    "print(bytes_val)\n",
    "print(bytes_val[0])  # Output: 72 (ASCII value of 'H')\n"
   ]
  },
  {
   "cell_type": "markdown",
   "id": "9b049969",
   "metadata": {},
   "source": [
    "bytearray_val = bytearray(b\"Hello\")\n",
    "\n",
    "Type: bytearray\n",
    "\n",
    "Description: Mutable version of bytes. You can modify its contents.\n",
    "\n",
    "Use Case: When you need to change binary data in-place."
   ]
  },
  {
   "cell_type": "code",
   "execution_count": null,
   "id": "3130b28b",
   "metadata": {},
   "outputs": [],
   "source": [
    "bytearray_val=bytearray(b'Hello')\n",
    "bytearray_val[0] = ord('h')  # Change 'H' to 'h'\n",
    "print(bytearray_val)\n",
    "print(bytearray_val[0])         \n"
   ]
  },
  {
   "cell_type": "markdown",
   "id": "f70fd418",
   "metadata": {},
   "source": [
    "memoryview_val = memoryview(bytes_val)\n",
    "\n",
    "Type: memoryview\n",
    "\n",
    "Description: A view object that allows you to access the memory of another binary object without copying it.\n",
    "\n",
    "Use Case: Efficient slicing and manipulation of large binary data (e.g., image processing, buffers).\n"
   ]
  },
  {
   "cell_type": "code",
   "execution_count": null,
   "id": "8ee30918",
   "metadata": {},
   "outputs": [],
   "source": [
    "bytes_val = b\"Hello\"                  # Bytes\n",
    "memoryview_val = memoryview(bytes_val)\n",
    "for i in range(0,(len(memoryview_val))):\n",
    "    print(memoryview_val[i])"
   ]
  },
  {
   "cell_type": "markdown",
   "id": "a05393be",
   "metadata": {},
   "source": [
    "*Convert decimal to binary and binary to decimal*"
   ]
  },
  {
   "cell_type": "code",
   "execution_count": null,
   "id": "ff9616c4",
   "metadata": {},
   "outputs": [],
   "source": [
    "x=10000\n",
    "binary = (bin(x)[2:])\n",
    "decimal = (int(binary, 2))\n",
    "print(binary, decimal)"
   ]
  },
  {
   "cell_type": "markdown",
   "id": "caad811e",
   "metadata": {},
   "source": [
    "***Convert String to ASCII  and ASCII to String***"
   ]
  },
  {
   "cell_type": "code",
   "execution_count": 3,
   "id": "4a2c1a9a",
   "metadata": {},
   "outputs": [
    {
     "name": "stdout",
     "output_type": "stream",
     "text": [
      "75\n",
      "K\n"
     ]
    }
   ],
   "source": [
    "print(ord(\"K\"))\n",
    "print(chr(75))"
   ]
  },
  {
   "cell_type": "markdown",
   "id": "26a64dc5",
   "metadata": {},
   "source": [
    "**Keyword** is a reserved word that has a special meaning and purpose in the language. These words are part of the syntax and cannot be used as variable names, function names, or identifiers."
   ]
  },
  {
   "cell_type": "code",
   "execution_count": null,
   "id": "d790631b",
   "metadata": {},
   "outputs": [],
   "source": [
    "keywords = [\n",
    "    \"False\", \"None\", \"True\", \"and\", \"as\", \"assert\", \"async\", \"await\",\n",
    "    \"break\", \"class\", \"continue\", \"def\", \"del\", \"elif\", \"else\", \"except\",\n",
    "    \"finally\", \"for\", \"from\", \"global\", \"if\", \"import\", \"in\", \"is\",\n",
    "    \"lambda\", \"nonlocal\", \"not\", \"or\", \"pass\", \"raise\", \"return\",\n",
    "    \"try\", \"while\", \"with\", \"yield\"\n",
    "]\n",
    "\n",
    "print(keywords)\n"
   ]
  },
  {
   "cell_type": "markdown",
   "id": "f6573b4a",
   "metadata": {},
   "source": [
    "***Operators***\n",
    "\n",
    "***Arithmetic:***\n",
    "\n",
    "1.\tAddition: a + b\n",
    "2.\tSubtraction: a - b\n",
    "3.\tMultiplication: a * b\n",
    "4.\tDivision: a / b (float division), a // b (integer division)\n",
    "5.\tModulo: a % b\n",
    "6.\tExponentiation: a ** b\n",
    "7.\tComparison:\n",
    "8.\tEqual: a == b\n",
    "9.\tNot Equal: a != b\n",
    "10.\tGreater Than: a > b\n",
    "11.\tLess Than: a < b\n",
    "12.\tGreater Than or Equal: a >= b\n",
    "13.\tLess Than or Equal: a <= b\n",
    "\n",
    "***Logical:***\n",
    "\n",
    "1.\tAnd: a and b\n",
    "2.\tOr: a or b\n",
    "3.\tNot: not a\n",
    "4.\tBitwise:\n",
    "5.\tAND: a & b\n",
    "6.\tOR: a | b\n",
    "7.\tXOR: a ^ b\n",
    "8.\tLeft Shift: a << b\n",
    "9.\tRight Shift: a >> b\n",
    "10.\tNOT: ~a\n",
    "\n",
    "\n",
    "***Identity:***\n",
    "\n",
    "1.\tIs: a is b\n",
    "2.\tIs Not: a is not b\n",
    "3.\tMembership:\n",
    "4.\tIn: item in collection\n",
    "5.\tNot In: item not in collection\n"
   ]
  },
  {
   "cell_type": "markdown",
   "id": "1dde6f9b",
   "metadata": {},
   "source": [
    "### Strings"
   ]
  },
  {
   "cell_type": "markdown",
   "id": "75b9a260",
   "metadata": {},
   "source": [
    "String is a sequence of characters used to represent text. Strings are immutable, meaning once created, their contents cannot be changed."
   ]
  },
  {
   "cell_type": "markdown",
   "id": "81ede9ef",
   "metadata": {},
   "source": [
    "***Methods***\n",
    "\n",
    "* lower()\tConverts all characters to lowercase.\n",
    "* upper()\tConverts all characters to uppercase.\n",
    "* capitalize()\tCapitalizes the first character.\n",
    "* title()\tCapitalizes the first letter of each word.\n",
    "* strip()\tRemoves leading and trailing whitespace.\n",
    "* lstrip() / rstrip()\tRemoves whitespace from left/right side.\n",
    "* replace(old, new)\tReplaces all occurrences of old with new.\n",
    "* split(delimiter)\tSplits the string into a list using delimiter.\n",
    "* join(iterable)\tJoins elements of an iterable into a string.\n",
    "* find(sub)\tReturns the index of the first occurrence of sub.\n",
    "* count(sub)\tCounts how many times sub appears.\n",
    "* startswith(prefix)\tChecks if string starts with prefix.\n",
    "* endswith(suffix)\tChecks if string ends with suffix.\n",
    "* isalpha()\tReturns True if all characters are alphabetic.\n",
    "* isdigit()\tReturns True if all characters are digits.\n",
    "* isalnum()\tReturns True if all characters are alphanumeric.\n",
    "* format()\tFormats strings using placeholders."
   ]
  },
  {
   "cell_type": "code",
   "execution_count": null,
   "id": "c7b8ccf1",
   "metadata": {},
   "outputs": [],
   "source": [
    "strings = 'kishore, py dev'\n",
    "multiline_string = '''this is \n",
    "multiline string\n",
    "used to write a multiline'''\n",
    "\n",
    "print(strings, multiline_string, sep='\\n')"
   ]
  },
  {
   "cell_type": "code",
   "execution_count": null,
   "id": "16fc2ccf",
   "metadata": {},
   "outputs": [],
   "source": [
    "#String Declaration\n",
    "\n",
    "str1 = \"\"\n",
    "str2 = str()\n",
    "print(str1, str2)\n",
    "print(len(str1))\n",
    "print(\"kishore\")"
   ]
  },
  {
   "cell_type": "markdown",
   "id": "804402e0",
   "metadata": {},
   "source": [
    "***string loops***"
   ]
  },
  {
   "cell_type": "code",
   "execution_count": null,
   "id": "9a2e2529",
   "metadata": {},
   "outputs": [],
   "source": [
    "x = 'kishore'\n",
    "for i in x:\n",
    "    print(i)"
   ]
  },
  {
   "cell_type": "markdown",
   "id": "8cd5db25",
   "metadata": {},
   "source": [
    "***String Slicing***"
   ]
  },
  {
   "cell_type": "code",
   "execution_count": null,
   "id": "70a02126",
   "metadata": {},
   "outputs": [],
   "source": [
    "# [start:stop:step]\n",
    "\n",
    "string = 'kishore vv'\n",
    "\n",
    "# Get characters from index 0 to 4 (i.e., 'kisho')\n",
    "print(string[0:5]) \n",
    "\n",
    "# Get characters from index 3 to 7 (i.e., 'hor')\n",
    "print(string[3:7]) "
   ]
  },
  {
   "cell_type": "code",
   "execution_count": null,
   "id": "015d0bbb",
   "metadata": {},
   "outputs": [],
   "source": [
    "string = 'kishore vv'\n",
    "\n",
    "# Get characters from index 4 to the end (i.e., 'ore vv')\n",
    "print(string[4:]) \n",
    "\n",
    "# Get characters from index 0 to the end (i.e., the whole string)\n",
    "print(string[0:]) "
   ]
  },
  {
   "cell_type": "code",
   "execution_count": null,
   "id": "3efd5254",
   "metadata": {},
   "outputs": [],
   "source": [
    "string = 'kishore vv'\n",
    "\n",
    "# Get characters from the beginning to index 7 (i.e., 'kishore')\n",
    "print(string[:7]) \n",
    "\n",
    "# Get characters from the beginning to index 0 (i.e., an empty string)\n",
    "print(string[:0]) "
   ]
  },
  {
   "cell_type": "code",
   "execution_count": null,
   "id": "f604af11",
   "metadata": {},
   "outputs": [],
   "source": [
    "string = 'kishore vv'\n",
    "\n",
    "# Get characters from the 3rd last to the end (i.e., ' vv')\n",
    "print(string[-3:]) \n",
    "\n",
    "# Get characters from the beginning up to the 2nd last (i.e., 'kishore v')\n",
    "print(string[:-1]) \n",
    "\n",
    "# Get characters from index 2 up to the 4th last (i.e., 'shore ')\n",
    "print(string[2:-3]) "
   ]
  },
  {
   "cell_type": "code",
   "execution_count": null,
   "id": "ff434aa8",
   "metadata": {},
   "outputs": [],
   "source": [
    "string = 'kishore vv'\n",
    "\n",
    "# Get every second character from the beginning to the end (i.e., 'ksoe v')\n",
    "print(string[::2]) \n",
    "\n",
    "# Get characters from index 1 to 8, taking every third character (i.e., 'ih ')\n",
    "print(string[1:9:3]) \n",
    "\n",
    "# Reverse the string (i.e., 'vv erohsik')\n",
    "print(string[::-1]) "
   ]
  },
  {
   "cell_type": "code",
   "execution_count": null,
   "id": "bd0b12c7",
   "metadata": {},
   "outputs": [],
   "source": [
    "string = 'kishore vv'\n",
    "\n",
    "# Get every second character from index 1 to the end (i.e., 'isrev')\n",
    "print(string[1::2]) \n",
    "\n",
    "# Get every third character from the beginning up to index 8 (i.e., 'khe')\n",
    "print(string[:9:3]) "
   ]
  },
  {
   "cell_type": "markdown",
   "id": "6f875a30",
   "metadata": {},
   "source": [
    "***Modify String***"
   ]
  },
  {
   "cell_type": "code",
   "execution_count": 4,
   "id": "9ebe5412",
   "metadata": {},
   "outputs": [
    {
     "name": "stdout",
     "output_type": "stream",
     "text": [
      "Original Text:        Kishore V V, Senior Systems Engineer, Chennai\n",
      "Uppercase:            KISHORE V V, SENIOR SYSTEMS ENGINEER, CHENNAI\n",
      "Lowercase:            kishore v v, senior systems engineer, chennai\n",
      "Capitalized:          Kishore v v, senior systems engineer, chennai\n",
      "Title Case:           Kishore V V, Senior Systems Engineer, Chennai\n",
      "Swap Case:            kISHORE v v, sENIOR sYSTEMS eNGINEER, cHENNAI\n",
      "Casefolded:           kishore v v, senior systems engineer, chennai\n"
     ]
    }
   ],
   "source": [
    "# Input string using your details\n",
    "text = \"Kishore V V, Senior Systems Engineer, Chennai\"\n",
    "\n",
    "# Convert to uppercase\n",
    "upper_text = text.upper()\n",
    "\n",
    "# Convert to lowercase\n",
    "lower_text = text.lower()\n",
    "\n",
    "# Capitalize first letter\n",
    "capitalized_text = text.capitalize()\n",
    "\n",
    "# Title case (capitalize first letter of each word)\n",
    "title_text = text.title()\n",
    "\n",
    "# Swap case (upper to lower and vice versa)\n",
    "swapped_text = text.swapcase()\n",
    "\n",
    "# Casefold (for aggressive lowercase, useful in comparisons)\n",
    "casefolded_text = text.casefold()\n",
    "\n",
    "# Display all transformations\n",
    "print(\"Original Text:       \", text)\n",
    "print(\"Uppercase:           \", upper_text)\n",
    "print(\"Lowercase:           \", lower_text)\n",
    "print(\"Capitalized:         \", capitalized_text)\n",
    "print(\"Title Case:          \", title_text)\n",
    "print(\"Swap Case:           \", swapped_text)\n",
    "print(\"Casefolded:          \", casefolded_text)"
   ]
  },
  {
   "cell_type": "markdown",
   "id": "f4b573bc",
   "metadata": {},
   "source": [
    "***string concatenation***"
   ]
  },
  {
   "cell_type": "code",
   "execution_count": null,
   "id": "f94aeb51",
   "metadata": {},
   "outputs": [],
   "source": [
    "# Your details as individual strings\n",
    "first_name = \"Kishore\"\n",
    "last_name = \"V V\"\n",
    "job_title = \"Senior Systems Engineer\"\n",
    "location = \"Chennai\"\n",
    "\n",
    "print(\"=== String Concatenation Examples ===\\n\")\n",
    "\n",
    "# 1. Using + operator\n",
    "concat_plus = first_name + \" \" + last_name + \", \" + job_title + \", \" + location\n",
    "print(\"Using + operator:     \", concat_plus)\n",
    "\n",
    "# 2. Using f-string\n",
    "concat_fstring = f\"{first_name} {last_name}, {job_title}, {location}\"\n",
    "print(\"Using f-string:       \", concat_fstring)\n",
    "\n",
    "# 3. Using join()\n",
    "concat_join = \", \".join([f\"{first_name} {last_name}\", job_title, location])\n",
    "print(\"Using join():         \", concat_join)\n",
    "\n",
    "# 4. Using format()\n",
    "concat_format = \"{} {}, {}, {}\".format(first_name, last_name, job_title, location)\n",
    "print(\"Using format():       \", concat_format)\n",
    "\n",
    "# 5. Using % formatting (old style)\n",
    "concat_percent = \"%s %s, %s, %s\" % (first_name, last_name, job_title, location)\n",
    "print(\"Using %% formatting:   \", concat_percent)"
   ]
  },
  {
   "cell_type": "markdown",
   "id": "2d597176",
   "metadata": {},
   "source": [
    "***Escape Sequences***\n",
    "\n",
    "* \\n → New line\n",
    "* \\t → Tab space\n",
    "* \\\" → Double quote inside a string"
   ]
  },
  {
   "cell_type": "code",
   "execution_count": null,
   "id": "c5dea7db",
   "metadata": {},
   "outputs": [],
   "source": [
    "# Escape sequence examples using your details\n",
    "text = \"Kishore V V\\nSenior Systems Engineer\\t(Chennai)\\n\\\"Python dev\\\"\"\n",
    "\n",
    "print(\"=== Escape Sequence Examples ===\\n\")\n",
    "print(text)\n"
   ]
  },
  {
   "cell_type": "markdown",
   "id": "9819ffed",
   "metadata": {},
   "source": [
    "### List and Array"
   ]
  },
  {
   "cell_type": "markdown",
   "id": "175207e9",
   "metadata": {},
   "source": [
    "**List**\n",
    "\n",
    "List is a built-in data type used to store multiple items in a single variable.\n",
    "\n",
    "* Ordered: Items have a defined order and that order will not change unless explicitly modified.\n",
    "* Mutable: You can change, add, or remove items after the list is created.\n",
    "* Heterogeneous: Lists can contain items of different data types (e.g., integers, strings, other lists)."
   ]
  },
  {
   "cell_type": "markdown",
   "id": "b28c5499",
   "metadata": {},
   "source": [
    "***List Methods***\n",
    "* append()\t    - Adds an element at the end of the list\n",
    "* clear()    -    Removes all the elements from the list\n",
    "* copy()\t   -  Returns a copy of the list\n",
    "* count()\t   -  Returns the number of elements with the specified value\n",
    "* extend()\t   -  Add the elements of a list (or any iterable), to the end of the current list\n",
    "* index()\t    - Returns the index of the first element with the specified value\n",
    "* insert()\t -    Adds an element at the specified position\n",
    "* pop()\t      -   Removes the element at the specified position\n",
    "* remove()\t   -  Removes the item with the specified value\n",
    "* reverse()\t -    Reverses the order of the list\n",
    "* sort()\t   -  Sorts the list"
   ]
  },
  {
   "cell_type": "code",
   "execution_count": null,
   "id": "97e7b017",
   "metadata": {},
   "outputs": [],
   "source": [
    "list1 = [12, 'kishore', 12+3j, True, 12.07, True]\n",
    "print(list1)"
   ]
  },
  {
   "cell_type": "code",
   "execution_count": null,
   "id": "4355ec9a",
   "metadata": {},
   "outputs": [],
   "source": [
    "keywords = [\n",
    "'and', 'as', 'assert', 'async', 'await', 'break', 'class', 'continue', \n",
    "'def', 'del','elif', 'else', 'except', 'False', 'finally', 'for', 'from', \n",
    "'global', 'if', 'import', 'in', 'is', 'lambda', 'None', 'nonlocal', 'not', \n",
    "'or', 'pass', 'raise', 'return', 'True', 'try', 'while', 'with', 'yield'\n",
    "]\n",
    "\n",
    "print(\"Total key words in python : \", len(keywords))\n",
    "print(keywords)"
   ]
  },
  {
   "cell_type": "markdown",
   "id": "1dfebca9",
   "metadata": {},
   "source": [
    "***Access Items or elements in a list***"
   ]
  },
  {
   "cell_type": "code",
   "execution_count": null,
   "id": "3dad8250",
   "metadata": {},
   "outputs": [],
   "source": [
    "keywords = [\n",
    "'and', 'as', 'assert', 'async', 'await', 'break', 'class', 'continue', \n",
    "'def', 'del','elif', 'else', 'except', 'False', 'finally', 'for', 'from', \n",
    "'global', 'if', 'import', 'in', 'is', 'lambda', 'None', 'nonlocal', 'not', \n",
    "'or', 'pass', 'raise', 'return', 'True', 'try', 'while', 'with', 'yield'\n",
    "]\n",
    "\n",
    "print(keywords[0])      #index starts from Zero\n",
    "print(keywords[-1])     #negative indexing access list elements from last\n"
   ]
  },
  {
   "cell_type": "code",
   "execution_count": null,
   "id": "21b20d0f",
   "metadata": {},
   "outputs": [],
   "source": [
    "num = [x for x in range(0,10)]\n",
    "\n",
    "print(num)\n",
    "print(num[0:9:2])       #stat:end:step\n",
    "\n",
    "print(num[-2::-2])  "
   ]
  },
  {
   "cell_type": "markdown",
   "id": "8aff4a5c",
   "metadata": {},
   "source": [
    "***Change Elements in list***"
   ]
  },
  {
   "cell_type": "code",
   "execution_count": null,
   "id": "4877fd07",
   "metadata": {},
   "outputs": [],
   "source": [
    "tech = ['java', 'python', 'cpp', 'java script']\n",
    "print(tech)\n",
    "tech[2]=\"c\"\n",
    "print(tech)\n",
    "\n",
    "tech[0:3]='cpp','java','python'     #python consider this as a tuple\n",
    "print(tech)\n",
    "tech[2:4]= [\"javascript\"]     # \"javascript\"  simple string is a worng method \n",
    "print(tech)"
   ]
  },
  {
   "cell_type": "code",
   "execution_count": null,
   "id": "7c199b69",
   "metadata": {},
   "outputs": [],
   "source": [
    "thislist = [\"apple\", \"banana\", \"cherry\"]\n",
    "\n",
    "thislist[1:3] = [\"watermelon\"]\n",
    "print(thislist)\n",
    "\n",
    "\n",
    "\n",
    "thislist = [\"apple\", \"banana\", \"cherry\"]\n",
    "thislist[1:3] = \"watermelon\"\n",
    "print(thislist)"
   ]
  },
  {
   "cell_type": "markdown",
   "id": "812fe23f",
   "metadata": {},
   "source": [
    "***Insert Items***"
   ]
  },
  {
   "cell_type": "code",
   "execution_count": null,
   "id": "4ede1034",
   "metadata": {},
   "outputs": [],
   "source": [
    "tech = ['java', 'python', 'cpp', 'java script']\n",
    "tech.insert(0, \"c\")\n",
    "print(tech)\n",
    "\n",
    "tech.append(\"react\")\n",
    "print(tech)\n",
    "\n",
    "new_tech = ['angular', 'react']\n",
    "tech.extend(new_tech)\n",
    "print(tech)"
   ]
  },
  {
   "cell_type": "markdown",
   "id": "d209a7a9",
   "metadata": {},
   "source": [
    "***Remove Elements***"
   ]
  },
  {
   "cell_type": "code",
   "execution_count": null,
   "id": "883cd836",
   "metadata": {},
   "outputs": [],
   "source": [
    "tech = ['c', 'java', 'python', 'cpp', 'java script', 'react', 'angular', 'react']\n",
    "print(tech)\n",
    "\n",
    "\"remove\"\n",
    "tech.remove('react')    #here this list containts 2 react remove function removes only first occurance\n",
    "print(tech, \"  ----> remove.('react') ...... here this list containts 2 react remove function removes only first occurance\" )\n",
    "\n",
    "#pop\n",
    "tech.pop()\n",
    "print(tech, \"   ---> pop()\")\n",
    "\n",
    "tech.pop(0)         #pop takes int as parameter and at most 1 argument by default it takes last element \n",
    "print(tech, \"    ---> pop(0)\")\n",
    "\n",
    "#clear\n",
    "tech.clear()\n",
    "print(tech,  \"---> clear()\")\n",
    "\n",
    "del tech\n",
    "try:\n",
    "    print(tech)\n",
    "except:\n",
    "    print(\"NameError: name 'tech' is not defined\",  ' ----> del')\n",
    "\n",
    "\n"
   ]
  },
  {
   "cell_type": "markdown",
   "id": "35bb2416",
   "metadata": {},
   "source": [
    "***List Loop***"
   ]
  },
  {
   "cell_type": "code",
   "execution_count": null,
   "id": "77cb850d",
   "metadata": {},
   "outputs": [],
   "source": [
    "tech = ['c', 'java', 'python', 'cpp', 'java script', 'angular', 'react']\n",
    "#method 1\n",
    "print('Method 1')\n",
    "\n",
    "for i in tech:\n",
    "    print(i)\n",
    "print()\n",
    "#method 2\n",
    "print('Method 2')\n",
    "for i in range(0, len(tech)):\n",
    "    print(tech[i])\n",
    "\n"
   ]
  },
  {
   "cell_type": "markdown",
   "id": "78c81045",
   "metadata": {},
   "source": [
    "* ***List Comprehension***\n",
    "\n",
    "\n",
    "***newlist = [expression for item in iterable if condition == True]***"
   ]
  },
  {
   "cell_type": "code",
   "execution_count": null,
   "id": "c598c245",
   "metadata": {},
   "outputs": [],
   "source": [
    "tech = ['c', 'java', 'python', 'cpp', 'java script', 'angular', 'react']\n",
    "filter  = [x for x in tech if 'o' in x]\n",
    "print(filter)\n",
    "\n",
    "new = [x.upper() for x in tech]\n",
    "print(new)\n",
    "\n",
    "\n",
    "even  = [x for x in range (0,11) if x%2==0]\n",
    "print(even)"
   ]
  },
  {
   "cell_type": "markdown",
   "id": "aafcdefb",
   "metadata": {},
   "source": [
    "***Lists Sort***"
   ]
  },
  {
   "cell_type": "code",
   "execution_count": null,
   "id": "df4f17f4",
   "metadata": {},
   "outputs": [],
   "source": [
    "tech = ['C', 'Java', 'Python', 'CPP', 'java script', 'angular', 'react']\n",
    "tech.sort()\n",
    "print(tech)\n",
    "\n",
    "tech.sort(reverse=True)\n",
    "print(tech)\n",
    "\n",
    "tech.sort(key=len)\n",
    "print(tech)\n",
    "\n",
    "\n",
    "\n"
   ]
  },
  {
   "cell_type": "code",
   "execution_count": null,
   "id": "f975fc27",
   "metadata": {},
   "outputs": [],
   "source": [
    "\n",
    "tech = ['C', 'Java', 'Python', 'CPP', 'java script', 'angular', 'react']\n",
    "tech.sort()\n",
    "print(tech)"
   ]
  },
  {
   "cell_type": "code",
   "execution_count": null,
   "id": "b451ae5c",
   "metadata": {},
   "outputs": [],
   "source": [
    "import random \n",
    "num = [random.randint(-100,100) for _ in range(25)]\n",
    "print(num)\n",
    "\n",
    "\n",
    "num.sort()\n",
    "print(num)\n",
    "\n",
    "\n",
    "num.sort(reverse=True)\n",
    "print(num)\n",
    "\n",
    "num.sort(key=abs)\n",
    "print(num)\n",
    "\n",
    "\n",
    "\n",
    "\n",
    "\n"
   ]
  },
  {
   "cell_type": "markdown",
   "id": "e5f58588",
   "metadata": {},
   "source": [
    "***Copy Lists***"
   ]
  },
  {
   "cell_type": "code",
   "execution_count": null,
   "id": "da1198e9",
   "metadata": {},
   "outputs": [],
   "source": [
    "tech = ['c', 'java', 'python', 'cpp', 'java script', 'angular', 'react']\n",
    "new1 = tech.copy()\n",
    "print(new)\n",
    "\n",
    "new2=list(new1)\n",
    "print(new2)\n",
    "\n",
    "new3=new[:]\n",
    "print(new3)"
   ]
  },
  {
   "cell_type": "markdown",
   "id": "0ff94415",
   "metadata": {},
   "source": [
    "***Unpack List***"
   ]
  },
  {
   "cell_type": "code",
   "execution_count": null,
   "id": "d35eb603",
   "metadata": {},
   "outputs": [],
   "source": [
    "hero = ['Iron man', 'captain america', 'hulk']\n",
    "tony,steve,banner=hero\n",
    "\n",
    "print(tony)\n",
    "print(steve)\n",
    "print(banner)\n"
   ]
  },
  {
   "cell_type": "markdown",
   "id": "80501bc4",
   "metadata": {},
   "source": [
    "### Tuple"
   ]
  },
  {
   "cell_type": "markdown",
   "id": "475c2c63",
   "metadata": {},
   "source": [
    "Tuples are similar to lists, but unlike lists, tuples cannot be changed after they are created. This immutability makes tuples useful for storing data that should not be modified.\n",
    "\n",
    "***Key Features of Tuples:***\n",
    "\n",
    "* Ordered: Elements have a defined order.\n",
    "* Immutable: Cannot be changed after creation.\n",
    "* Can contain mixed data types: integers, strings, other tuples, etc.\n",
    "* Can be nested: tuples within tuples."
   ]
  },
  {
   "cell_type": "markdown",
   "id": "839fe9f0",
   "metadata": {},
   "source": [
    "***Ceating tuples***"
   ]
  },
  {
   "cell_type": "code",
   "execution_count": null,
   "id": "d53dbf5a",
   "metadata": {},
   "outputs": [],
   "source": [
    "tech = 'python',True, 12, 12+7j     #python default takes tuple when values given by comma separated\n",
    "print(type(tech), tech)\n",
    "\n",
    "tup=('python', 'java', tech)    #method 2 used to declare tuple using () brackets\n",
    "print(tup)"
   ]
  },
  {
   "cell_type": "markdown",
   "id": "0f6c1f4c",
   "metadata": {},
   "source": [
    "**Similar to lsit tuples are accessed by index and sorted**"
   ]
  },
  {
   "cell_type": "markdown",
   "id": "9f6590a5",
   "metadata": {},
   "source": [
    "***Unpack Tuples***"
   ]
  },
  {
   "cell_type": "code",
   "execution_count": null,
   "id": "9084dd62",
   "metadata": {},
   "outputs": [],
   "source": [
    "hero = 'Iron man', 'captain america', 'hulk'\n",
    "tony,steve,banner=hero\n",
    "\n",
    "print(tony)\n",
    "print(steve)\n",
    "print(banner)"
   ]
  },
  {
   "cell_type": "markdown",
   "id": "085b1069",
   "metadata": {},
   "source": [
    "***Tuple Joins***"
   ]
  },
  {
   "cell_type": "code",
   "execution_count": null,
   "id": "312f62f2",
   "metadata": {},
   "outputs": [],
   "source": [
    "hero = 'Iron man', 'captain america', 'hulk'\n",
    "name= tony,steve,banner\n",
    "tup=hero+name\n",
    "print(tup)\n",
    "\n",
    "print(hero*3)\n"
   ]
  },
  {
   "cell_type": "markdown",
   "id": "31a59805",
   "metadata": {},
   "source": [
    "***Methods***\n",
    "\n",
    "* **Count**\n",
    "* **index**\n",
    "\n"
   ]
  },
  {
   "cell_type": "code",
   "execution_count": null,
   "id": "bdc9e4a3",
   "metadata": {},
   "outputs": [],
   "source": [
    "tup = \"kishore\", 'vv', 'python', 'dev', 'kishore'\n",
    "\n",
    "print(tup.count('kishore'))\n",
    "\n",
    "print(tup.index('kishore'))         #print index of the first occurance\n"
   ]
  },
  {
   "cell_type": "markdown",
   "id": "b998aca3",
   "metadata": {},
   "source": [
    "### Sets"
   ]
  },
  {
   "cell_type": "markdown",
   "id": "cb232a32",
   "metadata": {},
   "source": [
    "Set is an unordered collection of unique elements. Sets are useful when you want to store non-duplicate items and perform operations like union, intersection, and difference.\n",
    "\n",
    "***Key Features of Sets:***\n",
    "* Unordered: No guaranteed order of elements.\n",
    "* Mutable: You can add or remove elements.\n",
    "* No duplicates: Automatically removes duplicate entries.\n",
    "* Efficient: Fast membership testing and set operations."
   ]
  },
  {
   "cell_type": "markdown",
   "id": "eb9195e0",
   "metadata": {},
   "source": [
    "***Methods***\n",
    "\n",
    "* add()\t \tAdds an element to the set\n",
    "* clear()\t \tRemoves all the elements from the set\n",
    "* copy()\t \tReturns a copy of the set\n",
    "* difference()\t-\tReturns a set containing the difference between two or more sets\n",
    "* difference_update()\t-=\tRemoves the items in this set that are also included in another, specified set\n",
    "* discard()\t \tRemove the specified item\n",
    "* intersection()\t&\tReturns a set, that is the intersection of two other sets\n",
    "* intersection_update()\t&=\tRemoves the items in this set that are not present in other, specified set(s)\n",
    "* isdisjoint()\t \tReturns whether two sets have a intersection or not\n",
    "* issubset()\t<=\tReturns True if all items of this set is present in another set\n",
    "         \t<\tReturns True if all items of this set is present in another, larger set\n",
    "* issuperset()\t>=\tReturns True if all items of another set is present in this set\n",
    "        \t>\tReturns True if all items of another, smaller set is present in this set\n",
    "* pop()\t \tRemoves an element from the set\n",
    "* remove()\t \tRemoves the specified element\n",
    "* symmetric_difference()\t^\tReturns a set with the symmetric differences of two sets\n",
    "* symmetric_difference_update()\t^=\tInserts the symmetric differences from this set and another\n",
    "* union()\t|\tReturn a set containing the union of sets\n",
    "* update()\t|=\tUpdate the set with the union of this set and others"
   ]
  },
  {
   "cell_type": "code",
   "execution_count": 1,
   "id": "a2cb826d",
   "metadata": {},
   "outputs": [
    {
     "name": "stdout",
     "output_type": "stream",
     "text": [
      "{'kishore', True, 12, 12.07}\n",
      "<class 'set'>\n",
      "{'thor', 'Iron man', 'hulk', 'captain america'}\n",
      "{'Thor', 'Steve', 'Tony', 'Banner'}\n"
     ]
    }
   ],
   "source": [
    "name = {'Tony', 'Steve', 'Thor', 'Banner'}\n",
    "hero = {'Iron man', 'captain america', 'thor', 'hulk'}\n",
    "\n",
    "detials = {'kishore', 12, 12.07, True}\n",
    "print(detials)\n",
    "print(type(hero), hero, name, sep=\"\\n\")\n"
   ]
  },
  {
   "cell_type": "code",
   "execution_count": null,
   "id": "c5c0e658",
   "metadata": {},
   "outputs": [],
   "source": [
    "# 'set' object is not subscriptable can be accessed by index\n",
    "\n",
    "hero = {'Iron man', 'captain america', 'thor', 'hulk'}\n",
    "try:\n",
    "    print(hero[1]) \n",
    "except:\n",
    "    print(\" 'set' object is not subscriptable\")\n",
    "\n",
    "print(len(hero))\n"
   ]
  },
  {
   "cell_type": "markdown",
   "id": "87a80017",
   "metadata": {},
   "source": [
    "***add set items***"
   ]
  },
  {
   "cell_type": "code",
   "execution_count": 3,
   "id": "53cfe6f5",
   "metadata": {},
   "outputs": [
    {
     "name": "stdout",
     "output_type": "stream",
     "text": [
      "{'thor', 'captain america', 'Iron man', 'spider man', 'hulk'}\n",
      "{'peter', 'Tony', 'Thor', 'Banner', 'Steve'}\n",
      "{'captain america', 'peter', 'Tony', 'Thor', 'spider man', 'hulk', 'thor', 'Banner', 'Iron man', 'Steve'}\n"
     ]
    }
   ],
   "source": [
    "name = {'Tony', 'Steve', 'Thor', 'Banner'}\n",
    "hero = {'Iron man', 'captain america', 'thor', 'hulk'}\n",
    "\n",
    "name.add('peter')\n",
    "hero.update({'spider man'})\n",
    "\n",
    "print( hero, name, sep=\"\\n\")\n",
    "\n",
    "name.update(hero)\n",
    "print(name)"
   ]
  },
  {
   "cell_type": "markdown",
   "id": "1627e2aa",
   "metadata": {},
   "source": [
    "***Remove items***"
   ]
  },
  {
   "cell_type": "code",
   "execution_count": null,
   "id": "562e8ed0",
   "metadata": {},
   "outputs": [],
   "source": [
    "name = {'Tony', 'Steve', 'Thor', 'Banner'}\n",
    "hero = {'Iron man', 'captain america', 'thor', 'hulk'}\n",
    "\n",
    "name.remove('Steve')\n",
    "hero.discard('captain america')\n",
    "\n",
    "print(name)\n",
    "name.pop()\n",
    "print(name ,\"pop\")  \n",
    "\n",
    "print( hero, name, sep=\"\\n\")\n"
   ]
  },
  {
   "cell_type": "code",
   "execution_count": null,
   "id": "76cbe4de",
   "metadata": {},
   "outputs": [],
   "source": [
    "name = {'Tony', 'Steve', 'Thor', 'Banner'}\n",
    "hero = {'Iron man', 'captain america', 'thor', 'hulk'}\n",
    " \n",
    "\n",
    "name.clear()\n",
    "print(name)\n",
    "\n",
    "del hero\n",
    "\n",
    "try:\n",
    "    print(hero)\n",
    "except:\n",
    "    print('NameError: name \"hero\" is not defined')"
   ]
  },
  {
   "cell_type": "markdown",
   "id": "1cde917d",
   "metadata": {},
   "source": [
    "***Joins in Set***\n",
    "\n",
    "* The ***union()*** and ***update()*** methods joins all items from both sets.\n",
    "\n",
    "* The ***intersection()*** method keeps ONLY the duplicates.\n",
    "\n",
    "* The ***difference()*** method keeps the items from the first set that are not in the other set(s).\n",
    "\n",
    "* The ***symmetric_difference()*** method keeps all items EXCEPT the duplicates."
   ]
  },
  {
   "cell_type": "code",
   "execution_count": null,
   "id": "0a99f1c3",
   "metadata": {},
   "outputs": [],
   "source": [
    "#union or use | symbol\n",
    "\n",
    "\n",
    "name = {'Tony', 'Steve', 'Thor', 'Banner'}\n",
    "hero = {'Iron man', 'captain america', 'thor', 'hulk'}\n",
    "num = {1,2,3,4}\n",
    "\n",
    "#union or use | symbol\n",
    "\n",
    "print(name.union(hero))\n",
    "\n",
    "print(name.union(num, hero))\n",
    "\n",
    "print(name|hero|num)"
   ]
  },
  {
   "cell_type": "code",
   "execution_count": null,
   "id": "b317f62e",
   "metadata": {},
   "outputs": [],
   "source": [
    "#intersection or &\n",
    "\n",
    "name = {'Tony', 'Steve', 'Thor', 'Banner'}\n",
    "hero = {'Iron man', 'captain america', 'Thor', 'hulk'}\n",
    "\n",
    "print(name.intersection(hero))\n",
    "print(name & hero)\n",
    "\n",
    "\n",
    "#intersection_update or &=\n",
    "name.intersection_update(hero)\n",
    "print(name)"
   ]
  },
  {
   "cell_type": "code",
   "execution_count": null,
   "id": "b0a53ef1",
   "metadata": {},
   "outputs": [],
   "source": [
    "#difference or -\n",
    "\n",
    "system = {'hp', 'dell', 'acer'}\n",
    "pc = {'hp', 'lenavo'}\n",
    "print(system.difference(pc))\n",
    "print(system-pc)\n",
    "\n",
    "#difference_update or -=\n",
    "\n",
    "system.difference_update(pc)\n",
    "print(system)\n"
   ]
  },
  {
   "cell_type": "code",
   "execution_count": null,
   "id": "c2c6deed",
   "metadata": {},
   "outputs": [],
   "source": [
    "#symmetric_difference or ^\n",
    "\n",
    "system = {'hp', 'dell', 'acer'}\n",
    "pc = {'hp', 'lenavo'}\n",
    "\n",
    "print(system.symmetric_difference(pc))\n",
    "print(system ^ pc)\n",
    "\n",
    "\n",
    "#symmetric_difference_update or ^=\n",
    "\n",
    "system.symmetric_difference_update(pc)\n",
    "print(system)\n"
   ]
  },
  {
   "cell_type": "code",
   "execution_count": null,
   "id": "15532750",
   "metadata": {},
   "outputs": [],
   "source": [
    "#isdisjoint\n",
    "\n",
    "system = {'hp', 'dell', 'acer'}\n",
    "pc = {'hp', 'lenavo'}\n",
    "\n",
    "print(system.isdisjoint(pc))\n",
    "\n",
    "system = { 'dell', 'acer'}\n",
    "pc = {'hp', 'lenavo'}\n",
    "\n",
    "print(system.isdisjoint(pc))\n"
   ]
  },
  {
   "cell_type": "code",
   "execution_count": null,
   "id": "fee55e4a",
   "metadata": {},
   "outputs": [],
   "source": [
    "system = {'hp', 'dell','lenavo', 'acer'}\n",
    "pc = {'hp', 'lenavo'}\n",
    "\n",
    "print(system.issubset(pc))\n",
    "print(pc.issubset(system))"
   ]
  },
  {
   "cell_type": "code",
   "execution_count": null,
   "id": "5ae877fd",
   "metadata": {},
   "outputs": [],
   "source": [
    "system = {'hp', 'dell','lenavo', 'acer'}\n",
    "pc = {'hp', 'lenavo'}\n",
    "\n",
    "\n",
    "print(system.issuperset(pc))\n",
    "print(pc.issuperset(system))"
   ]
  },
  {
   "cell_type": "markdown",
   "id": "78376f86",
   "metadata": {},
   "source": [
    "### Dictionary"
   ]
  },
  {
   "cell_type": "markdown",
   "id": "c7cefc9b",
   "metadata": {},
   "source": [
    "Dictionary is a built-in data structure that stores data in key-value pairs. It's one of the most powerful and flexible types in Python, ideal for representing structured data.\n",
    "\n",
    "***Key Features of Dictionaries:***\n",
    "\n",
    "* Unordered (until Python 3.7+ where insertion order is preserved)\n",
    "* Mutable: You can change, add, or remove key-value pairs.\n",
    "* Keys must be unique and immutable (e.g., strings, numbers, tuples).\n",
    "* Values can be any type: numbers, strings, lists, other dictionaries, etc."
   ]
  },
  {
   "cell_type": "markdown",
   "id": "34e24caa",
   "metadata": {},
   "source": [
    "***Methods***\n",
    "\n",
    "* get(key)\tReturns the value for key, or None if not found.\n",
    "* keys()\tReturns a view of all keys.\n",
    "* values()\tReturns a view of all values.\n",
    "* items()\tReturns a view of all key-value pairs.\n",
    "* update(dict2)\tUpdates the dictionary with another dictionary.\n",
    "* pop(key)\tRemoves the key and returns its value.\n",
    "* popitem()\tRemoves and returns the last inserted key-value pair.\n",
    "* clear()\tRemoves all items.\n",
    "* copy()\tReturns a shallow copy.\n",
    "* setdefault(key, default)\tReturns value if key exists, else sets it to default."
   ]
  },
  {
   "cell_type": "code",
   "execution_count": 4,
   "id": "46846290",
   "metadata": {},
   "outputs": [
    {
     "name": "stdout",
     "output_type": "stream",
     "text": [
      "{'name': 'Kishore', 'department': 'IT', 'experience': 3.7}\n",
      "Kishore\n",
      "dict_keys(['name', 'department', 'experience'])\n",
      "dict_values(['Kishore', 'IT', 3.7])\n",
      "dict_items([('name', 'Kishore'), ('department', 'IT'), ('experience', 3.7)])\n"
     ]
    }
   ],
   "source": [
    "\n",
    "employee = {\n",
    "    \"name\": \"Kishore\",\n",
    "    \"department\": \"IT\",\n",
    "    \"experience\": 3.7\n",
    "}\n",
    "\n",
    "print(employee)                     # prints full dic\n",
    "print(employee.get(\"name\"))         # Kishore\n",
    "print(employee.keys())              # dict_keys(['name', 'department', 'experience'])\n",
    "print(employee.values())            # dict_values(['Kishore', 'IT', 5])\n",
    "print(employee.items())             # dict_items([('name', 'Kishore'), ('department', 'IT'), ('experience', 5)])\n"
   ]
  },
  {
   "cell_type": "code",
   "execution_count": null,
   "id": "aa11d3eb",
   "metadata": {},
   "outputs": [],
   "source": [
    "employee = {\n",
    "    \"name\": \"Kishore\",\n",
    "    \"department\": \"IT\",\n",
    "    \"experience\": 3.7,\n",
    "    \"experience\": 5\n",
    "}\n",
    "\n",
    "print(len(employee))\n",
    "print(employee)         #doesn't allow duplicate values\n",
    "\n",
    "employee[\"experience\"]=4\n",
    "\n",
    "print(employee)  \n",
    "\n",
    "employee[\"Role\"]=['senior systems engineer','python dev']\n",
    "\n",
    "print(employee)  \n",
    "\n",
    "\n"
   ]
  },
  {
   "cell_type": "code",
   "execution_count": null,
   "id": "ad00d486",
   "metadata": {},
   "outputs": [],
   "source": [
    "employee = {\n",
    "    \"name\": \"Kishore\",\n",
    "    \"department\": \"IT\",\n",
    "    \"experience\": 3.7,\n",
    "}\n",
    "\n",
    "if 'name' in employee:\n",
    "    print(employee.get('name'))\n",
    "\n",
    "employee.update({'role':'Senior Systems Engineer'})\n",
    "print(employee)"
   ]
  },
  {
   "cell_type": "markdown",
   "id": "e65593c6",
   "metadata": {},
   "source": [
    "### Loops as Control Structures"
   ]
  },
  {
   "cell_type": "markdown",
   "id": "ea2bcc31",
   "metadata": {},
   "source": [
    "***While loop***"
   ]
  },
  {
   "cell_type": "code",
   "execution_count": null,
   "id": "ffb8c079",
   "metadata": {},
   "outputs": [],
   "source": [
    "correct_password = \"Kishore@12\"\n",
    "user_input = \"\"\n",
    "\n",
    "while user_input != correct_password:\n",
    "    user_input = input(\"Enter the password: \")\n",
    "    if user_input != correct_password:\n",
    "        print(\"Incorrect password. Try again.\")\n",
    "\n",
    "print(\"Password Correct !\")"
   ]
  },
  {
   "cell_type": "code",
   "execution_count": null,
   "id": "1095e95e",
   "metadata": {},
   "outputs": [],
   "source": [
    "for i in range(0,11,2):\n",
    "    print(i)"
   ]
  },
  {
   "cell_type": "code",
   "execution_count": null,
   "id": "63032fb6",
   "metadata": {},
   "outputs": [],
   "source": [
    "name = 'kishore'\n",
    "for i in name:\n",
    "    print(i)"
   ]
  },
  {
   "cell_type": "code",
   "execution_count": null,
   "id": "6495f48a",
   "metadata": {},
   "outputs": [],
   "source": [
    "name = 'kishore'\n",
    "for i,j in enumerate (name):\n",
    "    print(i,j)"
   ]
  },
  {
   "cell_type": "code",
   "execution_count": null,
   "id": "4a2f931c",
   "metadata": {},
   "outputs": [],
   "source": [
    "for index, i in enumerate(range(0,11,2)):\n",
    "    print(index, i)"
   ]
  },
  {
   "cell_type": "markdown",
   "id": "4e2072f0",
   "metadata": {},
   "source": [
    "### Functions"
   ]
  },
  {
   "cell_type": "markdown",
   "id": "8ac76986",
   "metadata": {},
   "source": [
    "Python Functions is a block of statements that does a specific task. The idea is to put some commonly or repeatedly done task together and make a function so that instead of writing the same code again and again for different inputs, we can do the function calls to reuse code contained in it over and over again.\n",
    "\n",
    "* Benefits of Using Functions\n",
    "* Code Reuse\n",
    "* Reduced code length\n",
    "* Increased redability of code\n",
    "\n",
    "\n",
    "*Python has 2 functions Buildin functions and user defined functions*\n",
    "*Examples of user defined functions are*\n",
    "\n",
    "* *dir(), len() and abs()*"
   ]
  },
  {
   "cell_type": "code",
   "execution_count": null,
   "id": "b8cbf7b4",
   "metadata": {},
   "outputs": [],
   "source": [
    "def sum(a,b):   # def --> keyword; sum ---> Func name sum is defined or declared; (a,b) --> Parameter\n",
    "    return a+b  #functions return values\n",
    "\n",
    "a,b = 10,20\n",
    "result = sum        #func name assigned to variable\n",
    "print(\"Value 1 = \", result(a,b))  #func called using variable name\n",
    "\n",
    "print(sum(20,20)) #Calling a Function "
   ]
  },
  {
   "cell_type": "markdown",
   "id": "3d5ce4d0",
   "metadata": {},
   "source": [
    "**Types of Python Function Arguments**\n",
    "\n",
    "Python supports various types of arguments that can be passed at the time of the function call. In Python, we have the following function argument types in Python:\n",
    "\n",
    "* Default argument\n",
    "* Keyword arguments (named arguments)\n",
    "* Positional arguments\n",
    "* Arbitrary arguments (variable-length arguments *args and **kwargs)\n"
   ]
  },
  {
   "cell_type": "code",
   "execution_count": null,
   "id": "61525f80",
   "metadata": {},
   "outputs": [],
   "source": [
    "#Default argument\n",
    "\n",
    "#working method\n",
    "def sum(a, b=10):\n",
    "    return a+b\n",
    "\n",
    "\"\"\"def sub(a=10,b):\n",
    "    return a-b\"\"\"\n",
    "\n",
    "print(sum(10))\n"
   ]
  },
  {
   "cell_type": "code",
   "execution_count": null,
   "id": "25bd5b96",
   "metadata": {},
   "outputs": [],
   "source": [
    "#Keyword Arguments\n",
    "\"\"\"this allows specify the argument name with values so that the caller does not need to remember the order of parameters\"\"\"\n",
    "\n",
    "def name(f_name, l_name):\n",
    "    return f_name +\" \"+ l_name\n",
    "\n",
    "print(name(l_name=\"Venkatachalam\", f_name=\"Kishore\"))\n"
   ]
  },
  {
   "cell_type": "markdown",
   "id": "ec507b38",
   "metadata": {},
   "source": [
    "**Positional Arguments**\n",
    "\n",
    "We used the Position argument during the function call so that the first argument (or value) is assigned to name and the second argument (or value) is assigned to age. By changing the position, or if you forget the order of the positions, the values can be used in the wrong places"
   ]
  },
  {
   "cell_type": "code",
   "execution_count": null,
   "id": "34cab562",
   "metadata": {},
   "outputs": [],
   "source": [
    "def nameAge(name, age):\n",
    "    print(\"Hi, I am\", name)\n",
    "    print(\"My age is \", age)\n",
    "\n",
    "\n",
    "print(\"Case 1:\")\n",
    "nameAge(\"Kishore\", 27)\n",
    "\n",
    "print(\"\\nCase 2:\")\n",
    "nameAge(27, \"Kishore\")"
   ]
  },
  {
   "cell_type": "markdown",
   "id": "961726db",
   "metadata": {},
   "source": [
    "**Arbitrary Keyword  Arguments**\n",
    "In Python Arbitrary Keyword Arguments, *args, and **kwargs can pass a variable number of arguments to a function using special symbols. There are two special symbols:\n",
    "\n",
    "* *args in Python (Non-Keyword Arguments)\n",
    "* **kwargs in Python (Keyword Arguments)"
   ]
  },
  {
   "cell_type": "code",
   "execution_count": null,
   "id": "188b3eeb",
   "metadata": {},
   "outputs": [],
   "source": [
    "# *args in Python (Non-Keyword Arguments)\n",
    "\n",
    "def loop(*arg):\n",
    "    print(type(arg))\n",
    "    for i in arg:\n",
    "        print(i)\n",
    "\n",
    "loop(\"kishore\", \"py dev\", \"senior systems enginer\",\"infy\")"
   ]
  },
  {
   "cell_type": "markdown",
   "id": "6ca8b6e0",
   "metadata": {},
   "source": [
    "***To understand Key word arguments in functions understand dic and its build in functions***"
   ]
  },
  {
   "cell_type": "code",
   "execution_count": null,
   "id": "ddbe670e",
   "metadata": {},
   "outputs": [],
   "source": [
    "#**kwargs in Python (Keyword Arguments)\n",
    "\n",
    "#Example 1 :\n",
    "def greet_user(**kwargs):\n",
    "    greeting = kwargs.get(\"greeting\", \"Hello\")\n",
    "    name = kwargs.get(\"name\", \"Guest\")\n",
    "    punctuation = kwargs.get(\"punctuation\", \"!\")\n",
    "    \n",
    "    print(f\"{greeting}, {name}{punctuation}\")\n",
    "\n",
    "# Different ways to call the function\n",
    "greet_user(name=\"Kishore\", greeting=\"Welcome\")         # Output: Welcome, Kishore!\n",
    "greet_user(name=\"Kishore\", punctuation=\".\")            # Output: Hello, Kishore.\n",
    "greet_user()                                           # Output: Hello, Guest!\n",
    "\n",
    "#Exampe 2 : \n",
    "def print_employee_details(**kwargs):\n",
    "    for key, value in kwargs.items():\n",
    "        print(f\"{key}: {value}\")\n",
    "\n",
    "# Calling the function with keyword arguments\n",
    "print_employee_details(name=\"Kishore\", role=\"Senior Systems Engineer\", location=\"Chennai\")\n"
   ]
  },
  {
   "cell_type": "code",
   "execution_count": null,
   "id": "9612c52d",
   "metadata": {},
   "outputs": [],
   "source": [
    "def sum(**kwargs):\n",
    "    a,b = kwargs.values()\n",
    "    return a+b\n",
    "\n",
    "print(sum(a=10,b=20))\n",
    "\n",
    "\n",
    "def find(**kwargs):\n",
    "    keys= kwargs.keys()\n",
    "    values= kwargs.values()\n",
    "    print(keys, values)\n",
    "\n",
    "\n",
    "find(a=10,b=20,c=30)"
   ]
  },
  {
   "cell_type": "markdown",
   "id": "472286e7",
   "metadata": {},
   "source": [
    "**Docstring**\n",
    "\n",
    "The first string after the function is declared is the Document string or Docstring in short. This is used to describe the functionality of the function. The use of docstring in functions is optional but it is considered a good practice.\n",
    "\n",
    "The below syntax can be used to print out the docstring of a function"
   ]
  },
  {
   "cell_type": "code",
   "execution_count": null,
   "id": "1f1b11d8",
   "metadata": {},
   "outputs": [],
   "source": [
    "def evenOdd(x):\n",
    "    \"\"\"This Function check for the number is odd or even\"\"\" \n",
    "    if (x % 2 == 0):\n",
    "        print(\"even\")\n",
    "    else:\n",
    "        print(\"odd\")\n",
    "\n",
    "\n",
    "print(evenOdd.__doc__)\n"
   ]
  },
  {
   "cell_type": "markdown",
   "id": "8f2d08ea",
   "metadata": {},
   "source": [
    "#### Fuction Behaviour"
   ]
  },
  {
   "cell_type": "code",
   "execution_count": null,
   "id": "9667ffea",
   "metadata": {},
   "outputs": [
    {
     "name": "stdout",
     "output_type": "stream",
     "text": [
      "30\n",
      "120\n"
     ]
    }
   ],
   "source": [
    "#check this code in py format at any IDE\n",
    "# ctrl + click on function will popup usage of the function\n",
    "\n",
    "def sec(c1, c2):\n",
    "    rev = funny(c1,c2)\n",
    "    return rev\n",
    "\n",
    "def funny(v1,v2):\n",
    "    result = v1+v2\n",
    "    return result\n",
    "\n",
    "big1=sec(100,10)\n",
    "big2=sec(200,20)\n",
    "\n",
    "\n",
    "\n",
    "if __name__==\"__main__\":\n",
    "    print(big1, big2)\n",
    "\n"
   ]
  },
  {
   "cell_type": "markdown",
   "id": "d39f6e52",
   "metadata": {},
   "source": [
    "**Pass by reference and value**\n",
    "\n",
    "* ***Pass-by-value:*** A copy of the variable is passed. Changes inside the function do not affect the original variable.\n",
    "* ***Pass-by-reference:*** A reference (or pointer) to the original variable is passed. Changes inside the function do affect the original variable.\n",
    "\n",
    "Python uses a model called \"pass-by-object-reference\" or \"pass-by-assignment\".\n",
    "\n",
    "* Mutable objects **Pass by Reference** (like lists, dictionaries, sets, custom objects): changes inside the function affect the original object.\n",
    "* Immutable objects **Pass By Value** (like integers, strings, tuples): changes inside the function do not affect the original object."
   ]
  },
  {
   "cell_type": "code",
   "execution_count": null,
   "id": "faa851b6",
   "metadata": {},
   "outputs": [],
   "source": [
    "# Pass by reference mututBLE\n",
    "\n",
    "def modify_list(my_list):\n",
    "    my_list.append(100)\n",
    "\n",
    "nums = [1, 2, 3]\n",
    "modify_list(nums)\n",
    "print(nums)  # Output: [1, 2, 3, 100]\n",
    "\n",
    "# Pass by value immutable values\n",
    "\n",
    "def modify_number(n):\n",
    "    n += 10\n",
    "\n",
    "x = 5\n",
    "modify_number(x)\n",
    "print(x)  # Output: 5\n"
   ]
  },
  {
   "cell_type": "markdown",
   "id": "b2255120",
   "metadata": {},
   "source": [
    "**Call one function from another just like you would call it from anywhere else**"
   ]
  },
  {
   "cell_type": "code",
   "execution_count": null,
   "id": "6dc50ffd",
   "metadata": {},
   "outputs": [],
   "source": [
    "def square(x):\n",
    "    return x * x\n",
    "\n",
    "def double_and_square(x):\n",
    "    return square(x * 2)\n",
    "\n",
    "print(double_and_square(3))  # Output: 36\n"
   ]
  },
  {
   "cell_type": "markdown",
   "id": "7e41679c",
   "metadata": {},
   "source": [
    "### Lambda Function"
   ]
  },
  {
   "cell_type": "markdown",
   "id": "21192ee3",
   "metadata": {},
   "source": [
    "here are the examples for all concepts using lambda"
   ]
  },
  {
   "cell_type": "markdown",
   "id": "8d000681",
   "metadata": {},
   "source": [
    "variable name = *lambada* **argument** : *experssion*"
   ]
  },
  {
   "cell_type": "code",
   "execution_count": null,
   "id": "fe42d397",
   "metadata": {},
   "outputs": [],
   "source": [
    "x = (lambda value: value**2)\n",
    "print(x(10))"
   ]
  },
  {
   "cell_type": "code",
   "execution_count": null,
   "id": "f5dc430f",
   "metadata": {},
   "outputs": [],
   "source": [
    "# map\n",
    "numbers = [1, 2, 3, 4]\n",
    "doubled = list(map(lambda x: x * 2, numbers))\n",
    "print(doubled)"
   ]
  },
  {
   "cell_type": "code",
   "execution_count": null,
   "id": "5c49771f",
   "metadata": {},
   "outputs": [],
   "source": [
    "# filter\n",
    "numbers = [1, 2, 3, 4, 5, 6]\n",
    "even_numbers = list(filter(lambda x: x % 2 == 0, numbers))\n",
    "print(even_numbers)  # Output: [2, 4, 6]"
   ]
  },
  {
   "cell_type": "code",
   "execution_count": null,
   "id": "236138ff",
   "metadata": {},
   "outputs": [],
   "source": [
    "# reduce\n",
    "from functools import reduce\n",
    "\n",
    "numbers = [1, 2, 3, 4]\n",
    "product = reduce(lambda x, y: x * y, numbers)\n",
    "print(product)  # Output: 24"
   ]
  },
  {
   "cell_type": "code",
   "execution_count": null,
   "id": "70dffe81",
   "metadata": {},
   "outputs": [],
   "source": [
    "sum = (lambda a,b: a+b)\n",
    "value1 = int(input())\n",
    "value2 = int(input())\n",
    "print(sum(value1, value2))"
   ]
  },
  {
   "cell_type": "code",
   "execution_count": null,
   "id": "89c03b5c",
   "metadata": {},
   "outputs": [],
   "source": [
    "x = lambda a, b, c : a + b + c\n",
    "print(x(5, 6, 2))"
   ]
  },
  {
   "cell_type": "code",
   "execution_count": null,
   "id": "9728cfe9",
   "metadata": {},
   "outputs": [],
   "source": [
    "check_odd_even = lambda x: \"Even\" if x % 2 == 0 else \"Odd\"\n",
    "print(check_odd_even(7))\n"
   ]
  },
  {
   "cell_type": "code",
   "execution_count": null,
   "id": "253a9a5e",
   "metadata": {},
   "outputs": [],
   "source": [
    "#Compare 2 numbers can be done without using lambda if need fun can be defined what is the use of lambda here\n",
    "max = (lambda x,y : x if x>y else y)\n",
    "v1, v2 = 10,20\n",
    "print(max(v1,v2))\n",
    "\n",
    "print(\"without lambda\",v1 if v1>v2 else v2)"
   ]
  },
  {
   "cell_type": "code",
   "execution_count": null,
   "id": "6cc8e46e",
   "metadata": {},
   "outputs": [],
   "source": [
    "\n",
    "numbers = [(1, 'a'), (3, 'b'), (2, 'c')]\n",
    "sorted_list = sorted(numbers, key=lambda x: x[0])\n",
    "print(sorted_list)  # Output: [(1, 'a'), (2, 'c'), (3, 'b')]"
   ]
  },
  {
   "cell_type": "code",
   "execution_count": null,
   "id": "534cdab3",
   "metadata": {},
   "outputs": [],
   "source": [
    "words = ['apple', 'banana', 'kiwi']\n",
    "sorted_words = sorted(words, key=lambda x: len(x))\n",
    "print(sorted_words)  # Output: ['kiwi', 'apple', 'banana']"
   ]
  },
  {
   "cell_type": "code",
   "execution_count": null,
   "id": "a62ac042",
   "metadata": {},
   "outputs": [],
   "source": [
    "import pandas as pd\n",
    "df = pd.DataFrame({'A': [1, 2, 3]})\n",
    "df['B'] = df['A'].apply(lambda x: x * 10)\n",
    "print(df['B'])"
   ]
  },
  {
   "cell_type": "code",
   "execution_count": null,
   "id": "4b1faeec",
   "metadata": {},
   "outputs": [],
   "source": [
    "words = ['apple', 'banana', 'kiwi']\n",
    "sorted_words = sorted(words, key=lambda x: len(x))\n",
    "print(sorted_words)  # Output: ['kiwi', 'apple', 'banana']"
   ]
  },
  {
   "cell_type": "code",
   "execution_count": null,
   "id": "488e6fca",
   "metadata": {},
   "outputs": [],
   "source": [
    "# map\n",
    "numbers = [1, 2, 3, 4]\n",
    "doubled = list(map(lambda x: x * 2, numbers))\n",
    "print(doubled)"
   ]
  },
  {
   "cell_type": "markdown",
   "id": "ecf96ee9",
   "metadata": {},
   "source": [
    "### OOPS \n"
   ]
  },
  {
   "cell_type": "markdown",
   "id": "2d8f0ee4",
   "metadata": {},
   "source": [
    "***OOPS Concepts***\n",
    "\n",
    "*   Class and Object\n",
    "*   Instance Variables and Methods\n",
    "*   Class Variables and Methods\n",
    "*   Static Methods   \n",
    "*   Inheritance\n",
    "    *   Single Inheritance\n",
    "    *   Multiple Inheritance\n",
    "    *   Multilevel Inheritance\n",
    "    *   Hierarchical Inheritance\n",
    "    *   Hybrid Inheritance\n",
    "*   Polymorphism\n",
    "    *   Method Overloading (simulated in Python)\n",
    "    *   Method Overriding\n",
    "    *   Operator Overloading\n",
    "*   Encapsulation\n",
    "*   Abstraction    \n",
    "*   Access Modifiers\n",
    "    *   Public\n",
    "    *   Protected\n",
    "    *   Private\n",
    "*   Special Methods / Magic Methods (__str__, __add__, etc.)  \n",
    "*   Duck Typing \n",
    "*   Composition \n",
    "*   Aggregation\n",
    "*   Abstract Base Classes (abc module)\n",
    "*   Interfaces (via abstract classes)\n",
    "------------------------------------"
   ]
  },
  {
   "cell_type": "markdown",
   "id": "c9a3f017",
   "metadata": {},
   "source": [
    "*Python is an object-oriented language, allowing you to structure your code using classes and objects for better organization and reusability.*\n",
    "\n",
    "Advantages of OOP\n",
    "* Provides a clear structure to programs\n",
    "* Makes code easier to maintain, reuse, and debug\n",
    "* Helps keep your code DRY (Don't Repeat Yourself)\n",
    "* Allows you to build reusable applications with less code\n",
    "* Tip: The DRY principle means you should avoid writing the same code more than once. Move repeated code into functions or classes and reuse it.\n",
    "-----------------------------------\n",
    "What are Classes and Objects?\n",
    "Classes and objects are the two core concepts in object-oriented programming.\n",
    "\n",
    "A class is like a blueprint for creating objects. It defines the structure and behavior (data and functions) that the objects created from it will have.\n",
    "\n",
    "* Class\tBlueprint or template\n",
    "* Object\tInstance of a class\n",
    "* Method\tFunction defined inside a class\n",
    "* Attribute\tVariable associated with an object\n",
    "\n",
    "**Class and Objects Examples**\n",
    "\n",
    "*Example 1*\n",
    "* Class: Car\n",
    "* Objects: Volvo, Audi, Toyota\n",
    "\n",
    "*Example 2*\n",
    "\n",
    "* Class: Fruit  \t\n",
    "* Object: Apple, Banana, Mango\n",
    "      \n",
    "    \n",
    "When you create an object from a class, it inherits all the variables and functions defined inside that class."
   ]
  },
  {
   "cell_type": "markdown",
   "id": "193f90ed",
   "metadata": {},
   "source": [
    "\n",
    "---\n",
    "\n",
    "#### *Are all instances objects?**\n",
    "\n",
    "In Python **all instances are objects**. When you create an instance of a class, you're creating an object that belongs to that class.\n",
    "\n",
    "```python\n",
    "class Car:\n",
    "    pass\n",
    "\n",
    "my_car = Car()  # 'my_car' is an instance of Car\n",
    "print(isinstance(my_car, object))  # True\n",
    "```\n",
    "\n",
    "So, `my_car` is:\n",
    "- An **instance** of the `Car` class.\n",
    "- An **object** in Python (because everything in Python is an object).\n",
    "\n",
    "---\n",
    "\n",
    "### **Are all objects instances?**\n",
    "**Not necessarily.**  \n",
    "While **every object is an instance of *some* class**, not all objects are instances of **user-defined classes**.\n",
    "\n",
    "For example:\n",
    "\n",
    "```python\n",
    "x = 10\n",
    "print(isinstance(x, object))  # True\n",
    "print(type(x))  # <class 'int'>\n",
    "```\n",
    "\n",
    "- `x` is an **object** (of type `int`).\n",
    "- But it's **not an instance of a user-defined class** — it's an instance of a built-in class.\n",
    "\n",
    "---\n",
    "\n",
    "###  Final Summary\n",
    "\n",
    "| Statement                                | True/False | Explanation |\n",
    "|------------------------------------------|------------|-------------|\n",
    "| All **instances are objects**            |  True     | Every instance of a class is an object in Python. |\n",
    "| All **objects are instances**            |  True     | Every object is an instance of some class (built-in or user-defined). |\n",
    "| All **objects are instances of user-defined classes** | False    | Many objects are instances of built-in classes like `int`, `str`, `list`, etc. |\n",
    "\n",
    "---\n",
    "\n",
    "So, your refined statement could be:\n",
    "\n",
    " **\"All instances are objects, and all objects are instances of some class — but not all are instances of user-defined classes.\"**\n",
    "\n"
   ]
  },
  {
   "cell_type": "markdown",
   "id": "2ac40afe",
   "metadata": {},
   "source": [
    "**Attributes**\n",
    "\n",
    "* Attributes are the variables that belong to a class.\n",
    "\n",
    "* Attributes are always public and can be accessed using the dot (.) operator. Example: Myclass.Myattribute"
   ]
  },
  {
   "cell_type": "code",
   "execution_count": null,
   "id": "8ece5845",
   "metadata": {},
   "outputs": [],
   "source": [
    "# Basics of Class\n",
    "\n",
    "class Class_name:   #class definition \n",
    "    variable = 10   # class Attributes\n",
    "\n",
    "object_name = Class_name() #creating oject is known as class instantiation\n",
    "print(object_name.variable)\n"
   ]
  },
  {
   "cell_type": "markdown",
   "id": "fbc49edd",
   "metadata": {},
   "source": [
    "**Class Variables**\n",
    "\n",
    "These are the variables that are shared across all instances of a class. It is defined at the class level, outside any methods. All objects of the class share the same value for a class variable unless explicitly overridden in an object.\n",
    "\n",
    "**Instance Variables**\n",
    "\n",
    "Variables that are unique to each instance (object) of a class. These are defined within the __init__ method or other instance methods. Each object maintains its own copy of instance variables, independent of other objects.\n",
    "\n",
    "Accessing Variables: \n",
    "* Class variables can be accessed via the class name (Dog.species) or an object (dog1.species). \n",
    "* Instance variables are accessed via the object (dog1.name).\n",
    "\n",
    "*Updating Variables: Changing Dog.species affects all instances.*\n",
    "\n",
    "*Changing dog1.name only affects dog1 and does not impact dog2.*\n"
   ]
  },
  {
   "cell_type": "code",
   "execution_count": null,
   "id": "dad58181",
   "metadata": {},
   "outputs": [],
   "source": [
    "class Employee:\n",
    "    about = \"Employee Records\"  # class variables \n",
    "    def __init__(self,emp_no,name, role):   #A Method is a Function inside a class \n",
    "        self.emp_no=emp_no      # Instance Variables or Instance Attribute - self.emp_no\n",
    "        self.name=name          #parameter - emp_no \n",
    "        self.role=role\n",
    "\n",
    "\n",
    "# Creating multiple instances (objects)\n",
    "employee1=Employee(1,\"Kishore\", \"Engineer\")\n",
    "employee2=Employee(2,\"Tony\", \"Engineer\")\n",
    "print(employee1)\n",
    "print(employee1.name)\n",
    "\n",
    "print(Employee.about)"
   ]
  },
  {
   "cell_type": "markdown",
   "id": "9e48c93f",
   "metadata": {},
   "source": [
    "Add a __str__ method to your class to customize how the object is printed:\n"
   ]
  },
  {
   "cell_type": "code",
   "execution_count": null,
   "id": "cff10663",
   "metadata": {},
   "outputs": [],
   "source": [
    "#Create class Car\n",
    "class car:\n",
    "    info = \"Car Details\"\n",
    "    def __init__(self, brand, model, variant, year):\n",
    "        self.model=model\n",
    "        self.brand=brand\n",
    "        self.variant= variant\n",
    "        self.year= year\n",
    "\n",
    "    def __str__(self):\n",
    "        return (f\"{self.info}: {self.year} {self.brand} {self.model} {self.variant}\")\n",
    "    \n",
    "car1=car(\"Hyundai\", \"Grand i10\", \"magna\", 2017)\n",
    "car2= car(\"Tata\", \"Altroz\", \"XE\",2020)\n",
    "\n",
    "print(car1,car2, sep=\"\\n\")\n"
   ]
  },
  {
   "cell_type": "markdown",
   "id": "b8c9f10c",
   "metadata": {},
   "source": [
    "* *The self parameter is a reference to the current instance of the class, and is used to access variables that belong to the class.*\n",
    "\n",
    "* *It does not have to be named self, you can call it whatever you like, but it has to be the first parameter of any function in the class*"
   ]
  },
  {
   "cell_type": "code",
   "execution_count": null,
   "id": "7af5848d",
   "metadata": {},
   "outputs": [],
   "source": [
    "class Employee:\n",
    "    def __init__(self,emp_no,name, role):   #Method is  aFunction inside a class __init__\n",
    "        self.emp_no=emp_no      #Attribute - self.emp_no\n",
    "        self.name=name          #parameter - emp_no \n",
    "        self.role=role\n",
    "\n",
    "    def func(self_zz):      #sthe word self  can be changed to any word \n",
    "        print(self_zz.name, \"This name prints when function is called\")\n",
    "\n",
    "\n",
    "# Creating multiple instances (objects)\n",
    "employee1=Employee(1,\"Kishore\", \"Engineer\")\n",
    "employee2=Employee(2,\"Tony\", \"Engineer\")\n",
    "\n",
    "print(employee1)\n",
    "print(employee2.name)\n",
    "\n",
    "employee1.func()\n"
   ]
  },
  {
   "cell_type": "code",
   "execution_count": null,
   "id": "4af29f1c",
   "metadata": {},
   "outputs": [],
   "source": [
    "class Calculator:\n",
    "    def __init__(a, b):\n",
    "        return a + b\n",
    "\n",
    "result = Calculator.__init__(5, 3)\n",
    "print(result)  # Output: 8\n"
   ]
  },
  {
   "cell_type": "markdown",
   "id": "b49a0eb0",
   "metadata": {},
   "source": [
    "**Why self is Needed**\n",
    "* self allows you to store data inside the object.\n",
    "* Without self, you can't access or modify the object's attributes.\n",
    "* It's the way Python binds data to the instance."
   ]
  },
  {
   "cell_type": "markdown",
   "id": "9aa25648",
   "metadata": {},
   "source": [
    "**Constructor**\n",
    "\n",
    "The __init__ method is a special method used to initialize objects when a class is instantiated. It’s often called the constructor.\n",
    "\n",
    "Purpose of __init__\n",
    "* It sets up the initial state of the object.\n",
    "* It assigns values to the object’s attributes using the parameters passed during object creation.\n",
    "\n",
    "\n",
    "*If you don’t use __init__ in a Python class, the class can still be created, but:*\n",
    "\n",
    "*You won’t be able to initialize attributes during object creation.*\n",
    "*You’ll need to manually assign values to the object after it’s created.*\n",
    "\n",
    "* Limitations Without __init__\n",
    "* Less readable and maintainable code.\n",
    "* No automatic setup of object state.\n",
    "* Higher chance of errors if attributes are forgotten or misassigned."
   ]
  },
  {
   "cell_type": "code",
   "execution_count": null,
   "id": "b37b5673",
   "metadata": {},
   "outputs": [],
   "source": [
    "class Car:\n",
    "    pass\n",
    "\n",
    "car1 = Car()\n",
    "car1.brand = \"Toyota\"\n",
    "car1.model = \"Camry\"\n",
    "\n",
    "print(car1.brand)  # Output: Toyota\n"
   ]
  },
  {
   "cell_type": "code",
   "execution_count": null,
   "id": "5e6d17ad",
   "metadata": {},
   "outputs": [],
   "source": [
    "class system:\n",
    "    def __init__(self=None, brand=None, model=None, processor=None, ram=None, storage=None, os=None):\n",
    "        self.brand=brand\n",
    "        self.model=model\n",
    "        self.processor=processor\n",
    "        self.ram=ram\n",
    "        self.storage=storage\n",
    "        self.os=os\n",
    "    \n",
    "    def __str__(self):\n",
    "        return (f' {self.brand} {self.model} {self.processor} {self.ram} {self.storage} {self.os}')\n",
    "        \n",
    "Device1=system()     #object cannot be created with out parameters \n",
    "Device1.brand=\"HP\"\n",
    "Device1.model=\"ProBook\"\n",
    "Device1.processor=\"i7\"\n",
    "Device1.ram=\"32 gb\"\n",
    "Device1.storage=\"512 gb ssd\"\n",
    "Device1.os= \"windows 11 Pro\"\n",
    "Device1=system(\"Dell\", \"Latitude\", \"i5\", \"16 gb ram\", \"256 gb ssd\", \"win10\")\n",
    "print(Device1)"
   ]
  },
  {
   "cell_type": "markdown",
   "id": "88b7a9c6",
   "metadata": {},
   "source": [
    "**Inheritance**\n",
    "\n",
    "Inheritance allows a class (child class) to acquire properties and methods of another class (parent class). It supports hierarchical classification and promotes code reuse.\n",
    "\n",
    "**Types of Inheritance:**\n",
    "* **Single Inheritance:** A child class inherits from a single parent class.\n",
    "* **Multiple Inheritance:** A child class inherits from more than one parent class.\n",
    "    * *Father & Mother -----> son*\n",
    "* **Multilevel Inheritance:** A child class inherits from a parent class, which in turn inherits from another class.\n",
    "    * *Grandfather ----> Father ----> son*\n",
    "* **Hierarchical Inheritance:** Multiple child classes inherit from a single parent class.\n",
    "    * *Father -----> son1 , son2 ,daughter*\n",
    "* **Hybrid Inheritance:** A combination of two or more types of inheritance."
   ]
  },
  {
   "cell_type": "code",
   "execution_count": null,
   "id": "776407fa",
   "metadata": {},
   "outputs": [],
   "source": [
    "# Inheritance :  Single inheritance\n",
    "\n",
    "class car:          #base class or parent class\n",
    "    def __init__(self, brand):\n",
    "        self.brand = brand\n",
    "\n",
    "    def print_brand(self):\n",
    "        print(\"Car brand:\", self.brand)\n",
    "\n",
    "class model(car):       #derived class or child class or sub class\n",
    "    def __init__(self, brand, model_name):\n",
    "        super().__init__(brand)\n",
    "        self.model_name = model_name\n",
    "\n",
    "    def info(self):\n",
    "        return (f\"car details : {self.brand} {self.model_name}\")\n",
    "    \n",
    "\n",
    "# Example usage\n",
    "car1 = model(\"Toyota\", \"Corolla\")\n",
    "car2 = model(\"hyundai\", \"i10\" )\n",
    "\n",
    "print(car1.info())\n",
    "print(car2.info())\n"
   ]
  },
  {
   "cell_type": "code",
   "execution_count": null,
   "id": "23f527f3",
   "metadata": {},
   "outputs": [],
   "source": [
    "# Inheritance :  Multiple inheritance\n",
    "\n",
    "# Base class 1\n",
    "class Car:\n",
    "    def __init__(self, brand):\n",
    "        self.brand = brand\n",
    "\n",
    "    def print_brand(self):\n",
    "        print(\"Car brand:\", self.brand)\n",
    "\n",
    "    def __str__(self):\n",
    "        return f\"Brand: {self.brand}\"\n",
    "\n",
    "# Base class 2\n",
    "class Engine:\n",
    "    def __init__(self, engine_type):\n",
    "        self.engine_type = engine_type\n",
    "\n",
    "    def print_engine(self):\n",
    "        print(\"Engine type:\", self.engine_type)\n",
    "\n",
    "    def __str__(self):\n",
    "        return f\"Engine: {self.engine_type}\"\n",
    "\n",
    "# Derived class with multiple inheritance\n",
    "class Model(Car, Engine):\n",
    "    def __init__(self, brand, engine_type, model_name):\n",
    "        Car.__init__(self, brand)\n",
    "        Engine.__init__(self, engine_type)\n",
    "        self.model_name = model_name\n",
    "\n",
    "    def print_model(self):\n",
    "        print(\"Model name:\", self.model_name)\n",
    "\n",
    "    def __str__(self):\n",
    "        #return f\"{super().__str__()}, {Engine.__str__(self)}, Model: {self.model_name}\"    This also works\n",
    "        return f\"{Car.__str__(self)}, {Engine.__str__(self)}, Model: {self.model_name}\"\n",
    "\n",
    "\n",
    "# Example usage\n",
    "my_car = Model(\"Hyundai\", \"petrol\", \"i10\")\n",
    "print(my_car)\n",
    "my_car.print_brand()\n",
    "my_car.print_model()\n",
    "my_car.print_engine()"
   ]
  },
  {
   "cell_type": "markdown",
   "id": "00500a16",
   "metadata": {},
   "source": [
    "\n",
    "**super() Function**\n",
    "\n",
    "super() function is used to call the parent class’s methods. In particular, it is commonly used in the child class’s __init__() method to initialize inherited attributes. This way, the child class can leverage the functionality of the parent class."
   ]
  },
  {
   "cell_type": "code",
   "execution_count": null,
   "id": "6389af9c",
   "metadata": {},
   "outputs": [],
   "source": [
    "# Inheritance :  Multilevel inheritance\n",
    "\n",
    "\n",
    "# Base class\n",
    "class Car:\n",
    "    def __init__(self, brand):\n",
    "        self.brand = brand\n",
    "    def __str__(self):\n",
    "        return (f\"Car Brand: {self.brand}\")\n",
    "    \n",
    "    def display_brand(self):\n",
    "        print(f\"Car Brand: {self.brand}\")\n",
    "\n",
    "# First level derived class\n",
    "class Engine(Car):\n",
    "    def __init__(self, brand, engine_type):\n",
    "        #super().__init__(brand) \n",
    "        Car.__init__(self, brand)\n",
    "        self.engine_type = engine_type\n",
    "\n",
    "    def display_engine(self):\n",
    "        print(f\"Engine Type: {self.engine_type}\")\n",
    "\n",
    "# Second level derived class\n",
    "class Model(Engine):\n",
    "    def __init__(self, brand, engine_type, model_name, year):\n",
    "        super().__init__(brand, engine_type)\n",
    "        self.model_name = model_name\n",
    "        self.year = year\n",
    "\n",
    "    def display_model(self):\n",
    "        print(f\"Model: {self.model_name}, Year: {self.year}\")\n",
    "\n",
    "# Example usage\n",
    "car_model = Model(\"Hyundai\",\"pertol\", \"Grand i10\", 2025)\n",
    "car_model.display_brand()\n",
    "car_model.display_engine()\n",
    "car_model.display_model()\n"
   ]
  },
  {
   "cell_type": "markdown",
   "id": "c417cdcc",
   "metadata": {},
   "source": [
    "**What is MRO (Method Resolution Order)**\n",
    "\n",
    "MRO defines the order in which Python looks for a method or attribute in a hierarchy of classes, especially when multiple inheritance is involved.\n",
    "\n",
    "**Why is it important?**\n",
    "\n",
    "It helps Python decide which method to call when multiple base classes define the same method."
   ]
  },
  {
   "cell_type": "code",
   "execution_count": null,
   "id": "acb5ece6",
   "metadata": {},
   "outputs": [],
   "source": [
    "class A:\n",
    "    def show(self):\n",
    "        print(\"A\")\n",
    "\n",
    "class B(A):\n",
    "    def show(self):\n",
    "        print(\"B\")\n",
    "\n",
    "class C(A):\n",
    "    def show(self):\n",
    "        print(\"C\")\n",
    "\n",
    "class D(B, C):\n",
    "    pass\n",
    "\n",
    "d = D()\n",
    "d.show()  # Output: B\n",
    "print(D.__mro__)  # Shows the method resolution order\n"
   ]
  },
  {
   "cell_type": "code",
   "execution_count": null,
   "id": "8383b6ad",
   "metadata": {},
   "outputs": [],
   "source": [
    "#Hierarchical Inheritance\n",
    "\n",
    "# Base class\n",
    "class Car:\n",
    "    def __init__(self, brand):\n",
    "        self.brand = brand\n",
    "\n",
    "    def display_brand(self):\n",
    "        print(f\"Car Brand: {self.brand}\")\n",
    "\n",
    "# Derived class 1\n",
    "class Engine(Car):\n",
    "    def __init__(self, brand, engine_type):\n",
    "        super().__init__(brand)\n",
    "        self.engine_type = engine_type\n",
    "\n",
    "    def display_engine(self):\n",
    "        print(f\"Engine Type: {self.engine_type}\")\n",
    "\n",
    "# Derived class 2\n",
    "class Model(Car):\n",
    "    def __init__(self, brand, model_name, year):\n",
    "        super().__init__(brand)\n",
    "        self.model_name = model_name\n",
    "        self.year = year\n",
    "\n",
    "    def display_model(self):\n",
    "        print(f\"Model: {self.model_name}, Year: {self.year}\")\n",
    "\n",
    "# Example usage\n",
    "engine_info = Engine(\"Honda\", \"VTEC\")\n",
    "engine_info.display_brand()\n",
    "engine_info.display_engine()\n",
    "\n",
    "print(\"---\")\n",
    "\n",
    "model_info = Model(\"Honda\", \"Civic\", 2025)\n",
    "model_info.display_brand()\n",
    "model_info.display_model()\n"
   ]
  },
  {
   "cell_type": "code",
   "execution_count": null,
   "id": "bf9b4d58",
   "metadata": {},
   "outputs": [],
   "source": [
    "#Hybrid inheritance\n",
    "\n",
    "# Base class\n",
    "class Car:\n",
    "    def __init__(self, brand):\n",
    "        self.brand = brand\n",
    "\n",
    "    def display_brand(self):\n",
    "        print(f\"Car Brand: {self.brand}\")\n",
    "\n",
    "# Derived class 1 (from Car)\n",
    "class Engine(Car):\n",
    "    def __init__(self, brand, engine_type):\n",
    "        super().__init__(brand)\n",
    "        self.engine_type = engine_type\n",
    "\n",
    "    def display_engine(self):\n",
    "        print(f\"Engine Type: {self.engine_type}\")\n",
    "\n",
    "# Derived class 2 (from Car)\n",
    "class Features(Car):\n",
    "    def __init__(self, brand, features):\n",
    "        super().__init__(brand)\n",
    "        self.features = features\n",
    "\n",
    "    def display_features(self):\n",
    "        print(f\"Features: {', '.join(self.features)}\")\n",
    "\n",
    "# Derived class from both Engine and Features (Hybrid Inheritance)\n",
    "class Model(Engine, Features):\n",
    "    def __init__(self, brand, engine_type, features, model_name, year):\n",
    "        Engine.__init__(self, brand, engine_type)\n",
    "        Features.__init__(self, brand, features)\n",
    "        self.model_name = model_name\n",
    "        self.year = year\n",
    "\n",
    "    def display_model(self):\n",
    "        print(f\"Model: {self.model_name}, Year: {self.year}\")\n",
    "\n",
    "# Example usage\n",
    "car = Model(\"Hyundai\", \"Turbo\", [\"Sunroof\", \"Cruise Control\"], \"i20 N Line\", 2025)\n",
    "car.display_brand()\n",
    "car.display_engine()\n",
    "car.display_features()\n",
    "car.display_model()"
   ]
  },
  {
   "cell_type": "markdown",
   "id": "e6e1cb1e",
   "metadata": {},
   "source": [
    "**Polymorphism**\n",
    "\n",
    "Polymorphism allows methods to have the same name but behave differently based on the object's context. It can be achieved through method ***overriding or overloading.***\n",
    "\n",
    "*Types of Polymorphism*\n",
    "\n",
    "* ***Compile-Time Polymorphism***\n",
    "* ***Run-Time Polymorphism:***\n",
    "\n",
    "**Compile-Time Polymorphism:** Compile-time polymorphism means deciding which method or operation to run during compilation, usually through method or operator overloading.\n",
    "\n",
    "Languages like Java or C++ support this. But Python doesn’t because it’s dynamically typed it resolves method calls at runtime, not during compilation. So, true method overloading isn’t supported in Python, though similar behavior can be achieved using default or variable arguments.\n",
    "\n",
    "Example:\n",
    "\n",
    "This code demonstrates method overloading in Python using default and variable-length arguments. The multiply() method works with different numbers of inputs, mimicking compile-time polymorphism.\n",
    "\n",
    " **Run-Time Polymorphism:** Runtime polymorphism means that the behavior of a method is decided while program is running, based on the object calling it.\n",
    "\n",
    "In Python, this happens through Method Overriding a child class provides its own version of a method already defined in the parent class. Since Python is dynamic, it supports this, allowing same method call to behave differently for different object types.\n",
    "\n",
    "Example:\n",
    "This code shows runtime polymorphism using method overriding. The sound() method is defined in base class Animal and overridden in Dog and Cat. At runtime, correct method is called based on object's class.\n",
    "\n"
   ]
  },
  {
   "cell_type": "code",
   "execution_count": null,
   "id": "42dc0b09",
   "metadata": {},
   "outputs": [],
   "source": [
    "# Compile-Time Polymorphism (Method Overloading)\n",
    "class Calculator:\n",
    "    def multiply(self, *args):\n",
    "        result = 1\n",
    "        for num in args:\n",
    "            result *= num\n",
    "        return result\n",
    "\n",
    "# Create object\n",
    "calc = Calculator()\n",
    "\n",
    "# Using default arguments\n",
    "print(calc.multiply())            \n",
    "print(calc.multiply(4))           \n",
    "\n",
    "# Using multiple arguments\n",
    "print(calc.multiply(2, 3))       \n",
    "print(calc.multiply(2, 3, 4))\n",
    "\n",
    "\"\"\" multiply is a single method that can accept any number of arguments.\n",
    "This allows the method to behave differently depending on how many arguments are passed — mimicking method overloading.\"\"\""
   ]
  },
  {
   "cell_type": "code",
   "execution_count": null,
   "id": "54b019b7",
   "metadata": {},
   "outputs": [],
   "source": [
    "# Runtime Polymorphism (Method Overriding)\n",
    "\n",
    "# Base class\n",
    "class Vehicle_detail:\n",
    "    def __init__(self, brand, fuel_type, wheels):\n",
    "        self.brand = brand\n",
    "        self.fuel_type = fuel_type\n",
    "        self.wheels = wheels\n",
    "\n",
    "    def start(self):\n",
    "        print(\"Starting the vehicle...\")\n",
    "\n",
    "    def display_details(self):\n",
    "        print(f\"Brand: {self.brand}, Fuel Type: {self.fuel_type}, Wheels: {self.wheels}\")\n",
    "\n",
    "# Derived class 1\n",
    "class Car(Vehicle_detail):\n",
    "    def __init__(self, brand, fuel_type, wheels, car_type):\n",
    "        super().__init__(brand, fuel_type, wheels)\n",
    "        self.car_type = car_type\n",
    "\n",
    "    def start(self):\n",
    "        print(\"Starting the car with a key ignition.\")\n",
    "\n",
    "    def display_car_type(self):\n",
    "        print(f\"Car Type: {self.car_type}\")\n",
    "\n",
    "# Derived class 2\n",
    "class Bike(Vehicle_detail):\n",
    "    def __init__(self, brand, fuel_type, wheels, bike_type):\n",
    "        super().__init__(brand, fuel_type, wheels)\n",
    "        self.bike_type = bike_type\n",
    "\n",
    "    def start(self):\n",
    "        print(\"Starting the bike with a kick start.\")\n",
    "\n",
    "    def display_bike_type(self):\n",
    "        print(f\"Bike Type: {self.bike_type}\")\n",
    "\n",
    "# Function demonstrating runtime polymorphism\n",
    "def start_vehicle(vehicle: Vehicle_detail):\n",
    "    vehicle.start()\n",
    "    vehicle.display_details()\n",
    "\n",
    "# Example usage\n",
    "v1 = Car(\"Toyota\", \"Petrol\", 4, \"Sedan\")\n",
    "v2 = Bike(\"Yamaha\", \"Petrol\", 2, \"Sport\")\n",
    "\n",
    "start_vehicle(v1)\n",
    "v1.display_car_type()\n",
    "\n",
    "print(\"---\")\n",
    "\n",
    "start_vehicle(v2)\n",
    "v2.display_bike_type()\n",
    "\n",
    "\n",
    "\n",
    "\"\"\"The method start() is overridden in both Car and Bike.\n",
    "The decision of which start() method to call is made at runtime, based on the object type passed to start_vehicle().\"\"\""
   ]
  },
  {
   "cell_type": "markdown",
   "id": "0dbd0a53",
   "metadata": {},
   "source": [
    "In Python, same operator (+) can perform different tasks depending on operand types. This is known as operator overloading. This flexibility is a key aspect of polymorphism in Python.\n",
    "\n",
    "Example:\n",
    "\n",
    "This code shows operator polymorphism as + operator behaves differently based on data types adding integers, concatenating strings and merging lists all using same operator.\n",
    "\n",
    "\n",
    "\n",
    "\n",
    "* print(5 + 10)  # Integer addition\n",
    "* print(\"Hello \" + \"World!\")  # String concatenation\n",
    "* print([1, 2] + [3, 4])  # List concatenation\n",
    "* print(5 + 10)  # Integer addition\n",
    "* print(\"Hello \" + \"World!\")  # String concatenation\n",
    "* print([1, 2] + [3, 4])  # List concatenation"
   ]
  },
  {
   "cell_type": "code",
   "execution_count": null,
   "id": "883aa13f",
   "metadata": {},
   "outputs": [],
   "source": [
    "# Runtime Polymorphism (Operator Overloading)\n",
    "\n",
    "class Box:\n",
    "    def __init__(self, length, width, height):\n",
    "        self.length = length\n",
    "        self.width = width\n",
    "        self.height = height\n",
    "\n",
    "    def volume(self):\n",
    "        return self.length * self.width * self.height\n",
    "\n",
    "    # Operator overloading for +\n",
    "    def __add__(self, other):\n",
    "        if isinstance(other, Box):\n",
    "            # Add dimensions of two boxes\n",
    "            return Box(\n",
    "                self.length + other.length,\n",
    "                self.width + other.width,\n",
    "                self.height + other.height\n",
    "            )\n",
    "        raise TypeError(\"Unsupported operand type(s) for +: 'Box' and '{}'\".format(type(other).__name__))\n",
    "\n",
    "    def __str__(self):\n",
    "        return f\"Box({self.length}, {self.width}, {self.height}) Volume: {self.volume()}\"\n",
    "\n",
    "# Example usage\n",
    "box1 = Box(2, 3, 4)\n",
    "box2 = Box(1, 2, 3)\n",
    "\n",
    "box3 = box1 + box2  # Runtime polymorphism: __add__ is called based on object type\n",
    "\n",
    "print(box1)  # Box(2, 3, 4) Volume: 24\n",
    "print(box2)  # Box(1, 2, 3) Volume: 6\n",
    "print(box3)  # Box(3, 5, 7) Volume: 105\n",
    "\n",
    "\n",
    "'''__add__ is a special method that Python calls when you use the + operator.\n",
    "The actual method that gets executed depends on the runtime type of the operands (box1 and box2).\n",
    "This is a form of runtime polymorphism, because Python dynamically decides which __add__ method to invoke.'''"
   ]
  },
  {
   "cell_type": "markdown",
   "id": "ece331af",
   "metadata": {},
   "source": [
    "\n",
    "**Polymorphism in Built-in Functions**\n",
    "\n",
    "Python’s built-in functions like len() and max() are polymorphic they work with different data types and return results based on type of object passed. This showcases it's dynamic nature, where same function name adapts its behavior depending on input.\n",
    "\n",
    "*Example:*\n",
    "\n",
    "This code demonstrates polymorphism in Python’s built-in functions handling strings, lists, numbers and characters differently while using same function name."
   ]
  },
  {
   "cell_type": "code",
   "execution_count": null,
   "id": "6c8492de",
   "metadata": {},
   "outputs": [],
   "source": [
    "\"\"\"len() and max() \"\"\""
   ]
  },
  {
   "cell_type": "markdown",
   "id": "036c3338",
   "metadata": {},
   "source": [
    "What Is Duck Typing in Simple Terms?\n",
    "Duck typing is a concept in Python (and other dynamically typed languages) that means:\n",
    "\n",
    "\"If it looks like a duck, swims like a duck, and quacks like a duck — it's a duck.\"\n",
    "\n",
    "In programming terms:\n",
    "\n",
    "If an object behaves like the expected type (has the right methods or properties), it is treated as that type — regardless of its actual class.\n",
    "\n",
    "Key Points:\n",
    "Python doesn’t care what type an object is.\n",
    "It only cares what the object can do.\n",
    "This makes Python flexible and powerful — but also means you need to be careful with method names and expected behavior.\n",
    "\n",
    "Imagine you’re hiring someone to be a driver. You don’t care if they’re a taxi driver, truck driver, or delivery driver — as long as they know how to drive."
   ]
  },
  {
   "cell_type": "code",
   "execution_count": null,
   "id": "27e34bfa",
   "metadata": {},
   "outputs": [],
   "source": [
    "#duck typing\n",
    "\n",
    "class PDFPrinter:\n",
    "    def print(self):\n",
    "        print(\"Printing PDF document...\")\n",
    "\n",
    "class ImagePrinter:\n",
    "    def print(self):\n",
    "        print(\"Printing image file...\")\n",
    "\n",
    "def start_printing(printer):\n",
    "    printer.print()\n",
    "\n",
    "# Both classes work with the same function\n",
    "start_printing(PDFPrinter())   # Output: Printing PDF document...\n",
    "start_printing(ImagePrinter()) # Output: Printing image file...\n"
   ]
  },
  {
   "cell_type": "markdown",
   "id": "ffd160fa",
   "metadata": {},
   "source": [
    "**What Is Type Hinting in Python**\n",
    "\n",
    "Type hinting is a way to explicitly specify the expected data types of variables, function parameters, and return values in your code. It helps developers and tools understand what kind of data is intended to be used, making the code easier to read, maintain, and debug.\n",
    "\n",
    "\n",
    "    *def add(x: int, y: int) -> int:*\n",
    "        *return x + y*\n",
    "\n",
    "\n",
    "x: int and y: int → these parameters are expected to be integers.\n",
    "-> int -----> the function is expected to return an integer.\n",
    "This is just a hint — Python won't enforce it at runtime, but tools like IDEs, linters, and type checkers (e.g., mypy) can use it to catch mistakes.\n",
    "\n",
    "**What Type Hinting Actually Does:**\n",
    "* Improves code clarity: Makes it easier to understand what types are expected.\n",
    "* Helps with auto-completion: IDEs can suggest methods and properties based on type.\n",
    "* Supports static analysis: Tools can detect type mismatches before running the code.\n",
    "* Acts as documentation: Other developers can quickly understand your function's intent."
   ]
  },
  {
   "cell_type": "code",
   "execution_count": null,
   "id": "998b7640",
   "metadata": {},
   "outputs": [],
   "source": [
    "def add(x: int, y: int) -> int: #tyoe hint\n",
    "    return x + y\n",
    "\n",
    "x=\"10\"\n",
    "y=\"20\"\n",
    "print(add(x,y))"
   ]
  },
  {
   "cell_type": "markdown",
   "id": "2b0607be",
   "metadata": {},
   "source": [
    "**Encapsulation** \n",
    "\n",
    "Encapsulation means hiding internal details of a class and only exposing what’s necessary. It helps to protect important data from being changed directly and keeps the code secure and organized.\n",
    "\n",
    "Technically, encapsulation is an object-oriented programming principle where data (variables) and methods (functions) are bundled together in a class.\n",
    "\n",
    "**Why do we need Encapsulation**\n",
    "\n",
    "*   Protects data from unauthorized access and accidental modification.\n",
    "*   Controls data updates using getter/setter methods with validation.\n",
    "*   Enhances modularity by hiding internal implementation details.\n",
    "*   Simplifies maintenance through centralized data handling logic.\n",
    "*   Reflects real-world scenarios like restricting direct access to a bank account balance.\n",
    "\n",
    "**Access Modifiers:**\n",
    "\n",
    "Data (attributes) and methods are bundled together inside a class.\n",
    "You can restrict access to certain parts of the object using access modifiers:\n",
    "* public → accessible from anywhere\n",
    "* _protected → intended for internal use (convention)\n",
    "* __private → not directly accessible from outside the class\n",
    "\n"
   ]
  },
  {
   "cell_type": "markdown",
   "id": "01d6273e",
   "metadata": {},
   "source": []
  },
  {
   "cell_type": "code",
   "execution_count": null,
   "id": "a04d4631",
   "metadata": {},
   "outputs": [],
   "source": [
    "#Access Modifiers\n",
    "\n",
    "class BankAccount:\n",
    "    def __init__(self):\n",
    "        self.balance = 1000\n",
    "\n",
    "    def _show_balance(self):\n",
    "        print(f\"Balance: ₹{self.balance}\")  # _Protected method\n",
    "\n",
    "    def __update_balance(self, amount):\n",
    "        self.balance += amount             # __Private method\n",
    "\n",
    "    def deposit(self, amount):\n",
    "        if amount > 0:\n",
    "            self.__update_balance(amount)  # Accessing private method internally\n",
    "            self._show_balance()           # Accessing protected method\n",
    "        else:\n",
    "            print(\"Invalid deposit amount!\")\n",
    "            \n",
    "account = BankAccount()\n",
    "account._show_balance()      # Works, but should be treated as internal\n",
    "# account.__update_balance(500)  # Error: private method\n",
    "account.deposit(500)         # Uses both methods internally"
   ]
  },
  {
   "cell_type": "markdown",
   "id": "af05059c",
   "metadata": {},
   "source": [
    "Getter and Setter Methods\n",
    "In Python, getter and setter methods are used to access and modify private attributes safely. Instead of accessing private data directly, these methods provide controlled access, allowing you to:\n",
    "\n",
    "Read data using a getter method.\n",
    "Update data using a setter method with optional validation or restrictions.\n",
    "Example:\n",
    "This example shows how to use a getter and a setter method to safely access and update a private attribute (__salary)."
   ]
  },
  {
   "cell_type": "code",
   "execution_count": null,
   "id": "df479039",
   "metadata": {},
   "outputs": [],
   "source": [
    "#Getter and Setter Methods\n",
    "\n",
    "class Employee:\n",
    "    def __init__(self):\n",
    "        self.__salary = 50000  # Private attribute\n",
    "\n",
    "    def get_salary(self):    # Getter method\n",
    "        return self.__salary\n",
    "\n",
    "    def set_salary(self, amount):   # Setter method\n",
    "        if amount > 0:\n",
    "            self.__salary = amount\n",
    "        else:\n",
    "            print(\"Invalid salary amount!\")\n",
    "\n",
    "emp = Employee()\n",
    "print(emp.get_salary())  # Access salary using getter\n",
    "\n",
    "emp.set_salary(60000)   # Update salary using setter\n",
    "print(emp.get_salary())"
   ]
  },
  {
   "cell_type": "markdown",
   "id": "b668bbf6",
   "metadata": {},
   "source": [
    "**Abstract Classes in Python**\n",
    "\n",
    "In Python, an abstract class is a class that cannot be instantiated on its own and is designed to be a blueprint for other classes. Abstract classes allow us to define methods that must be implemented by subclasses, ensuring a consistent interface while still allowing the subclasses to provide specific implementations.\n",
    "\n",
    "**Abstract Base Classes in Python**\n",
    "\n",
    "It defines methods that must be implemented by its subclasses, ensuring that the subclasses follow a consistent structure. ABCs allow you to define common interfaces that various subclasses can implement while enforcing a level of abstraction.\n",
    "\n",
    "Python provides the abc module to define ABCs and enforce the implementation of abstract methods in subclasses."
   ]
  },
  {
   "cell_type": "code",
   "execution_count": null,
   "id": "8cc89533",
   "metadata": {},
   "outputs": [],
   "source": [
    "from abc import ABC, abstractmethod\n",
    "\n",
    "class BankAccount(ABC):\n",
    "    def __init__(self, name, account_number, balance):\n",
    "        self.name = name\n",
    "        self.account_number = account_number\n",
    "        self._balance = balance  # Protected\n",
    "\n",
    "    @abstractmethod\n",
    "    def calculate_interest(self):\n",
    "        pass\n",
    "\n",
    "    def __str__(self):\n",
    "        return f\"Name: {self.name}, Account: {self.account_number}, Balance: ₹{self._balance}\"\n",
    "\n",
    "class SavingsAccount(BankAccount):\n",
    "    def __init__(self, name, account_number, balance, interest_rate):\n",
    "        super().__init__(name, account_number, balance)\n",
    "        self.interest_rate = interest_rate  # Annual interest rate in %\n",
    "\n",
    "    def calculate_interest(self):\n",
    "        interest = self._balance * self.interest_rate / 100\n",
    "        print(f\"Interest for Savings Account: ₹{interest}\")\n",
    "        return interest\n",
    "\n",
    "class FixedDepositAccount(BankAccount):\n",
    "    def __init__(self, name, account_number, balance, interest_rate, duration_years):\n",
    "        super().__init__(name, account_number, balance)\n",
    "        self.interest_rate = interest_rate\n",
    "        self.duration_years = duration_years\n",
    "\n",
    "    def calculate_interest(self):\n",
    "        interest = self._balance * self.interest_rate * self.duration_years / 100\n",
    "        print(f\"Interest for Fixed Deposit: ₹{interest}\")\n",
    "        return interest\n",
    "\n",
    "# Example usage\n",
    "savings = SavingsAccount(\"Kishore\", 123456, 10000, 4.5)\n",
    "fd = FixedDepositAccount(\"Kishore\", 789012, 50000, 6.5, 3)\n",
    "\n",
    "print(savings)\n",
    "savings.calculate_interest()\n",
    "\n",
    "print(fd)\n",
    "fd.calculate_interest()\n"
   ]
  },
  {
   "cell_type": "markdown",
   "id": "280956e9",
   "metadata": {},
   "source": [
    "1. Abstract Methods\n",
    "An abstract method is a method that is declared but contains no implementation. Subclasses must override it.\n",
    "\n",
    "2. Concrete Methods\n",
    "A concrete method is a regular method with a full implementation. Abstract classes can have both abstract and concrete methods.\n",
    "\n",
    "3. Abstract Properties\n",
    "You can also define abstract properties using @property and @abstractmethod together. Subclasses must implement them as properties.\n",
    "\n",
    "4. Abstract Class Instantiation\n",
    "You cannot instantiate an abstract class directly if it has any abstract methods or properties."
   ]
  },
  {
   "cell_type": "code",
   "execution_count": null,
   "id": "d4741338",
   "metadata": {},
   "outputs": [],
   "source": [
    "from abc import ABC, abstractmethod\n",
    "\n",
    "class BankAccount(ABC):\n",
    "    def __init__(self, name, account_number, initial_balance):\n",
    "        self.name = name\n",
    "        self.account_number = account_number\n",
    "        self._balance = initial_balance  # Protected attribute\n",
    "\n",
    "    @abstractmethod\n",
    "    def calculate_interest(self):\n",
    "        pass  # Abstract method\n",
    "\n",
    "    @property\n",
    "    @abstractmethod\n",
    "    def balance(self):\n",
    "        pass  # Abstract property\n",
    "\n",
    "    def show_account_info(self):  # Concrete method\n",
    "        print(f\"Name: {self.name}\")\n",
    "        print(f\"Account Number: {self.account_number}\")\n",
    "        print(f\"Balance: ₹{self._balance}\")\n",
    "\n",
    "class SavingsAccount(BankAccount):\n",
    "    def __init__(self, name, account_number, initial_balance, interest_rate):\n",
    "        super().__init__(name, account_number, initial_balance)\n",
    "        self.interest_rate = interest_rate\n",
    "\n",
    "    def calculate_interest(self):\n",
    "        interest = self._balance * self.interest_rate / 100\n",
    "        print(f\"Interest for Savings Account: ₹{interest}\")\n",
    "        return interest\n",
    "\n",
    "    @property\n",
    "    def balance(self):\n",
    "        return self._balance\n",
    "\n",
    "class FixedDepositAccount(BankAccount):\n",
    "    def __init__(self, name, account_number, initial_balance, interest_rate, duration_years):\n",
    "        super().__init__(name, account_number, initial_balance)\n",
    "        self.interest_rate = interest_rate\n",
    "        self.duration_years = duration_years\n",
    "\n",
    "    def calculate_interest(self):\n",
    "        interest = self._balance * self.interest_rate * self.duration_years / 100\n",
    "        print(f\"Interest for Fixed Deposit Account: ₹{interest}\")\n",
    "        return interest\n",
    "\n",
    "    @property\n",
    "    def balance(self):\n",
    "        return self._balance\n",
    "\n",
    "# Abstract class instantiation (will raise error if uncommented)\n",
    "# account = BankAccount(\"Kishore\", 123456, 10000)\n",
    "\n",
    "#  Subclass instantiation\n",
    "savings = SavingsAccount(\"Kishore\", 123456, 10000, 4.5)\n",
    "fd = FixedDepositAccount(\"Kishore\", 789012, 50000, 6.5, 3)\n",
    "\n",
    "# Using concrete method\n",
    "savings.show_account_info()\n",
    "savings.calculate_interest()\n",
    "print(f\"Balance (via property): ₹{savings.balance}\\n\")\n",
    "\n",
    "fd.show_account_info()\n",
    "fd.calculate_interest()\n",
    "print(f\"Balance (via property): ₹{fd.balance}\")\n"
   ]
  },
  {
   "cell_type": "markdown",
   "id": "86c860e8",
   "metadata": {},
   "source": [
    "What is a Static Method\n",
    "\n",
    "* Belongs to the class, not the instance.\n",
    "* Does not require access to self or cls.\n",
    "* Is used for utility functions that logically relate to the class but don’t need instance data.\n",
    "* You define it using the @staticmethod decorator."
   ]
  },
  {
   "cell_type": "code",
   "execution_count": null,
   "id": "d1eca450",
   "metadata": {},
   "outputs": [],
   "source": [
    "# Python program to\n",
    "# demonstrate static methods\n",
    "\n",
    "class Person: \n",
    "    def __init__(self, name, age): \n",
    "        self.name = name \n",
    "        self.age = age \n",
    "      \n",
    "    # a static method to check if a Person is adult or not. \n",
    "    @staticmethod\n",
    "    def isAdult(age): \n",
    "        return age > 18\n",
    "        \n",
    "if __name__ == \"__main__\":\n",
    "    res = Person.isAdult(12)\n",
    "    print('Is person adult:', res)\n",
    "    \n",
    "    res = Person.isAdult(22)\n",
    "    print('\\nIs person adult:', res) "
   ]
  },
  {
   "cell_type": "markdown",
   "id": "c25a9d72",
   "metadata": {},
   "source": [
    "**Decorator**  \n",
    "\n",
    "Decorator are python functions that enhance and modifies the behavior of another function without changing its actual code.\n",
    "\n",
    "* It is powerful and elegant way to extend the functionality.\n",
    "\n",
    "* It is deeply rooted with functional programming principles - HIGHER ORDER FUNCTIONS\n",
    "\n",
    "***In simple what would decorator do is:***\n",
    "\n",
    "* Taking input from another function and return output as another function"
   ]
  },
  {
   "cell_type": "markdown",
   "id": "4edbfec6",
   "metadata": {},
   "source": []
  },
  {
   "cell_type": "code",
   "execution_count": null,
   "id": "1205ce36",
   "metadata": {},
   "outputs": [],
   "source": [
    "def trace(func):\n",
    "    def wrapper(*args, **kwargs):\n",
    "        print(f\"Calling {func.__name__} with args={args}, kwargs={kwargs}\")\n",
    "        result = func(*args, **kwargs)\n",
    "        print(f\"{func.__name__} returned {result}\")\n",
    "        return result\n",
    "    return wrapper\n",
    "\n",
    "@trace\n",
    "def multiply(a, b):\n",
    "    return a * b\n",
    "\n",
    "# Example usage\n",
    "multiply(3, 4)\n"
   ]
  },
  {
   "cell_type": "code",
   "execution_count": null,
   "id": "37d51aee",
   "metadata": {},
   "outputs": [],
   "source": [
    "def fibonacci(limit):\n",
    "    a, b = 0, 1\n",
    "    while a < limit:\n",
    "        yield a\n",
    "        a, b = b, a + b\n",
    "\n",
    "# Using the generator\n",
    "for num in fibonacci(100):\n",
    "    print(num)\n"
   ]
  },
  {
   "cell_type": "markdown",
   "id": "9e5d6466",
   "metadata": {},
   "source": [
    "# Topic need to refer"
   ]
  },
  {
   "cell_type": "markdown",
   "id": "33de77c1",
   "metadata": {},
   "source": [
    "* what  decorator, types, list all decorator and its uses\n",
    "* is and ==\n",
    "* Static method and dynamic method\n"
   ]
  },
  {
   "cell_type": "markdown",
   "id": "e2f93d15",
   "metadata": {},
   "source": [
    "## Imports"
   ]
  },
  {
   "cell_type": "markdown",
   "id": "e2e0cf45",
   "metadata": {},
   "source": [
    "#### import re\n",
    "\n",
    "\n",
    "In Python’s re module, there are several **core methods** that allow you to work with regular expressions effectively. Here's a complete list of the **main methods** provided by the re module:\n",
    "\n",
    "---\n",
    "\n",
    "#### **Core Methods in re Module**\n",
    "\n",
    "| Method | Description | Example |\n",
    "|--------|-------------|---------|\n",
    "| re.match() | Checks for a match **only at the beginning** of the string. | re.match(r'\\d+', '123abc') |\n",
    "| re.search() | Searches the **entire string** for the first match. | re.search(r'\\d+', 'abc123xyz') |\n",
    "| re.findall() | Returns **all non-overlapping** matches as a list. | re.findall(r'\\d+', 'abc123xyz456') |\n",
    "| re.finditer() | Returns an **iterator** yielding match objects. | re.finditer(r'\\d+', 'abc123xyz456') |\n",
    "| re.sub() | Replaces matches with a string. | re.sub(r'\\d+', '#', 'abc123xyz456') |\n",
    "| re.subn() | Same as sub(), but also returns the **number of substitutions**. | re.subn(r'\\d+', '#', 'abc123xyz456') |\n",
    "| re.split() | Splits a string by the pattern. | re.split(r'\\d+', 'abc123xyz456') |\n",
    "| re.fullmatch() | Checks if the **entire string** matches the pattern. | re.fullmatch(r'\\d+', '123') |\n",
    "| re.compile() | Compiles a regex pattern into a **regex object** for reuse. | pattern = re.compile(r'\\d+') |\n",
    "| re.escape() | Escapes all special characters in a string. | re.escape('a+b*c') |\n",
    "\n",
    "---\n",
    "\n",
    "\n",
    "When you use re.match(), re.search(), or re.finditer(), they return a **match object**. You can use these methods on that object:\n",
    "\n",
    "| Method | Description |\n",
    "|--------|-------------|\n",
    "| .group() | Returns the matched string. |\n",
    "| .start() | Start index of the match. |\n",
    "| .end() | End index of the match. |\n",
    "| .span() | Tuple of (start, end) positions. |\n",
    "| .groups() | Returns a tuple of all captured groups. |\n",
    "| .groupdict() | Returns a dictionary of named groups. |\n",
    "\n"
   ]
  },
  {
   "cell_type": "code",
   "execution_count": null,
   "id": "ea7ffe3a",
   "metadata": {},
   "outputs": [
    {
     "name": "stdout",
     "output_type": "stream",
     "text": [
      "['k', 'i', 'h', 'e']\n",
      "['or', 'or', 'or']\n",
      "['kishore']\n"
     ]
    }
   ],
   "source": [
    "import re\n",
    "\n",
    "string = 'kishore'\n",
    "x = re.findall('[a-m]', string)\n",
    "print(x)\n",
    "\n",
    "text = \"\"\"Name: Kishore V V\n",
    "Age: 28\n",
    "Designation: Senior System Engineer\n",
    "Mobile: +91-9876543210\n",
    "Email: kishore.vv@infosys.com\n",
    "\"\"\"\n",
    "\n",
    "y=re.findall('or', text)\n",
    "print(y)\n",
    "\n",
    "kishore = re.findall('kishore', text)\n",
    "print(kishore)"
   ]
  },
  {
   "cell_type": "code",
   "execution_count": null,
   "id": "a7a58cfd",
   "metadata": {},
   "outputs": [
    {
     "data": {
      "text/plain": [
       "['2', '8', '9', '1', '9', '8', '7', '6', '5', '4', '3', '2', '1', '0']"
      ]
     },
     "execution_count": 33,
     "metadata": {},
     "output_type": "execute_result"
    }
   ],
   "source": [
    "c = re.findall(r'\\d', text)\n",
    "c"
   ]
  },
  {
   "cell_type": "code",
   "execution_count": null,
   "id": "2c5a630a",
   "metadata": {},
   "outputs": [
    {
     "data": {
      "text/plain": [
       "([], ['Name'])"
      ]
     },
     "execution_count": 37,
     "metadata": {},
     "output_type": "execute_result"
    }
   ],
   "source": [
    "v= re.findall(\"^kishore\", text)\n",
    "c= re.findall(\"^Name\", text)\n",
    "v,c"
   ]
  },
  {
   "cell_type": "code",
   "execution_count": null,
   "id": "6cf2b415",
   "metadata": {},
   "outputs": [
    {
     "data": {
      "text/plain": [
       "['Kishore', 'kishore']"
      ]
     },
     "execution_count": 49,
     "metadata": {},
     "output_type": "execute_result"
    }
   ],
   "source": [
    "v = re.findall('kishore|Kishore', text)\n",
    "v"
   ]
  },
  {
   "cell_type": "code",
   "execution_count": 64,
   "id": "d0300efa",
   "metadata": {},
   "outputs": [
    {
     "data": {
      "text/plain": [
       "<re.Match object; span=(33, 40), match='kishore'>"
      ]
     },
     "execution_count": 64,
     "metadata": {},
     "output_type": "execute_result"
    }
   ],
   "source": [
    "v = re.search('kishore', text)\n",
    "v"
   ]
  },
  {
   "cell_type": "code",
   "execution_count": 65,
   "id": "064de9c5",
   "metadata": {},
   "outputs": [
    {
     "data": {
      "text/plain": [
       "['Name:',\n",
       " 'Kishore V V\\nAge: 28\\nEmail: kishore.vv@infosys.com\\nDesignation: Senior System Engineer\\nMobile: +91-9876543210']"
      ]
     },
     "execution_count": 65,
     "metadata": {},
     "output_type": "execute_result"
    }
   ],
   "source": [
    "v = re.split(\" \", text,1)\n",
    "v"
   ]
  },
  {
   "cell_type": "code",
   "execution_count": 66,
   "id": "cea5956f",
   "metadata": {},
   "outputs": [
    {
     "data": {
      "text/plain": [
       "'Name:_Kishore_V_V\\nAge:_28\\nEmail:_kishore.vv@infosys.com\\nDesignation:_Senior_System_Engineer\\nMobile:_+91-9876543210'"
      ]
     },
     "execution_count": 66,
     "metadata": {},
     "output_type": "execute_result"
    }
   ],
   "source": [
    "v = re.sub(\" \", \"_\", text)\n",
    "v\n"
   ]
  }
 ],
 "metadata": {
  "kernelspec": {
   "display_name": "Python 3",
   "language": "python",
   "name": "python3"
  },
  "language_info": {
   "codemirror_mode": {
    "name": "ipython",
    "version": 3
   },
   "file_extension": ".py",
   "mimetype": "text/x-python",
   "name": "python",
   "nbconvert_exporter": "python",
   "pygments_lexer": "ipython3",
   "version": "3.13.7"
  }
 },
 "nbformat": 4,
 "nbformat_minor": 5
}
