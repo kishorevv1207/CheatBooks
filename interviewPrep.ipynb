{
 "cells": [
  {
   "cell_type": "markdown",
   "id": "660db3a2",
   "metadata": {},
   "source": [
    "# ***</> Interview Prep - Kishore***"
   ]
  },
  {
   "cell_type": "markdown",
   "id": "7118e602",
   "metadata": {},
   "source": [
    "## Most Common Interview Questions\n"
   ]
  },
  {
   "cell_type": "markdown",
   "id": "4e48d650",
   "metadata": {},
   "source": [
    "\n",
    "### Core Python Concepts\n",
    "\n",
    "- What are Python’s memory management mechanisms?\n",
    "- How does Python manage memory using reference counting and garbage collection?\n",
    "- Explain the difference between deep copy and shallow copy.\n",
    "- What is the difference between is and ==?\n",
    "- What are Python's data model methods (dunder methods)?\n",
    "- How does Python’s __slots__ work and when should you use it?\n",
    "- Explain __init__, __new__, and __call__ methods.\n",
    "- What are Python type hints and how do they improve code quality?\n",
    "- How does duck typing work in Python?\n",
    "- What is the difference between yield and return?\n",
    "\n",
    "---\n",
    "\n",
    "###  Object-Oriented Programming\n",
    "\n",
    "- What is method resolution order (MRO) in Python?\n",
    "- How does Python's inheritance work, especially with multiple inheritance?\n",
    "- What is the role of super() in Python?\n",
    "- What is the difference between classmethod, staticmethod, and instance method?\n",
    "- How do you implement encapsulation in Python?\n",
    "- What are metaclasses in Python, and when would you use them?\n",
    "- What are abstract base classes (ABCs) in Python? Provide an example.\n",
    "\n",
    "---\n",
    "\n",
    "###  Functional Programming\n",
    "\n",
    "- What are Python’s built-in functions for functional programming?\n",
    "- How do map(), filter(), and reduce() differ?\n",
    "- What are lambda functions and where are they useful?\n",
    "- What is a closure in Python?\n",
    "- What is the difference between a generator and an iterator?\n",
    "- What is a generator in Python, and when would you use it? Provide an example.\n",
    "- Discuss the use of *args and **kwargs in function definitions.\n",
    "- What are comprehensions in Python (list, dictionary, set)? Provide an example of each.\n",
    "\n",
    "---\n",
    "\n",
    "###  Decorators and Context Managers\n",
    "\n",
    "- What are decorators and how do they work?\n",
    "- Provide an example of how you would use a decorator.\n",
    "- How do you write a decorator that accepts arguments?\n",
    "- What is a context manager and how is it implemented?\n",
    "- How does the with statement work internally?\n",
    "- How do you implement a context manager using with statements and the contextlib module?\n",
    "\n",
    "---\n",
    "\n",
    "###  Modules and Packaging\n",
    "\n",
    "- What is the difference between a module and a package?\n",
    "- How do you create and distribute your own Python package?\n",
    "- What is the role of __init__.py?\n",
    "- How do you manage dependencies in Python projects?\n",
    "\n",
    "---\n",
    "\n",
    "###  Testing and Debugging\n",
    "\n",
    "- What are Python’s testing frameworks?\n",
    "- How do you write unit tests in Python?\n",
    "- What libraries would you use for testing?\n",
    "- What is mocking and how is it used in testing?\n",
    "- How do you profile Python code for performance?\n",
    "- What tools do you use for debugging Python code?\n",
    "- How would you optimize a Python application for performance?\n",
    "- What are some common performance bottlenecks in Python?\n",
    "\n",
    "---\n",
    "\n",
    "###  Error Handling\n",
    "\n",
    "- How does exception chaining work in Python?\n",
    "- What is the difference between raise and assert?\n",
    "- How do you create custom exceptions?\n",
    "- Discuss different ways to handle exceptions in Python.\n",
    "- What is the purpose of finally?\n",
    "\n",
    "---\n",
    "\n",
    "###  Concurrency and Parallelism\n",
    "\n",
    "- What is the Global Interpreter Lock (GIL)? How does it affect multi-threading?\n",
    "- How does Python handle multithreading vs multiprocessing?\n",
    "- What is the difference between threading, multiprocessing, and asyncio?\n",
    "- What are asyncio, event loops, and coroutines?\n",
    "- How do you use async and await in Python?\n",
    "- Explain the concept of asynchronous programming in Python.\n",
    "- How do you handle race conditions in Python?\n",
    "\n",
    "---\n",
    "\n",
    "###  Advanced Data Structures\n",
    "\n",
    "- Explain the difference between lists and tuples in Python. When would you choose one over the other?\n",
    "- What are namedtuples and how are they different from regular tuples?\n",
    "- What is the difference between set and frozenset?\n",
    "- How does collections.defaultdict work?\n",
    "- What are Counter, deque, and OrderedDict used for?\n",
    "- Describe common data structures in Python (e.g., list, dict, set, deque, heap). When would you choose one over the other?\n",
    "\n",
    "---\n",
    "\n",
    "###  Serialization and Miscellaneous\n",
    "\n",
    "- How do you serialize and deserialize data in Python?\n",
    "- What are some best practices for writing clean and efficient Python code?\n",
    "\n"
   ]
  },
  {
   "cell_type": "markdown",
   "id": "262f8ce4",
   "metadata": {},
   "source": [
    "## ***> Interview Questions***"
   ]
  },
  {
   "cell_type": "markdown",
   "id": "537f6198",
   "metadata": {},
   "source": [
    "\n",
    "\n",
    "Problems:\n",
    "\n",
    "* use lambda to print odd or even for the int\n",
    "* check palindrome without string reverse method and consider it should check both int and str\n",
    "* check second largest number in a list without inbuild functions\n",
    "\n",
    "\n",
    "Questions:\n",
    "\n",
    "* Basics concepts of decorastor \n",
    "* where decorator is used\n",
    "* benefits of usind decorator\n",
    "* multithreading vs multotasking\n",
    "* deepcopy vs shallow copy\n",
    "* list vs array\n",
    "* pickiling\n",
    "* GIL\n",
    "* access modifider\n",
    "* method overloading\n",
    "* inheritance\n",
    "* Asychornous\n",
    "* put and patch - api\n",
    "* rest api - statelesss\n",
    "* orm\n",
    "* class methods - object methods - static method"
   ]
  },
  {
   "cell_type": "code",
   "execution_count": null,
   "id": "4476895b",
   "metadata": {},
   "outputs": [
    {
     "name": "stdout",
     "output_type": "stream",
     "text": [
      "Odd\n"
     ]
    }
   ],
   "source": [
    "# use lambda to print odd or even for the int\n",
    "\n",
    "\n",
    "check_odd_even = lambda x: \"Even\" if x % 2 == 0 else \"Odd\"\n",
    "print(check_odd_even(7))\n"
   ]
  },
  {
   "cell_type": "code",
   "execution_count": null,
   "id": "28dcb8f4",
   "metadata": {},
   "outputs": [
    {
     "name": "stdout",
     "output_type": "stream",
     "text": [
      "True\n",
      "True\n"
     ]
    }
   ],
   "source": [
    "# only logic\n",
    "\n",
    "x='atta'\n",
    "\n",
    "\n",
    "# string reverse methods :\n",
    "if x == x[::-1]:\n",
    "    print(True)\n",
    "else:\n",
    "    print(False)\n",
    "\n",
    "\n",
    "# check palindrome without sting reverse method\n",
    "\n",
    "\n",
    "def palindrome(x):\n",
    "    \n",
    "    left = 0                                        # m a d a m\n",
    "    right = len(x)-1                                # 0 1 2 3 4\n",
    "\n",
    "    while left < right:                            #Compare first and last index of a str\n",
    "        if x[left] != x[right]:\n",
    "            return False\n",
    "        else:\n",
    "            left+=1\n",
    "            right-=1\n",
    "            return True\n",
    "\n",
    "print(palindrome(x))\n",
    "\n",
    "\n"
   ]
  },
  {
   "cell_type": "code",
   "execution_count": null,
   "id": "93ed176a",
   "metadata": {},
   "outputs": [
    {
     "name": "stdout",
     "output_type": "stream",
     "text": [
      "[22, 24, 28, 90, 67, 64, 33, 17, 20, 65]\n",
      "67\n"
     ]
    }
   ],
   "source": [
    "#find second largest number in a list\n",
    "\n",
    "import random\n",
    "x = [random.randint(1,100) for _ in range(10)]\n",
    "\n",
    "print(x)\n",
    "\n",
    "\n",
    "first = second = 0\n",
    "\n",
    "for i in x:\n",
    "    if i>second:\n",
    "        second=i\n",
    "        if second>first:\n",
    "            temp = second\n",
    "            second = first\n",
    "            first = temp\n",
    "\n",
    "print(second)\n",
    "\n",
    "#Explanation declare 2 variables "
   ]
  },
  {
   "cell_type": "code",
   "execution_count": null,
   "id": "952a6fd1",
   "metadata": {},
   "outputs": [],
   "source": [
    "#merge sort\n",
    "\n",
    "def merge_sort(arr):\n",
    "    if len(arr) <= 1:\n",
    "        return arr\n",
    "\n",
    "    # Divide\n",
    "    mid = len(arr) // 2\n",
    "    left = merge_sort(arr[:mid])\n",
    "    right = merge_sort(arr[mid:])\n",
    "\n",
    "    # Conquer (Merge)\n",
    "    return merge(left, right)\n",
    "\n",
    "def merge(left, right):\n",
    "    sorted_arr = []\n",
    "    i = j = 0\n",
    "\n",
    "    # Compare and merge\n",
    "    while i < len(left) and j < len(right):\n",
    "        if left[i] <= right[j]:\n",
    "            sorted_arr.append(left[i])\n",
    "            i += 1\n",
    "        else:\n",
    "            sorted_arr.append(right[j])\n",
    "            j += 1\n",
    "\n",
    "    # Append remaining elements\n",
    "    sorted_arr.extend(left[i:])\n",
    "\n",
    "\n",
    "# Example usage\n",
    "arr = [5, 2, 9, 1, 5, 6]"
   ]
  },
  {
   "cell_type": "markdown",
   "id": "b93d401e",
   "metadata": {},
   "source": [
    "## HPE Interview Questions\n",
    "\n"
   ]
  },
  {
   "cell_type": "code",
   "execution_count": null,
   "id": "4ac4a33a",
   "metadata": {},
   "outputs": [
    {
     "name": "stdout",
     "output_type": "stream",
     "text": [
      "[3, 7, 11]\n"
     ]
    }
   ],
   "source": [
    "#sum of digits inside an nested-list\n",
    "\n",
    "# input [(1,2),(3,4),(5,6)]\n",
    "# output [3,7,11]\n",
    "\n",
    "x =  [(1,2),(3,4),(5,6)]\n",
    "y=[]\n",
    "for i in x:\n",
    "    sum = 0\n",
    "    for j in i:\n",
    "        sum+=j\n",
    "    y.append(sum)\n",
    "\n",
    "print(y)\n"
   ]
  },
  {
   "cell_type": "code",
   "execution_count": null,
   "id": "9153c626",
   "metadata": {},
   "outputs": [
    {
     "name": "stdout",
     "output_type": "stream",
     "text": [
      "I1am4a6python13developer\n"
     ]
    }
   ],
   "source": [
    "#fill the space with index value for the string \n",
    "\n",
    "\n",
    "# ip -> 'I am a python developer'\n",
    "# op -> 'I1am4a6python13developer'\n",
    "\n",
    "count = 0\n",
    "x='I am a python developer'\n",
    "new=''\n",
    "for i in x:\n",
    "    if i==' ':\n",
    "        new+=str(count)\n",
    "    else:\n",
    "        new+=i\n",
    "    count+=1\n",
    "\n",
    "print(new)"
   ]
  },
  {
   "cell_type": "markdown",
   "id": "3f130628",
   "metadata": {},
   "source": [
    "## EY interview 1"
   ]
  },
  {
   "cell_type": "code",
   "execution_count": 2,
   "id": "fdb0c980",
   "metadata": {},
   "outputs": [
    {
     "name": "stdout",
     "output_type": "stream",
     "text": [
      "True\n"
     ]
    }
   ],
   "source": [
    "#anagram\n",
    "\n",
    "x= 'fired'\n",
    "y= 'fried'\n",
    "\n",
    "def anagram(strings):\n",
    "    new = list(strings)\n",
    "    new.sort()\n",
    "    return new\n",
    "\n",
    "if anagram(x)==anagram(y):\n",
    "    print(True)"
   ]
  },
  {
   "cell_type": "code",
   "execution_count": 8,
   "id": "5ab5ab89",
   "metadata": {},
   "outputs": [
    {
     "name": "stdout",
     "output_type": "stream",
     "text": [
      "[0, 1, 1, 2, 3, 5, 8, 13, 21, 34]\n"
     ]
    }
   ],
   "source": [
    "#fbonaci:\n",
    "\n",
    "x= 10\n",
    "a=0;b=1\n",
    "new=[]\n",
    "count=1\n",
    "while count<=x:\n",
    "    new.append(a)\n",
    "    a,b=b,a+b\n",
    "    count+=1\n",
    "\n",
    "print(new)"
   ]
  },
  {
   "cell_type": "markdown",
   "id": "f0ff8976",
   "metadata": {},
   "source": [
    "## Cassini Systems"
   ]
  },
  {
   "cell_type": "markdown",
   "id": "2376902f",
   "metadata": {},
   "source": []
  },
  {
   "cell_type": "markdown",
   "id": "ae06efea",
   "metadata": {},
   "source": [
    "## Roanuz"
   ]
  },
  {
   "cell_type": "code",
   "execution_count": null,
   "id": "2a5238da",
   "metadata": {},
   "outputs": [],
   "source": []
  },
  {
   "cell_type": "markdown",
   "id": "f0d18900",
   "metadata": {},
   "source": [
    "## Topics"
   ]
  },
  {
   "cell_type": "markdown",
   "id": "3f24344f",
   "metadata": {},
   "source": [
    "                                        Interactive Mode vs Script Mode                                         \n",
    "                        \n",
    "> Interactive Mode                                             \n",
    "\n",
    "* A mode where you type Python commands line-by-line and get immediate results.\n",
    "* Typically used for quick testing, debugging, or learning.\n",
    "\n",
    "**How to Access:**\n",
    "\n",
    "* Open a terminal and type python or python3.\n",
    "* You’ll see the Python prompt: >>>\n",
    "\n",
    "**Characteristics:**\n",
    "* Immediate feedback.\n",
    "* No need to save code to a file.\n",
    "* Ideal for experimenting with small code snippets.\n",
    "\n",
    ">  Script Mode \n",
    "\n",
    "**What It Is:**\n",
    "\n",
    "* A mode where you write Python code in a .py file and execute the entire file at once.\n",
    "Used for developing applications, automation scripts, or any structured program.\n",
    "\n",
    "**How to Run:**\n",
    "\n",
    "* Save your code in a file like script.py.\n",
    "* Run it via terminal: python script.py\n",
    "\n",
    "\n",
    "\n",
    "**Characteristics:**\n",
    "\n",
    "* Executes all code at once.\n",
    "* Better for writing reusable and maintainable code.\n",
    "* Supports complex logic, functions, and modules.\n",
    "\n",
    "\n",
    "*********\n"
   ]
  },
  {
   "cell_type": "markdown",
   "id": "64723f45",
   "metadata": {},
   "source": [
    "> Exceptions in python\n",
    "\n",
    "\n",
    "Exception in Python is used to handle errors that happen during program execution.\n",
    "The code that might cause an error is written inside a try block, and the error-handling code goes inside the except block.\n",
    "This helps prevent the program from crashing when something goes wrong.\n",
    "\n"
   ]
  },
  {
   "cell_type": "code",
   "execution_count": 2,
   "id": "9861268c",
   "metadata": {},
   "outputs": [
    {
     "name": "stdout",
     "output_type": "stream",
     "text": [
      "Cannot divide by zero\n"
     ]
    }
   ],
   "source": [
    "#Exceptions in python\n",
    "\n",
    "try:\n",
    "    print(10 / 0)\n",
    "except ZeroDivisionError:\n",
    "    print(\"Cannot divide by zero\")\n",
    "\n"
   ]
  },
  {
   "cell_type": "markdown",
   "id": "f22a4ed6",
   "metadata": {},
   "source": [
    "**Python Memory Management**"
   ]
  },
  {
   "cell_type": "code",
   "execution_count": null,
   "id": "08879d1a",
   "metadata": {},
   "outputs": [],
   "source": [
    "#Private Heap Memory\n",
    "\n",
    "import sys\n",
    "\n",
    "x = [1, 2, 3]\n",
    "print(\"Memory size of x:\", sys.getsizeof(x))  # Shows memory used by the list object"
   ]
  },
  {
   "cell_type": "code",
   "execution_count": null,
   "id": "26618a7b",
   "metadata": {},
   "outputs": [],
   "source": [
    "#Memory Allocation\n",
    "import sys\n",
    "\n",
    "x = []\n",
    "print(\"Initial size:\", sys.getsizeof(x))\n",
    "\n",
    "x.extend(range(100))\n",
    "print(\"Size after adding 100 elements:\", sys.getsizeof(x))"
   ]
  },
  {
   "cell_type": "markdown",
   "id": "bd51eebf",
   "metadata": {},
   "source": [
    "### Pythn Libaries"
   ]
  },
  {
   "cell_type": "markdown",
   "id": "4349b4f3",
   "metadata": {},
   "source": [
    "##### Common numpy syntax"
   ]
  },
  {
   "cell_type": "code",
   "execution_count": null,
   "id": "0374dc5d",
   "metadata": {},
   "outputs": [],
   "source": [
    "import numpy as np\n",
    "\n",
    "x = np.array([1,2,3,4])\n",
    "x"
   ]
  },
  {
   "cell_type": "code",
   "execution_count": null,
   "id": "48dcc8be",
   "metadata": {},
   "outputs": [
    {
     "name": "stdout",
     "output_type": "stream",
     "text": [
      "['ate', 'bat', 'eat', 'tab', 'tea', 'fired', 'fried', 'dog', 'god', 'gold'] ga\n",
      "[['ate', 'eat', 'tea'], ['bat', 'tab'], ['fired', 'fried'], ['dog', 'god'], ['gold']]\n"
     ]
    }
   ],
   "source": [
    "# Manual sort function for characters in a word\n",
    "def manual_sort(word):\n",
    "    chars = []\n",
    "    for ch in word:\n",
    "        chars.append(ch)\n",
    "\n",
    "    # Bubble sort\n",
    "    for i in range(len(chars)):\n",
    "        for j in range(i + 1, len(chars)):\n",
    "            if chars[i] > chars[j]:\n",
    "                chars[i], chars[j] = chars[j], chars[i]\n",
    "\n",
    "    sorted_word = ''\n",
    "    for ch in chars:\n",
    "        sorted_word += ch\n",
    "    return sorted_word\n",
    "\n",
    "# Function to group anagrams\n",
    "def group_anagrams(words):\n",
    "    groups = []\n",
    "    keys = []\n",
    "\n",
    "    for word in words:\n",
    "        key = manual_sort(word)\n",
    "\n",
    "        found = False\n",
    "        for i in range(len(keys)):\n",
    "            if keys[i] == key:\n",
    "                groups[i].append(word)\n",
    "                found = True\n",
    "                break\n",
    "\n",
    "        if not found:\n",
    "            keys.append(key)\n",
    "            groups.append([word])\n",
    "\n",
    "    return groups\n",
    "\n",
    "# Input list\n",
    "input_words = ['ate', 'bat', 'eat', 'tab', 'tea', 'fired', 'fried', 'dog', 'god', 'gold']\n",
    "output = group_anagrams(input_words)\n",
    "\n",
    "# Display result\n",
    "print(output)"
   ]
  },
  {
   "cell_type": "code",
   "execution_count": null,
   "id": "983c2beb",
   "metadata": {},
   "outputs": [
    {
     "name": "stdout",
     "output_type": "stream",
     "text": [
      "kishore\n",
      "['k', 'i', 's', 'h', 'o', 'r', 'e']\n",
      "ehikors\n"
     ]
    }
   ],
   "source": [
    "def manual_sort(word):\n",
    "    print(word)\n",
    "    # Step 1: Convert to list of characters\n",
    "    chars = []\n",
    "    for ch in word:\n",
    "        chars.append(ch)\n",
    "\n",
    "    print(chars)\n",
    "\n",
    "    # Step 2: Bubble Sort\n",
    "    for i in range(len(chars)):\n",
    "        for j in range(len(chars) - 1 - i):\n",
    "            if chars[j] > chars[j + 1]:\n",
    "                # Swap characters\n",
    "                temp = chars[j]\n",
    "                chars[j] = chars[j + 1]\n",
    "                chars[j + 1] = temp\n",
    "                \n",
    "\n",
    "    # Step 3: Join back to string\n",
    "    sorted_word = ''\n",
    "    for ch in chars:\n",
    "        sorted_word += ch\n",
    "\n",
    "    return sorted_word\n",
    "\n",
    "print(manual_sort(\"kishore\"))\n"
   ]
  },
  {
   "cell_type": "markdown",
   "id": "248d5990",
   "metadata": {},
   "source": [
    "Here’s a **simple and clear definition** of a generator in Python:\n",
    "\n",
    "> A **generator** is a type of function that lets you create an iterator, which gives one value at a time using the `yield` keyword, instead of returning all values at once like a normal function.\n",
    "\n",
    "### 🔑 Key idea:\n",
    "Generators are useful when you want to **save memory** and **process data efficiently**, especially with large datasets.\n",
    "\n",
    "Let me know if you'd like a diagram or analogy to visualize how it works!"
   ]
  },
  {
   "cell_type": "markdown",
   "id": "0d85e852",
   "metadata": {},
   "source": [
    " Faster First Result\n",
    "\n",
    "With a list, you wait until all items are created before you can use them.\n",
    "With a generator, you can start processing immediately, even if the full dataset takes time."
   ]
  },
  {
   "cell_type": "markdown",
   "id": "55db267f",
   "metadata": {},
   "source": [
    "Great question! Here's a **real-time example** that shows why generators are good for large data or when you don’t need everything at once:\n",
    "\n",
    "---\n",
    "\n",
    "### 📁 **Example: Reading a Large Log File**\n",
    "\n",
    "Imagine you have a **log file** that's several gigabytes in size — maybe from a server or application.\n",
    "\n",
    "If you try to read the entire file into memory using:\n",
    "\n",
    "```python\n",
    "with open(\"large_log.txt\") as f:\n",
    "    lines = f.readlines()  # ❌ Loads entire file into memory\n",
    "```\n",
    "\n",
    "This can **crash your system** or slow it down due to memory overload.\n",
    "\n",
    "---\n",
    "\n",
    "### ✅ Using a Generator Instead:\n",
    "\n",
    "```python\n",
    "def read_large_file(file_path):\n",
    "    with open(file_path) as f:\n",
    "        for line in f:\n",
    "            yield line  # ✅ Reads one line at a time\n",
    "\n",
    "# Usage\n",
    "for log_line in read_large_file(\"large_log.txt\"):\n",
    "    if \"ERROR\" in log_line:\n",
    "        print(log_line)\n",
    "```\n",
    "\n",
    "### 🔍 Why This Is Better:\n",
    "- **Memory-efficient**: Only one line is in memory at a time.\n",
    "- **Faster startup**: You can start processing immediately.\n",
    "- **Scalable**: Works even for files with millions of lines.\n",
    "\n",
    "---\n",
    "\n",
    "Would you like me to simulate this with a sample file or show how to use generators with streaming APIs or database queries?"
   ]
  },
  {
   "cell_type": "markdown",
   "id": "72518a40",
   "metadata": {},
   "source": [
    "In Python, both `is` and `==` are used for comparison, but they serve different purposes:\n",
    "\n",
    "*   **`==` (Equality Operator):** This operator compares the *values* of two objects. It checks if the objects have the same content.\n",
    "\n",
    "    ```python\n",
    "    a = [1, 2, 3]\n",
    "    b = [1, 2, 3]\n",
    "    print(a == b)  # Output: True (because their values are the same)\n",
    "    ```\n",
    "\n",
    "*   **`is` (Identity Operator):** This operator compares the *identity* of two objects. It checks if two variables refer to the *exact same object in memory*.\n",
    "\n",
    "    ```python\n",
    "    a = [1, 2, 3]\n",
    "    b = [1, 2, 3]\n",
    "    print(a is b)  # Output: False (because a and b are separate objects in memory, even if their values are the same)\n",
    "\n",
    "    c = a\n",
    "    print(a is c)  # Output: True (because c now refers to the exact same object as a)\n",
    "    ```\n",
    "\n",
    "**When to use which:**\n",
    "\n",
    "*   Use `==` when you want to compare if two objects have the same content or value. This is the more common comparison you'll perform.\n",
    "*   Use `is` when you want to check if two variables point to the identical object in memory. This is particularly useful when you need to know if you're dealing with the exact same instance, not just a copy with the same value.\n",
    "\n",
    "Here's an analogy:\n",
    "\n",
    "Imagine you have two identical books.\n",
    "\n",
    "*   If you ask \"Are these books `==` (equal) in content?\", the answer is yes, they both contain the same story.\n",
    "*   If you ask \"Are these books `is` the same physical object?\", the answer is no, they are two separate books, even if they look exactly alike and have the same content.\n",
    "\n",
    "If you then lend one of the books to a friend, and both you and your friend refer to \"that book,\" then both of you `is` referring to the same physical object.\n",
    "\n",
    "Would you like an illustration comparing `is` and `==` with an example? \n",
    "\n"
   ]
  },
  {
   "cell_type": "markdown",
   "id": "d0f32b1d",
   "metadata": {},
   "source": [
    "Okay, let's dive into a few more examples to clearly illustrate the difference between `is` and `==`.\n",
    "\n",
    "---\n",
    "\n",
    "### Example 1: Numbers (Integers)\n",
    "\n",
    "For small integers, Python has an optimization where it reuses the same objects for common numbers. This can sometimes be confusing.\n",
    "\n",
    "```python\n",
    "x = 5\n",
    "y = 5\n",
    "z = 1000\n",
    "w = 1000\n",
    "\n",
    "print(f\"x == y: {x == y}\") # True (values are the same)\n",
    "print(f\"x is y: {x is y}\") # True (for small integers, Python often reuses objects)\n",
    "\n",
    "print(f\"z == w: {z == w}\") # True (values are the same)\n",
    "print(f\"z is w: {z is w}\") # False (for larger integers, Python typically creates new objects)\n",
    "```\n",
    "The behavior of `is` with integers can be tricky because Python caches small integers (-5 to 256) for performance. Outside this range, `is` will usually return `False` even for identical values.\n",
    "\n",
    "---\n",
    "\n",
    "### Example 2: Strings\n",
    "\n",
    "Similar to integers, Python might optimize and reuse string objects for short, identical strings.\n",
    "\n",
    "```python\n",
    "str1 = \"hello\"\n",
    "str2 = \"hello\"\n",
    "str3 = \"hello world\"\n",
    "str4 = \"hello world\"\n",
    "\n",
    "print(f\"str1 == str2: {str1 == str2}\") # True (values are the same)\n",
    "print(f\"str1 is str2: {str1 is str2}\") # True (Python often interns short, identical strings)\n",
    "\n",
    "print(f\"str3 == str4: {str3 == str4}\") # True (values are the same)\n",
    "print(f\"str3 is str4: {str3 is str4}\") # False (longer strings are less likely to be interned, so they're separate objects)\n",
    "```\n",
    "Again, `is` behavior with strings can be influenced by Python's interning optimization. It's generally safer to use `==` when comparing string *values*.\n",
    "\n",
    "---\n",
    "\n",
    "### Example 3: Custom Objects\n",
    "\n",
    "This is where the distinction becomes most critical and clear. When you create instances of a class, each `new` instance is a distinct object in memory, even if their attributes have the same values.\n",
    "\n",
    "```python\n",
    "class Car:\n",
    "    def __init__(self, make, model):\n",
    "        self.make = make\n",
    "        self.model = model\n",
    "\n",
    "car1 = Car(\"Toyota\", \"Camry\")\n",
    "car2 = Car(\"Toyota\", \"Camry\")\n",
    "car3 = car1 # car3 now refers to the exact same object as car1\n",
    "\n",
    "print(f\"car1 == car2: {car1 == car2}\") # False (by default, custom objects don't implement == to compare attributes,\n",
    "                                     # so it falls back to comparing object identity, which is False here)\n",
    "                                     # UNLESS you define __eq__ method in your class\n",
    "\n",
    "print(f\"car1 is car2: {car1 is car2}\") # False (car1 and car2 are two separate Car objects)\n",
    "\n",
    "print(f\"car1 is car3: {car1 is car3}\") # True (car3 is literally the same object as car1)\n",
    "```\n"
   ]
  },
  {
   "cell_type": "markdown",
   "id": "c68ad897",
   "metadata": {},
   "source": [
    "\n",
    "**Important Note for Custom Objects:** If you want `==` to return `True` for `car1 == car2` in the example above (meaning you want to compare their attributes), you need to define an `__eq__` method in your `Car` class:\n",
    "\n",
    "```python\n",
    "class Car:\n",
    "    def __init__(self, make, model):\n",
    "        self.make = make\n",
    "        self.model = model\n",
    "\n",
    "    def __eq__(self, other):\n",
    "        if not isinstance(other, Car):\n",
    "            return NotImplemented\n",
    "        return self.make == other.make and self.model == other.model\n",
    "\n",
    "car1 = Car(\"Toyota\", \"Camry\")\n",
    "car2 = Car(\"Toyota\", \"Camry\")\n",
    "car3 = car1\n",
    "\n",
    "print(f\"car1 == car2 (with __eq__): {car1 == car2}\") # True (because we defined __eq__ to compare attributes)\n",
    "print(f\"car1 is car2 (with __eq__): {car1 is car2}\") # False (still separate objects)\n",
    "```\n",
    "This illustrates that `is` is about *object identity* (memory address), while `==` is about *value equivalence*, which you can define yourself for custom objects.\n",
    "\n",
    "---\n",
    "\n",
    "I hope these examples clarify the distinction! Would you like an image visualizing the memory addresses for `is` vs. `==`?"
   ]
  }
 ],
 "metadata": {
  "kernelspec": {
   "display_name": "Python 3",
   "language": "python",
   "name": "python3"
  },
  "language_info": {
   "codemirror_mode": {
    "name": "ipython",
    "version": 3
   },
   "file_extension": ".py",
   "mimetype": "text/x-python",
   "name": "python",
   "nbconvert_exporter": "python",
   "pygments_lexer": "ipython3",
   "version": "3.13.7"
  }
 },
 "nbformat": 4,
 "nbformat_minor": 5
}
